{
 "cells": [
  {
   "cell_type": "markdown",
   "metadata": {},
   "source": [
    "#### 따릉이\n",
    "    - 서울시 공공자전거 대여소 정보\n",
    "    - 서울시 공공자전거 대여소별 이용정보(월별)\n",
    "    - 서울시 공공자전거 대여소별 이용정보(시간대별)"
   ]
  },
  {
   "cell_type": "code",
   "execution_count": 4,
   "metadata": {},
   "outputs": [],
   "source": [
    "import pandas as pd\n",
    "import matplotlib.pyplot as plt\n",
    "import numpy as np\n",
    "import seaborn as sns\n",
    "\n",
    "import warnings\n",
    "warnings.simplefilter(\"ignore\") # 무시할게\n",
    "\n",
    "plt.style.use(\"seaborn-v0_8-whitegrid\")\n",
    "sns.set(rc={\"figure.figsize\":(10,5)})\n",
    "\n",
    "plt.rcParams[\"font.family\"] = \"Apple SD Gothic Neo\"\n",
    "plt.rcParams[\"axes.unicode_minus\"] = False"
   ]
  },
  {
   "cell_type": "markdown",
   "metadata": {},
   "source": [
    "#### 1. 데이터 로드"
   ]
  },
  {
   "cell_type": "code",
   "execution_count": 9,
   "metadata": {},
   "outputs": [],
   "source": [
    "# 대여소 정보\n",
    "bike1 = pd.read_excel(\"./data/공공자전거 대여소 정보(2212).xlsx\",skiprows=4)\n",
    "\n",
    "# 대여소별 이용정보(월별)\n",
    "bike2 = pd.read_excel(\"./data/서울특별시 공공자전거 대여소별 이용정보(월별)_22.7-22.12.xlsx\")\n",
    "\n",
    "# 이용정보(시간대별)\n",
    "bike3 = pd.read_csv(\"./data/서울특별시 공공자전거 이용정보(시간대별)_22.12.csv\",encoding='cp949')"
   ]
  },
  {
   "cell_type": "markdown",
   "metadata": {},
   "source": [
    "#### 2. 데이터 탐색"
   ]
  },
  {
   "cell_type": "code",
   "execution_count": 10,
   "metadata": {},
   "outputs": [
    {
     "data": {
      "text/html": [
       "<div>\n",
       "<style scoped>\n",
       "    .dataframe tbody tr th:only-of-type {\n",
       "        vertical-align: middle;\n",
       "    }\n",
       "\n",
       "    .dataframe tbody tr th {\n",
       "        vertical-align: top;\n",
       "    }\n",
       "\n",
       "    .dataframe thead th {\n",
       "        text-align: right;\n",
       "    }\n",
       "</style>\n",
       "<table border=\"1\" class=\"dataframe\">\n",
       "  <thead>\n",
       "    <tr style=\"text-align: right;\">\n",
       "      <th></th>\n",
       "      <th>Unnamed: 0</th>\n",
       "      <th>Unnamed: 1</th>\n",
       "      <th>Unnamed: 2</th>\n",
       "      <th>Unnamed: 3</th>\n",
       "      <th>Unnamed: 4</th>\n",
       "      <th>Unnamed: 5</th>\n",
       "      <th>Unnamed: 6</th>\n",
       "      <th>Unnamed: 7</th>\n",
       "      <th>Unnamed: 8</th>\n",
       "      <th>Unnamed: 9</th>\n",
       "    </tr>\n",
       "  </thead>\n",
       "  <tbody>\n",
       "    <tr>\n",
       "      <th>0</th>\n",
       "      <td>301</td>\n",
       "      <td>경복궁역 7번출구 앞</td>\n",
       "      <td>종로구</td>\n",
       "      <td>서울특별시 종로구 사직로 지하130 경복궁역 7번출구 앞</td>\n",
       "      <td>37.575794</td>\n",
       "      <td>126.971451</td>\n",
       "      <td>2015-10-07 12:03:46</td>\n",
       "      <td>20.0</td>\n",
       "      <td>NaN</td>\n",
       "      <td>LCD</td>\n",
       "    </tr>\n",
       "  </tbody>\n",
       "</table>\n",
       "</div>"
      ],
      "text/plain": [
       "   Unnamed: 0    Unnamed: 1 Unnamed: 2                       Unnamed: 3  \\\n",
       "0         301   경복궁역 7번출구 앞        종로구  서울특별시 종로구 사직로 지하130 경복궁역 7번출구 앞   \n",
       "\n",
       "   Unnamed: 4  Unnamed: 5          Unnamed: 6  Unnamed: 7  Unnamed: 8  \\\n",
       "0   37.575794  126.971451 2015-10-07 12:03:46        20.0         NaN   \n",
       "\n",
       "  Unnamed: 9  \n",
       "0        LCD  "
      ]
     },
     "execution_count": 10,
     "metadata": {},
     "output_type": "execute_result"
    }
   ],
   "source": [
    "bike1.head(1)"
   ]
  },
  {
   "cell_type": "code",
   "execution_count": 11,
   "metadata": {},
   "outputs": [
    {
     "data": {
      "text/html": [
       "<div>\n",
       "<style scoped>\n",
       "    .dataframe tbody tr th:only-of-type {\n",
       "        vertical-align: middle;\n",
       "    }\n",
       "\n",
       "    .dataframe tbody tr th {\n",
       "        vertical-align: top;\n",
       "    }\n",
       "\n",
       "    .dataframe thead th {\n",
       "        text-align: right;\n",
       "    }\n",
       "</style>\n",
       "<table border=\"1\" class=\"dataframe\">\n",
       "  <thead>\n",
       "    <tr style=\"text-align: right;\">\n",
       "      <th></th>\n",
       "      <th>자치구</th>\n",
       "      <th>대여소명</th>\n",
       "      <th>기준년월</th>\n",
       "      <th>대여건수</th>\n",
       "      <th>반납건수</th>\n",
       "    </tr>\n",
       "  </thead>\n",
       "  <tbody>\n",
       "    <tr>\n",
       "      <th>0</th>\n",
       "      <td>강남구</td>\n",
       "      <td>2301. 현대고등학교 건너편</td>\n",
       "      <td>202207</td>\n",
       "      <td>2170</td>\n",
       "      <td>2183</td>\n",
       "    </tr>\n",
       "    <tr>\n",
       "      <th>1</th>\n",
       "      <td>강남구</td>\n",
       "      <td>2302. 교보타워 버스정류장(신논현역 3번출구 후면)</td>\n",
       "      <td>202207</td>\n",
       "      <td>1140</td>\n",
       "      <td>1143</td>\n",
       "    </tr>\n",
       "  </tbody>\n",
       "</table>\n",
       "</div>"
      ],
      "text/plain": [
       "   자치구                            대여소명    기준년월  대여건수  반납건수\n",
       "0  강남구                2301. 현대고등학교 건너편  202207  2170  2183\n",
       "1  강남구  2302. 교보타워 버스정류장(신논현역 3번출구 후면)  202207  1140  1143"
      ]
     },
     "execution_count": 11,
     "metadata": {},
     "output_type": "execute_result"
    }
   ],
   "source": [
    "bike2.head(2)"
   ]
  },
  {
   "cell_type": "code",
   "execution_count": 12,
   "metadata": {},
   "outputs": [
    {
     "data": {
      "text/html": [
       "<div>\n",
       "<style scoped>\n",
       "    .dataframe tbody tr th:only-of-type {\n",
       "        vertical-align: middle;\n",
       "    }\n",
       "\n",
       "    .dataframe tbody tr th {\n",
       "        vertical-align: top;\n",
       "    }\n",
       "\n",
       "    .dataframe thead th {\n",
       "        text-align: right;\n",
       "    }\n",
       "</style>\n",
       "<table border=\"1\" class=\"dataframe\">\n",
       "  <thead>\n",
       "    <tr style=\"text-align: right;\">\n",
       "      <th></th>\n",
       "      <th>대여일자</th>\n",
       "      <th>대여시간</th>\n",
       "      <th>대여소번호</th>\n",
       "      <th>대여소명</th>\n",
       "      <th>대여구분코드</th>\n",
       "      <th>성별</th>\n",
       "      <th>연령대코드</th>\n",
       "      <th>이용건수</th>\n",
       "      <th>운동량</th>\n",
       "      <th>탄소량</th>\n",
       "      <th>이동거리(M)</th>\n",
       "      <th>이용시간(분)</th>\n",
       "    </tr>\n",
       "  </thead>\n",
       "  <tbody>\n",
       "    <tr>\n",
       "      <th>0</th>\n",
       "      <td>2022-12-01</td>\n",
       "      <td>0</td>\n",
       "      <td>746</td>\n",
       "      <td>746. 목동2단지 상가</td>\n",
       "      <td>정기권</td>\n",
       "      <td>NaN</td>\n",
       "      <td>~10대</td>\n",
       "      <td>1</td>\n",
       "      <td>13.54</td>\n",
       "      <td>0.13</td>\n",
       "      <td>570.0</td>\n",
       "      <td>3</td>\n",
       "    </tr>\n",
       "  </tbody>\n",
       "</table>\n",
       "</div>"
      ],
      "text/plain": [
       "         대여일자  대여시간  대여소번호           대여소명 대여구분코드   성별 연령대코드  이용건수    운동량  \\\n",
       "0  2022-12-01     0    746  746. 목동2단지 상가    정기권  NaN  ~10대     1  13.54   \n",
       "\n",
       "    탄소량  이동거리(M)  이용시간(분)  \n",
       "0  0.13    570.0        3  "
      ]
     },
     "execution_count": 12,
     "metadata": {},
     "output_type": "execute_result"
    }
   ],
   "source": [
    "bike3.head(1)"
   ]
  },
  {
   "cell_type": "code",
   "execution_count": 15,
   "metadata": {},
   "outputs": [
    {
     "name": "stdout",
     "output_type": "stream",
     "text": [
      "(2719, 10)\n",
      "(16019, 5)\n",
      "(1638969, 12)\n"
     ]
    }
   ],
   "source": [
    "# 행/열 확인\n",
    "print(bike1.shape)\n",
    "print(bike2.shape)\n",
    "print(bike3.shape)"
   ]
  },
  {
   "cell_type": "code",
   "execution_count": 16,
   "metadata": {},
   "outputs": [
    {
     "name": "stdout",
     "output_type": "stream",
     "text": [
      "<class 'pandas.core.frame.DataFrame'>\n",
      "RangeIndex: 2719 entries, 0 to 2718\n",
      "Data columns (total 10 columns):\n",
      " #   Column      Non-Null Count  Dtype         \n",
      "---  ------      --------------  -----         \n",
      " 0   Unnamed: 0  2719 non-null   int64         \n",
      " 1   Unnamed: 1  2719 non-null   object        \n",
      " 2   Unnamed: 2  2719 non-null   object        \n",
      " 3   Unnamed: 3  2719 non-null   object        \n",
      " 4   Unnamed: 4  2719 non-null   float64       \n",
      " 5   Unnamed: 5  2719 non-null   float64       \n",
      " 6   Unnamed: 6  2719 non-null   datetime64[ns]\n",
      " 7   Unnamed: 7  1200 non-null   float64       \n",
      " 8   Unnamed: 8  1520 non-null   float64       \n",
      " 9   Unnamed: 9  2719 non-null   object        \n",
      "dtypes: datetime64[ns](1), float64(4), int64(1), object(4)\n",
      "memory usage: 212.6+ KB\n"
     ]
    }
   ],
   "source": [
    "bike1.info()"
   ]
  },
  {
   "cell_type": "code",
   "execution_count": 19,
   "metadata": {},
   "outputs": [
    {
     "data": {
      "text/html": [
       "<div>\n",
       "<style scoped>\n",
       "    .dataframe tbody tr th:only-of-type {\n",
       "        vertical-align: middle;\n",
       "    }\n",
       "\n",
       "    .dataframe tbody tr th {\n",
       "        vertical-align: top;\n",
       "    }\n",
       "\n",
       "    .dataframe thead th {\n",
       "        text-align: right;\n",
       "    }\n",
       "</style>\n",
       "<table border=\"1\" class=\"dataframe\">\n",
       "  <thead>\n",
       "    <tr style=\"text-align: right;\">\n",
       "      <th></th>\n",
       "      <th>Unnamed: 0</th>\n",
       "      <th>Unnamed: 4</th>\n",
       "      <th>Unnamed: 5</th>\n",
       "      <th>Unnamed: 6</th>\n",
       "      <th>Unnamed: 7</th>\n",
       "      <th>Unnamed: 8</th>\n",
       "    </tr>\n",
       "  </thead>\n",
       "  <tbody>\n",
       "    <tr>\n",
       "      <th>count</th>\n",
       "      <td>2719.000000</td>\n",
       "      <td>2719.000000</td>\n",
       "      <td>2719.000000</td>\n",
       "      <td>2719</td>\n",
       "      <td>1200.000000</td>\n",
       "      <td>1520.000000</td>\n",
       "    </tr>\n",
       "    <tr>\n",
       "      <th>mean</th>\n",
       "      <td>2274.932696</td>\n",
       "      <td>37.547546</td>\n",
       "      <td>126.991597</td>\n",
       "      <td>2019-02-04 23:03:28.864654336</td>\n",
       "      <td>12.403333</td>\n",
       "      <td>11.817763</td>\n",
       "    </tr>\n",
       "    <tr>\n",
       "      <th>min</th>\n",
       "      <td>102.000000</td>\n",
       "      <td>37.430977</td>\n",
       "      <td>126.798599</td>\n",
       "      <td>2015-01-07 00:00:00</td>\n",
       "      <td>5.000000</td>\n",
       "      <td>3.000000</td>\n",
       "    </tr>\n",
       "    <tr>\n",
       "      <th>25%</th>\n",
       "      <td>978.500000</td>\n",
       "      <td>37.505438</td>\n",
       "      <td>126.915016</td>\n",
       "      <td>2017-06-13 14:54:26.500000</td>\n",
       "      <td>10.000000</td>\n",
       "      <td>10.000000</td>\n",
       "    </tr>\n",
       "    <tr>\n",
       "      <th>50%</th>\n",
       "      <td>2002.000000</td>\n",
       "      <td>37.546089</td>\n",
       "      <td>127.002701</td>\n",
       "      <td>2018-10-29 00:00:00</td>\n",
       "      <td>10.000000</td>\n",
       "      <td>10.000000</td>\n",
       "    </tr>\n",
       "    <tr>\n",
       "      <th>75%</th>\n",
       "      <td>3655.500000</td>\n",
       "      <td>37.577394</td>\n",
       "      <td>127.063728</td>\n",
       "      <td>2020-10-29 00:00:00</td>\n",
       "      <td>15.000000</td>\n",
       "      <td>14.000000</td>\n",
       "    </tr>\n",
       "    <tr>\n",
       "      <th>max</th>\n",
       "      <td>6053.000000</td>\n",
       "      <td>37.691013</td>\n",
       "      <td>127.180756</td>\n",
       "      <td>2022-12-23 00:00:00</td>\n",
       "      <td>46.000000</td>\n",
       "      <td>55.000000</td>\n",
       "    </tr>\n",
       "    <tr>\n",
       "      <th>std</th>\n",
       "      <td>1520.493874</td>\n",
       "      <td>0.052195</td>\n",
       "      <td>0.092629</td>\n",
       "      <td>NaN</td>\n",
       "      <td>4.800159</td>\n",
       "      <td>5.443257</td>\n",
       "    </tr>\n",
       "  </tbody>\n",
       "</table>\n",
       "</div>"
      ],
      "text/plain": [
       "        Unnamed: 0   Unnamed: 4   Unnamed: 5                     Unnamed: 6  \\\n",
       "count  2719.000000  2719.000000  2719.000000                           2719   \n",
       "mean   2274.932696    37.547546   126.991597  2019-02-04 23:03:28.864654336   \n",
       "min     102.000000    37.430977   126.798599            2015-01-07 00:00:00   \n",
       "25%     978.500000    37.505438   126.915016     2017-06-13 14:54:26.500000   \n",
       "50%    2002.000000    37.546089   127.002701            2018-10-29 00:00:00   \n",
       "75%    3655.500000    37.577394   127.063728            2020-10-29 00:00:00   \n",
       "max    6053.000000    37.691013   127.180756            2022-12-23 00:00:00   \n",
       "std    1520.493874     0.052195     0.092629                            NaN   \n",
       "\n",
       "        Unnamed: 7   Unnamed: 8  \n",
       "count  1200.000000  1520.000000  \n",
       "mean     12.403333    11.817763  \n",
       "min       5.000000     3.000000  \n",
       "25%      10.000000    10.000000  \n",
       "50%      10.000000    10.000000  \n",
       "75%      15.000000    14.000000  \n",
       "max      46.000000    55.000000  \n",
       "std       4.800159     5.443257  "
      ]
     },
     "execution_count": 19,
     "metadata": {},
     "output_type": "execute_result"
    }
   ],
   "source": [
    "bike1.describe()"
   ]
  },
  {
   "cell_type": "code",
   "execution_count": 20,
   "metadata": {},
   "outputs": [
    {
     "data": {
      "text/html": [
       "<div>\n",
       "<style scoped>\n",
       "    .dataframe tbody tr th:only-of-type {\n",
       "        vertical-align: middle;\n",
       "    }\n",
       "\n",
       "    .dataframe tbody tr th {\n",
       "        vertical-align: top;\n",
       "    }\n",
       "\n",
       "    .dataframe thead th {\n",
       "        text-align: right;\n",
       "    }\n",
       "</style>\n",
       "<table border=\"1\" class=\"dataframe\">\n",
       "  <thead>\n",
       "    <tr style=\"text-align: right;\">\n",
       "      <th></th>\n",
       "      <th>Unnamed: 1</th>\n",
       "      <th>Unnamed: 2</th>\n",
       "      <th>Unnamed: 3</th>\n",
       "      <th>Unnamed: 9</th>\n",
       "    </tr>\n",
       "  </thead>\n",
       "  <tbody>\n",
       "    <tr>\n",
       "      <th>count</th>\n",
       "      <td>2719</td>\n",
       "      <td>2719</td>\n",
       "      <td>2719</td>\n",
       "      <td>2719</td>\n",
       "    </tr>\n",
       "    <tr>\n",
       "      <th>unique</th>\n",
       "      <td>2718</td>\n",
       "      <td>25</td>\n",
       "      <td>2643</td>\n",
       "      <td>3</td>\n",
       "    </tr>\n",
       "    <tr>\n",
       "      <th>top</th>\n",
       "      <td>한양수자인아파트 앞</td>\n",
       "      <td>송파구</td>\n",
       "      <td>국회의사당 경내</td>\n",
       "      <td>QR</td>\n",
       "    </tr>\n",
       "    <tr>\n",
       "      <th>freq</th>\n",
       "      <td>2</td>\n",
       "      <td>214</td>\n",
       "      <td>7</td>\n",
       "      <td>1519</td>\n",
       "    </tr>\n",
       "  </tbody>\n",
       "</table>\n",
       "</div>"
      ],
      "text/plain": [
       "         Unnamed: 1 Unnamed: 2 Unnamed: 3 Unnamed: 9\n",
       "count          2719       2719       2719       2719\n",
       "unique         2718         25       2643          3\n",
       "top      한양수자인아파트 앞        송파구   국회의사당 경내         QR\n",
       "freq              2        214          7       1519"
      ]
     },
     "execution_count": 20,
     "metadata": {},
     "output_type": "execute_result"
    }
   ],
   "source": [
    "bike1.describe(include=object)"
   ]
  },
  {
   "cell_type": "markdown",
   "metadata": {},
   "source": [
    "#### 3. 데이터 전처리\n",
    "    - 결측치 처리, 컬럼명 변경, 필요없는 컬럼 정리, 데이터 타입 변경..."
   ]
  },
  {
   "cell_type": "markdown",
   "metadata": {},
   "source": [
    "#### (1) bike1\n",
    "    - 1) 컬럼명 변경 "
   ]
  },
  {
   "cell_type": "code",
   "execution_count": 21,
   "metadata": {},
   "outputs": [
    {
     "data": {
      "text/html": [
       "<div>\n",
       "<style scoped>\n",
       "    .dataframe tbody tr th:only-of-type {\n",
       "        vertical-align: middle;\n",
       "    }\n",
       "\n",
       "    .dataframe tbody tr th {\n",
       "        vertical-align: top;\n",
       "    }\n",
       "\n",
       "    .dataframe thead th {\n",
       "        text-align: right;\n",
       "    }\n",
       "</style>\n",
       "<table border=\"1\" class=\"dataframe\">\n",
       "  <thead>\n",
       "    <tr style=\"text-align: right;\">\n",
       "      <th></th>\n",
       "      <th>대여소번호</th>\n",
       "      <th>대여소명</th>\n",
       "      <th>자치구</th>\n",
       "      <th>상세주소</th>\n",
       "      <th>위도</th>\n",
       "      <th>경도</th>\n",
       "      <th>설치시기</th>\n",
       "      <th>거치대수lcd</th>\n",
       "      <th>거치대수qr</th>\n",
       "      <th>운영방식</th>\n",
       "    </tr>\n",
       "  </thead>\n",
       "  <tbody>\n",
       "    <tr>\n",
       "      <th>0</th>\n",
       "      <td>301</td>\n",
       "      <td>경복궁역 7번출구 앞</td>\n",
       "      <td>종로구</td>\n",
       "      <td>서울특별시 종로구 사직로 지하130 경복궁역 7번출구 앞</td>\n",
       "      <td>37.575794</td>\n",
       "      <td>126.971451</td>\n",
       "      <td>2015-10-07 12:03:46</td>\n",
       "      <td>20.0</td>\n",
       "      <td>NaN</td>\n",
       "      <td>LCD</td>\n",
       "    </tr>\n",
       "  </tbody>\n",
       "</table>\n",
       "</div>"
      ],
      "text/plain": [
       "   대여소번호          대여소명  자치구                             상세주소         위도  \\\n",
       "0    301   경복궁역 7번출구 앞  종로구  서울특별시 종로구 사직로 지하130 경복궁역 7번출구 앞  37.575794   \n",
       "\n",
       "           경도                설치시기  거치대수lcd  거치대수qr 운영방식  \n",
       "0  126.971451 2015-10-07 12:03:46     20.0     NaN  LCD  "
      ]
     },
     "execution_count": 21,
     "metadata": {},
     "output_type": "execute_result"
    }
   ],
   "source": [
    "# 대여소번호, 대여소명, 자치구, 상세주소, 위도, 경도, 설치시기, 거치대수lcd, 거치대수qr, 운영방식\n",
    "bike1.columns = [\"대여소번호\", \"대여소명\", \"자치구\", \"상세주소\", \"위도\", \"경도\", \"설치시기\", \"거치대수lcd\", \"거치대수qr\", \"운영방식\"]\n",
    "bike1.head(1)"
   ]
  },
  {
   "cell_type": "markdown",
   "metadata": {},
   "source": [
    "    - 2) 컬럼 제거 : 상세주소, 위도, 경도"
   ]
  },
  {
   "cell_type": "code",
   "execution_count": 23,
   "metadata": {},
   "outputs": [],
   "source": [
    "bike1.drop(columns=['상세주소','위도','경도'],inplace=True)"
   ]
  },
  {
   "cell_type": "code",
   "execution_count": 24,
   "metadata": {},
   "outputs": [
    {
     "data": {
      "text/html": [
       "<div>\n",
       "<style scoped>\n",
       "    .dataframe tbody tr th:only-of-type {\n",
       "        vertical-align: middle;\n",
       "    }\n",
       "\n",
       "    .dataframe tbody tr th {\n",
       "        vertical-align: top;\n",
       "    }\n",
       "\n",
       "    .dataframe thead th {\n",
       "        text-align: right;\n",
       "    }\n",
       "</style>\n",
       "<table border=\"1\" class=\"dataframe\">\n",
       "  <thead>\n",
       "    <tr style=\"text-align: right;\">\n",
       "      <th></th>\n",
       "      <th>대여소번호</th>\n",
       "      <th>대여소명</th>\n",
       "      <th>자치구</th>\n",
       "      <th>설치시기</th>\n",
       "      <th>거치대수lcd</th>\n",
       "      <th>거치대수qr</th>\n",
       "      <th>운영방식</th>\n",
       "    </tr>\n",
       "  </thead>\n",
       "  <tbody>\n",
       "    <tr>\n",
       "      <th>0</th>\n",
       "      <td>301</td>\n",
       "      <td>경복궁역 7번출구 앞</td>\n",
       "      <td>종로구</td>\n",
       "      <td>2015-10-07 12:03:46</td>\n",
       "      <td>20.0</td>\n",
       "      <td>NaN</td>\n",
       "      <td>LCD</td>\n",
       "    </tr>\n",
       "  </tbody>\n",
       "</table>\n",
       "</div>"
      ],
      "text/plain": [
       "   대여소번호          대여소명  자치구                설치시기  거치대수lcd  거치대수qr 운영방식\n",
       "0    301   경복궁역 7번출구 앞  종로구 2015-10-07 12:03:46     20.0     NaN  LCD"
      ]
     },
     "execution_count": 24,
     "metadata": {},
     "output_type": "execute_result"
    }
   ],
   "source": [
    "bike1.head(1)"
   ]
  },
  {
   "cell_type": "markdown",
   "metadata": {},
   "source": [
    "    - 3) NaN 처리 : 0으로 채우기"
   ]
  },
  {
   "cell_type": "code",
   "execution_count": 25,
   "metadata": {},
   "outputs": [
    {
     "data": {
      "text/plain": [
       "대여소번호         0\n",
       "대여소명          0\n",
       "자치구           0\n",
       "설치시기          0\n",
       "거치대수lcd    1519\n",
       "거치대수qr     1199\n",
       "운영방식          0\n",
       "dtype: int64"
      ]
     },
     "execution_count": 25,
     "metadata": {},
     "output_type": "execute_result"
    }
   ],
   "source": [
    "bike1.isna().sum()"
   ]
  },
  {
   "cell_type": "code",
   "execution_count": 26,
   "metadata": {},
   "outputs": [],
   "source": [
    "# filna()\n",
    "bike1[\"거치대수lcd\"].fillna(0,inplace=True)\n",
    "bike1[\"거치대수qr\"].fillna(0,inplace=True)"
   ]
  },
  {
   "cell_type": "code",
   "execution_count": 27,
   "metadata": {},
   "outputs": [
    {
     "data": {
      "text/plain": [
       "대여소번호      0\n",
       "대여소명       0\n",
       "자치구        0\n",
       "설치시기       0\n",
       "거치대수lcd    0\n",
       "거치대수qr     0\n",
       "운영방식       0\n",
       "dtype: int64"
      ]
     },
     "execution_count": 27,
     "metadata": {},
     "output_type": "execute_result"
    }
   ],
   "source": [
    "bike1.isna().sum()"
   ]
  },
  {
   "cell_type": "markdown",
   "metadata": {},
   "source": [
    "    - 4) 데이터 타입 변경 : astype(변경할타입), pd.to_~~~"
   ]
  },
  {
   "cell_type": "code",
   "execution_count": 48,
   "metadata": {},
   "outputs": [
    {
     "data": {
      "text/plain": [
       "dtype('int64')"
      ]
     },
     "execution_count": 48,
     "metadata": {},
     "output_type": "execute_result"
    }
   ],
   "source": [
    "bike1['대여소번호'].dtype"
   ]
  },
  {
   "cell_type": "code",
   "execution_count": 49,
   "metadata": {},
   "outputs": [],
   "source": [
    "bike1[\"대여소번호\"] = bike1['대여소번호'].astype(object)\n",
    "# bike1[\"대여소번호\"] = bike1['대여소번호'].astype(int)"
   ]
  },
  {
   "cell_type": "code",
   "execution_count": 50,
   "metadata": {},
   "outputs": [
    {
     "data": {
      "text/plain": [
       "dtype('O')"
      ]
     },
     "execution_count": 50,
     "metadata": {},
     "output_type": "execute_result"
    }
   ],
   "source": [
    "bike1['대여소번호'].dtype"
   ]
  },
  {
   "cell_type": "markdown",
   "metadata": {},
   "source": [
    "#### (2) bike2\n",
    "    - 1) 대여소명에 있는 숫자랑 문자랑 분리"
   ]
  },
  {
   "cell_type": "code",
   "execution_count": 58,
   "metadata": {},
   "outputs": [
    {
     "data": {
      "text/html": [
       "<div>\n",
       "<style scoped>\n",
       "    .dataframe tbody tr th:only-of-type {\n",
       "        vertical-align: middle;\n",
       "    }\n",
       "\n",
       "    .dataframe tbody tr th {\n",
       "        vertical-align: top;\n",
       "    }\n",
       "\n",
       "    .dataframe thead th {\n",
       "        text-align: right;\n",
       "    }\n",
       "</style>\n",
       "<table border=\"1\" class=\"dataframe\">\n",
       "  <thead>\n",
       "    <tr style=\"text-align: right;\">\n",
       "      <th></th>\n",
       "      <th>자치구</th>\n",
       "      <th>대여소명</th>\n",
       "      <th>기준년월</th>\n",
       "      <th>대여건수</th>\n",
       "      <th>반납건수</th>\n",
       "      <th>대여소번호</th>\n",
       "      <th>대여소명_new</th>\n",
       "    </tr>\n",
       "  </thead>\n",
       "  <tbody>\n",
       "    <tr>\n",
       "      <th>0</th>\n",
       "      <td>강남구</td>\n",
       "      <td>2301. 현대고등학교 건너편</td>\n",
       "      <td>202207</td>\n",
       "      <td>2170</td>\n",
       "      <td>2183</td>\n",
       "      <td>2301</td>\n",
       "      <td>현대고등학교 건너편</td>\n",
       "    </tr>\n",
       "    <tr>\n",
       "      <th>1</th>\n",
       "      <td>강남구</td>\n",
       "      <td>2302. 교보타워 버스정류장(신논현역 3번출구 후면)</td>\n",
       "      <td>202207</td>\n",
       "      <td>1140</td>\n",
       "      <td>1143</td>\n",
       "      <td>2302</td>\n",
       "      <td>교보타워 버스정류장(신논현역 3번출구 후면)</td>\n",
       "    </tr>\n",
       "  </tbody>\n",
       "</table>\n",
       "</div>"
      ],
      "text/plain": [
       "   자치구                            대여소명    기준년월  대여건수  반납건수 대여소번호  \\\n",
       "0  강남구                2301. 현대고등학교 건너편  202207  2170  2183  2301   \n",
       "1  강남구  2302. 교보타워 버스정류장(신논현역 3번출구 후면)  202207  1140  1143  2302   \n",
       "\n",
       "                    대여소명_new  \n",
       "0                 현대고등학교 건너편  \n",
       "1   교보타워 버스정류장(신논현역 3번출구 후면)  "
      ]
     },
     "execution_count": 58,
     "metadata": {},
     "output_type": "execute_result"
    }
   ],
   "source": [
    "bike2.head(2)"
   ]
  },
  {
   "cell_type": "code",
   "execution_count": 56,
   "metadata": {},
   "outputs": [],
   "source": [
    "# bike2['대여소명'].dtypes\n",
    "\n",
    "# bike2[\"대여소명\"].str.split(\".\",expand=True)    # split 하면 리스트로 돌아온다 # expand=True split 한 데이터를 데이터프레임으로 나누어서 반환해줌\n",
    "bike2[\"대여소번호\"] = bike2[\"대여소명\"].str.split(\".\",expand=True)[0]\n",
    "bike2[\"대여소명_new\"] = bike2[\"대여소명\"].str.split(\".\",expand=True)[1]"
   ]
  },
  {
   "cell_type": "code",
   "execution_count": 57,
   "metadata": {},
   "outputs": [
    {
     "data": {
      "text/html": [
       "<div>\n",
       "<style scoped>\n",
       "    .dataframe tbody tr th:only-of-type {\n",
       "        vertical-align: middle;\n",
       "    }\n",
       "\n",
       "    .dataframe tbody tr th {\n",
       "        vertical-align: top;\n",
       "    }\n",
       "\n",
       "    .dataframe thead th {\n",
       "        text-align: right;\n",
       "    }\n",
       "</style>\n",
       "<table border=\"1\" class=\"dataframe\">\n",
       "  <thead>\n",
       "    <tr style=\"text-align: right;\">\n",
       "      <th></th>\n",
       "      <th>자치구</th>\n",
       "      <th>대여소명</th>\n",
       "      <th>기준년월</th>\n",
       "      <th>대여건수</th>\n",
       "      <th>반납건수</th>\n",
       "      <th>대여소번호</th>\n",
       "      <th>대여소명_new</th>\n",
       "    </tr>\n",
       "  </thead>\n",
       "  <tbody>\n",
       "    <tr>\n",
       "      <th>0</th>\n",
       "      <td>강남구</td>\n",
       "      <td>2301. 현대고등학교 건너편</td>\n",
       "      <td>202207</td>\n",
       "      <td>2170</td>\n",
       "      <td>2183</td>\n",
       "      <td>2301</td>\n",
       "      <td>현대고등학교 건너편</td>\n",
       "    </tr>\n",
       "  </tbody>\n",
       "</table>\n",
       "</div>"
      ],
      "text/plain": [
       "   자치구              대여소명    기준년월  대여건수  반납건수 대여소번호     대여소명_new\n",
       "0  강남구  2301. 현대고등학교 건너편  202207  2170  2183  2301   현대고등학교 건너편"
      ]
     },
     "execution_count": 57,
     "metadata": {},
     "output_type": "execute_result"
    }
   ],
   "source": [
    "bike2.head(1)"
   ]
  },
  {
   "cell_type": "code",
   "execution_count": 59,
   "metadata": {},
   "outputs": [
    {
     "data": {
      "text/html": [
       "<div>\n",
       "<style scoped>\n",
       "    .dataframe tbody tr th:only-of-type {\n",
       "        vertical-align: middle;\n",
       "    }\n",
       "\n",
       "    .dataframe tbody tr th {\n",
       "        vertical-align: top;\n",
       "    }\n",
       "\n",
       "    .dataframe thead th {\n",
       "        text-align: right;\n",
       "    }\n",
       "</style>\n",
       "<table border=\"1\" class=\"dataframe\">\n",
       "  <thead>\n",
       "    <tr style=\"text-align: right;\">\n",
       "      <th></th>\n",
       "      <th>자치구</th>\n",
       "      <th>대여소명</th>\n",
       "      <th>기준년월</th>\n",
       "      <th>대여건수</th>\n",
       "      <th>반납건수</th>\n",
       "      <th>대여소번호</th>\n",
       "      <th>대여소명_new</th>\n",
       "    </tr>\n",
       "  </thead>\n",
       "  <tbody>\n",
       "  </tbody>\n",
       "</table>\n",
       "</div>"
      ],
      "text/plain": [
       "Empty DataFrame\n",
       "Columns: [자치구, 대여소명, 기준년월, 대여건수, 반납건수, 대여소번호, 대여소명_new]\n",
       "Index: []"
      ]
     },
     "execution_count": 59,
     "metadata": {},
     "output_type": "execute_result"
    }
   ],
   "source": [
    "bike2[bike2['대여소명_new'].isnull()]"
   ]
  },
  {
   "cell_type": "markdown",
   "metadata": {},
   "source": [
    "#### (3) bike3\n",
    "    - 1) 대여소명에서 숫자 제거"
   ]
  },
  {
   "cell_type": "code",
   "execution_count": 60,
   "metadata": {},
   "outputs": [
    {
     "data": {
      "text/html": [
       "<div>\n",
       "<style scoped>\n",
       "    .dataframe tbody tr th:only-of-type {\n",
       "        vertical-align: middle;\n",
       "    }\n",
       "\n",
       "    .dataframe tbody tr th {\n",
       "        vertical-align: top;\n",
       "    }\n",
       "\n",
       "    .dataframe thead th {\n",
       "        text-align: right;\n",
       "    }\n",
       "</style>\n",
       "<table border=\"1\" class=\"dataframe\">\n",
       "  <thead>\n",
       "    <tr style=\"text-align: right;\">\n",
       "      <th></th>\n",
       "      <th>대여일자</th>\n",
       "      <th>대여시간</th>\n",
       "      <th>대여소번호</th>\n",
       "      <th>대여소명</th>\n",
       "      <th>대여구분코드</th>\n",
       "      <th>성별</th>\n",
       "      <th>연령대코드</th>\n",
       "      <th>이용건수</th>\n",
       "      <th>운동량</th>\n",
       "      <th>탄소량</th>\n",
       "      <th>이동거리(M)</th>\n",
       "      <th>이용시간(분)</th>\n",
       "    </tr>\n",
       "  </thead>\n",
       "  <tbody>\n",
       "    <tr>\n",
       "      <th>0</th>\n",
       "      <td>2022-12-01</td>\n",
       "      <td>0</td>\n",
       "      <td>746</td>\n",
       "      <td>746. 목동2단지 상가</td>\n",
       "      <td>정기권</td>\n",
       "      <td>NaN</td>\n",
       "      <td>~10대</td>\n",
       "      <td>1</td>\n",
       "      <td>13.54</td>\n",
       "      <td>0.13</td>\n",
       "      <td>570.0</td>\n",
       "      <td>3</td>\n",
       "    </tr>\n",
       "  </tbody>\n",
       "</table>\n",
       "</div>"
      ],
      "text/plain": [
       "         대여일자  대여시간  대여소번호           대여소명 대여구분코드   성별 연령대코드  이용건수    운동량  \\\n",
       "0  2022-12-01     0    746  746. 목동2단지 상가    정기권  NaN  ~10대     1  13.54   \n",
       "\n",
       "    탄소량  이동거리(M)  이용시간(분)  \n",
       "0  0.13    570.0        3  "
      ]
     },
     "execution_count": 60,
     "metadata": {},
     "output_type": "execute_result"
    }
   ],
   "source": [
    "bike3.head(1)"
   ]
  },
  {
   "cell_type": "code",
   "execution_count": 65,
   "metadata": {},
   "outputs": [],
   "source": [
    "bike3['대여소명_new'] = bike3['대여소명'].str.split(\".\",expand=True)[1]"
   ]
  },
  {
   "cell_type": "code",
   "execution_count": 66,
   "metadata": {},
   "outputs": [
    {
     "data": {
      "text/html": [
       "<div>\n",
       "<style scoped>\n",
       "    .dataframe tbody tr th:only-of-type {\n",
       "        vertical-align: middle;\n",
       "    }\n",
       "\n",
       "    .dataframe tbody tr th {\n",
       "        vertical-align: top;\n",
       "    }\n",
       "\n",
       "    .dataframe thead th {\n",
       "        text-align: right;\n",
       "    }\n",
       "</style>\n",
       "<table border=\"1\" class=\"dataframe\">\n",
       "  <thead>\n",
       "    <tr style=\"text-align: right;\">\n",
       "      <th></th>\n",
       "      <th>대여일자</th>\n",
       "      <th>대여시간</th>\n",
       "      <th>대여소번호</th>\n",
       "      <th>대여소명</th>\n",
       "      <th>대여구분코드</th>\n",
       "      <th>성별</th>\n",
       "      <th>연령대코드</th>\n",
       "      <th>이용건수</th>\n",
       "      <th>운동량</th>\n",
       "      <th>탄소량</th>\n",
       "      <th>이동거리(M)</th>\n",
       "      <th>이용시간(분)</th>\n",
       "      <th>대여소명_new</th>\n",
       "    </tr>\n",
       "  </thead>\n",
       "  <tbody>\n",
       "    <tr>\n",
       "      <th>0</th>\n",
       "      <td>2022-12-01</td>\n",
       "      <td>0</td>\n",
       "      <td>746</td>\n",
       "      <td>746. 목동2단지 상가</td>\n",
       "      <td>정기권</td>\n",
       "      <td>NaN</td>\n",
       "      <td>~10대</td>\n",
       "      <td>1</td>\n",
       "      <td>13.54</td>\n",
       "      <td>0.13</td>\n",
       "      <td>570.0</td>\n",
       "      <td>3</td>\n",
       "      <td>목동2단지 상가</td>\n",
       "    </tr>\n",
       "  </tbody>\n",
       "</table>\n",
       "</div>"
      ],
      "text/plain": [
       "         대여일자  대여시간  대여소번호           대여소명 대여구분코드   성별 연령대코드  이용건수    운동량  \\\n",
       "0  2022-12-01     0    746  746. 목동2단지 상가    정기권  NaN  ~10대     1  13.54   \n",
       "\n",
       "    탄소량  이동거리(M)  이용시간(분)   대여소명_new  \n",
       "0  0.13    570.0        3   목동2단지 상가  "
      ]
     },
     "execution_count": 66,
     "metadata": {},
     "output_type": "execute_result"
    }
   ],
   "source": [
    "bike3.head(1)"
   ]
  },
  {
   "cell_type": "markdown",
   "metadata": {},
   "source": [
    "    - 2) 성별"
   ]
  },
  {
   "cell_type": "code",
   "execution_count": 67,
   "metadata": {},
   "outputs": [
    {
     "data": {
      "text/plain": [
       "array([nan, 'F', 'M', 'm', 'f'], dtype=object)"
      ]
     },
     "execution_count": 67,
     "metadata": {},
     "output_type": "execute_result"
    }
   ],
   "source": [
    "bike3['성별'].unique()"
   ]
  },
  {
   "cell_type": "code",
   "execution_count": 68,
   "metadata": {},
   "outputs": [
    {
     "data": {
      "text/plain": [
       "성별\n",
       "M    726453\n",
       "F    385920\n",
       "m       292\n",
       "f        52\n",
       "Name: count, dtype: int64"
      ]
     },
     "execution_count": 68,
     "metadata": {},
     "output_type": "execute_result"
    }
   ],
   "source": [
    "bike3['성별'].value_counts()"
   ]
  },
  {
   "cell_type": "code",
   "execution_count": 70,
   "metadata": {},
   "outputs": [
    {
     "data": {
      "text/plain": [
       "Index([    867,    1649,    3403,    5721,    7897,   13671,   14049,   33324,\n",
       "         33718,   36315,\n",
       "       ...\n",
       "       1612807, 1616024, 1616034, 1618722, 1621076, 1621570, 1624521, 1631853,\n",
       "       1637470, 1638826],\n",
       "      dtype='int64', length=292)"
      ]
     },
     "execution_count": 70,
     "metadata": {},
     "output_type": "execute_result"
    }
   ],
   "source": [
    "# m => M, f => F 변경\n",
    "# loc[index이름,컬럼명] = \"M\"\n",
    "\n",
    "bike3.query(\"성별 == 'm'\").index"
   ]
  },
  {
   "cell_type": "code",
   "execution_count": 71,
   "metadata": {},
   "outputs": [],
   "source": [
    "bike3.loc[bike3.query(\"성별 == 'm'\").index,'성별'] = \"M\"\n",
    "bike3.loc[bike3.query(\"성별 == 'f'\").index,'성별'] = \"F\""
   ]
  },
  {
   "cell_type": "code",
   "execution_count": 72,
   "metadata": {},
   "outputs": [
    {
     "data": {
      "text/plain": [
       "array([nan, 'F', 'M'], dtype=object)"
      ]
     },
     "execution_count": 72,
     "metadata": {},
     "output_type": "execute_result"
    }
   ],
   "source": [
    "bike3['성별'].unique()"
   ]
  },
  {
   "cell_type": "code",
   "execution_count": 73,
   "metadata": {},
   "outputs": [
    {
     "data": {
      "text/plain": [
       "526252"
      ]
     },
     "execution_count": 73,
     "metadata": {},
     "output_type": "execute_result"
    }
   ],
   "source": [
    "bike3['성별'].isnull().sum()"
   ]
  },
  {
   "cell_type": "markdown",
   "metadata": {},
   "source": [
    "    - 3) 타입변환 : 대여일자, 운동량, 탄소량"
   ]
  },
  {
   "cell_type": "code",
   "execution_count": 74,
   "metadata": {},
   "outputs": [
    {
     "data": {
      "text/plain": [
       "대여일자         object\n",
       "대여시간          int64\n",
       "대여소번호         int64\n",
       "대여소명         object\n",
       "대여구분코드       object\n",
       "성별           object\n",
       "연령대코드        object\n",
       "이용건수          int64\n",
       "운동량          object\n",
       "탄소량          object\n",
       "이동거리(M)     float64\n",
       "이용시간(분)       int64\n",
       "대여소명_new     object\n",
       "dtype: object"
      ]
     },
     "execution_count": 74,
     "metadata": {},
     "output_type": "execute_result"
    }
   ],
   "source": [
    "bike3.dtypes"
   ]
  },
  {
   "cell_type": "code",
   "execution_count": null,
   "metadata": {},
   "outputs": [],
   "source": [
    "# bike3['운동량'].astype('float64')   # ValueError: could not convert string to float: '\\\\N'\n",
    "\n",
    "# pd.to_numeric(bike3['운동량'])  # ValueError: Unable to parse string \"\\N\""
   ]
  },
  {
   "cell_type": "code",
   "execution_count": 77,
   "metadata": {},
   "outputs": [
    {
     "data": {
      "text/html": [
       "<div>\n",
       "<style scoped>\n",
       "    .dataframe tbody tr th:only-of-type {\n",
       "        vertical-align: middle;\n",
       "    }\n",
       "\n",
       "    .dataframe tbody tr th {\n",
       "        vertical-align: top;\n",
       "    }\n",
       "\n",
       "    .dataframe thead th {\n",
       "        text-align: right;\n",
       "    }\n",
       "</style>\n",
       "<table border=\"1\" class=\"dataframe\">\n",
       "  <thead>\n",
       "    <tr style=\"text-align: right;\">\n",
       "      <th></th>\n",
       "      <th>대여일자</th>\n",
       "      <th>대여시간</th>\n",
       "      <th>대여소번호</th>\n",
       "      <th>대여소명</th>\n",
       "      <th>대여구분코드</th>\n",
       "      <th>성별</th>\n",
       "      <th>연령대코드</th>\n",
       "      <th>이용건수</th>\n",
       "      <th>운동량</th>\n",
       "      <th>탄소량</th>\n",
       "      <th>이동거리(M)</th>\n",
       "      <th>이용시간(분)</th>\n",
       "      <th>대여소명_new</th>\n",
       "    </tr>\n",
       "  </thead>\n",
       "  <tbody>\n",
       "    <tr>\n",
       "      <th>94</th>\n",
       "      <td>2022-12-01</td>\n",
       "      <td>0</td>\n",
       "      <td>4515</td>\n",
       "      <td>4515. 동문굿모닝탑</td>\n",
       "      <td>정기권</td>\n",
       "      <td>NaN</td>\n",
       "      <td>20대</td>\n",
       "      <td>1</td>\n",
       "      <td>\\N</td>\n",
       "      <td>\\N</td>\n",
       "      <td>0.0</td>\n",
       "      <td>8</td>\n",
       "      <td>동문굿모닝탑</td>\n",
       "    </tr>\n",
       "    <tr>\n",
       "      <th>763</th>\n",
       "      <td>2022-12-01</td>\n",
       "      <td>0</td>\n",
       "      <td>4820</td>\n",
       "      <td>4820. 망우역 2번 출구</td>\n",
       "      <td>정기권</td>\n",
       "      <td>M</td>\n",
       "      <td>60대</td>\n",
       "      <td>1</td>\n",
       "      <td>\\N</td>\n",
       "      <td>\\N</td>\n",
       "      <td>0.0</td>\n",
       "      <td>60</td>\n",
       "      <td>망우역 2번 출구</td>\n",
       "    </tr>\n",
       "    <tr>\n",
       "      <th>866</th>\n",
       "      <td>2022-12-01</td>\n",
       "      <td>0</td>\n",
       "      <td>2293</td>\n",
       "      <td>2293. SPC 앞</td>\n",
       "      <td>일일권</td>\n",
       "      <td>M</td>\n",
       "      <td>20대</td>\n",
       "      <td>1</td>\n",
       "      <td>\\N</td>\n",
       "      <td>\\N</td>\n",
       "      <td>0.0</td>\n",
       "      <td>10</td>\n",
       "      <td>SPC 앞</td>\n",
       "    </tr>\n",
       "    <tr>\n",
       "      <th>1077</th>\n",
       "      <td>2022-12-01</td>\n",
       "      <td>0</td>\n",
       "      <td>4578</td>\n",
       "      <td>4578.보라매sk뷰</td>\n",
       "      <td>정기권</td>\n",
       "      <td>M</td>\n",
       "      <td>20대</td>\n",
       "      <td>1</td>\n",
       "      <td>\\N</td>\n",
       "      <td>\\N</td>\n",
       "      <td>0.0</td>\n",
       "      <td>15</td>\n",
       "      <td>보라매sk뷰</td>\n",
       "    </tr>\n",
       "    <tr>\n",
       "      <th>1424</th>\n",
       "      <td>2022-12-01</td>\n",
       "      <td>1</td>\n",
       "      <td>1192</td>\n",
       "      <td>1192. 마곡수명산파크 209동 건너편</td>\n",
       "      <td>정기권</td>\n",
       "      <td>NaN</td>\n",
       "      <td>기타</td>\n",
       "      <td>1</td>\n",
       "      <td>\\N</td>\n",
       "      <td>\\N</td>\n",
       "      <td>0.0</td>\n",
       "      <td>10</td>\n",
       "      <td>마곡수명산파크 209동 건너편</td>\n",
       "    </tr>\n",
       "    <tr>\n",
       "      <th>...</th>\n",
       "      <td>...</td>\n",
       "      <td>...</td>\n",
       "      <td>...</td>\n",
       "      <td>...</td>\n",
       "      <td>...</td>\n",
       "      <td>...</td>\n",
       "      <td>...</td>\n",
       "      <td>...</td>\n",
       "      <td>...</td>\n",
       "      <td>...</td>\n",
       "      <td>...</td>\n",
       "      <td>...</td>\n",
       "      <td>...</td>\n",
       "    </tr>\n",
       "    <tr>\n",
       "      <th>1637059</th>\n",
       "      <td>2022-12-31</td>\n",
       "      <td>22</td>\n",
       "      <td>5851</td>\n",
       "      <td>5851. 도림천 건널목 위</td>\n",
       "      <td>일일권</td>\n",
       "      <td>F</td>\n",
       "      <td>20대</td>\n",
       "      <td>1</td>\n",
       "      <td>\\N</td>\n",
       "      <td>\\N</td>\n",
       "      <td>0.0</td>\n",
       "      <td>20</td>\n",
       "      <td>도림천 건널목 위</td>\n",
       "    </tr>\n",
       "    <tr>\n",
       "      <th>1637140</th>\n",
       "      <td>2022-12-31</td>\n",
       "      <td>22</td>\n",
       "      <td>550</td>\n",
       "      <td>550. 서울시설공단 앞</td>\n",
       "      <td>일일권</td>\n",
       "      <td>M</td>\n",
       "      <td>20대</td>\n",
       "      <td>1</td>\n",
       "      <td>\\N</td>\n",
       "      <td>\\N</td>\n",
       "      <td>0.0</td>\n",
       "      <td>54</td>\n",
       "      <td>서울시설공단 앞</td>\n",
       "    </tr>\n",
       "    <tr>\n",
       "      <th>1638552</th>\n",
       "      <td>2022-12-31</td>\n",
       "      <td>23</td>\n",
       "      <td>4785</td>\n",
       "      <td>4785. 롯데시티호텔</td>\n",
       "      <td>일일권</td>\n",
       "      <td>M</td>\n",
       "      <td>20대</td>\n",
       "      <td>1</td>\n",
       "      <td>\\N</td>\n",
       "      <td>\\N</td>\n",
       "      <td>0.0</td>\n",
       "      <td>60</td>\n",
       "      <td>롯데시티호텔</td>\n",
       "    </tr>\n",
       "    <tr>\n",
       "      <th>1638669</th>\n",
       "      <td>2022-12-31</td>\n",
       "      <td>23</td>\n",
       "      <td>2306</td>\n",
       "      <td>2306. 압구정역 2번 출구 옆</td>\n",
       "      <td>일일권</td>\n",
       "      <td>F</td>\n",
       "      <td>30대</td>\n",
       "      <td>1</td>\n",
       "      <td>\\N</td>\n",
       "      <td>\\N</td>\n",
       "      <td>0.0</td>\n",
       "      <td>118</td>\n",
       "      <td>압구정역 2번 출구 옆</td>\n",
       "    </tr>\n",
       "    <tr>\n",
       "      <th>1638873</th>\n",
       "      <td>2022-12-31</td>\n",
       "      <td>23</td>\n",
       "      <td>1297</td>\n",
       "      <td>1297. 석촌호수교차로(동호 팔각정 앞)</td>\n",
       "      <td>정기권</td>\n",
       "      <td>M</td>\n",
       "      <td>30대</td>\n",
       "      <td>1</td>\n",
       "      <td>\\N</td>\n",
       "      <td>\\N</td>\n",
       "      <td>0.0</td>\n",
       "      <td>30</td>\n",
       "      <td>석촌호수교차로(동호 팔각정 앞)</td>\n",
       "    </tr>\n",
       "  </tbody>\n",
       "</table>\n",
       "<p>5751 rows × 13 columns</p>\n",
       "</div>"
      ],
      "text/plain": [
       "               대여일자  대여시간  대여소번호                     대여소명 대여구분코드   성별 연령대코드  \\\n",
       "94       2022-12-01     0   4515             4515. 동문굿모닝탑    정기권  NaN   20대   \n",
       "763      2022-12-01     0   4820          4820. 망우역 2번 출구    정기권    M   60대   \n",
       "866      2022-12-01     0   2293              2293. SPC 앞    일일권    M   20대   \n",
       "1077     2022-12-01     0   4578              4578.보라매sk뷰    정기권    M   20대   \n",
       "1424     2022-12-01     1   1192   1192. 마곡수명산파크 209동 건너편    정기권  NaN    기타   \n",
       "...             ...   ...    ...                      ...    ...  ...   ...   \n",
       "1637059  2022-12-31    22   5851          5851. 도림천 건널목 위    일일권    F   20대   \n",
       "1637140  2022-12-31    22    550            550. 서울시설공단 앞    일일권    M   20대   \n",
       "1638552  2022-12-31    23   4785             4785. 롯데시티호텔    일일권    M   20대   \n",
       "1638669  2022-12-31    23   2306       2306. 압구정역 2번 출구 옆    일일권    F   30대   \n",
       "1638873  2022-12-31    23   1297  1297. 석촌호수교차로(동호 팔각정 앞)    정기권    M   30대   \n",
       "\n",
       "         이용건수 운동량 탄소량  이동거리(M)  이용시간(분)            대여소명_new  \n",
       "94          1  \\N  \\N      0.0        8              동문굿모닝탑  \n",
       "763         1  \\N  \\N      0.0       60           망우역 2번 출구  \n",
       "866         1  \\N  \\N      0.0       10               SPC 앞  \n",
       "1077        1  \\N  \\N      0.0       15              보라매sk뷰  \n",
       "1424        1  \\N  \\N      0.0       10    마곡수명산파크 209동 건너편  \n",
       "...       ...  ..  ..      ...      ...                 ...  \n",
       "1637059     1  \\N  \\N      0.0       20           도림천 건널목 위  \n",
       "1637140     1  \\N  \\N      0.0       54            서울시설공단 앞  \n",
       "1638552     1  \\N  \\N      0.0       60              롯데시티호텔  \n",
       "1638669     1  \\N  \\N      0.0      118        압구정역 2번 출구 옆  \n",
       "1638873     1  \\N  \\N      0.0       30   석촌호수교차로(동호 팔각정 앞)  \n",
       "\n",
       "[5751 rows x 13 columns]"
      ]
     },
     "execution_count": 77,
     "metadata": {},
     "output_type": "execute_result"
    }
   ],
   "source": [
    "# \\N 데이터 확인\n",
    "bike3.loc[bike3['운동량'] == r'\\N']"
   ]
  },
  {
   "cell_type": "code",
   "execution_count": 78,
   "metadata": {},
   "outputs": [],
   "source": [
    "bike3.loc[(bike3['운동량'] == r'\\N'),'운동량'] = -1\n",
    "bike3.loc[(bike3['탄소량'] == r'\\N'),'탄소량'] = -1"
   ]
  },
  {
   "cell_type": "code",
   "execution_count": 80,
   "metadata": {},
   "outputs": [],
   "source": [
    "bike3['운동량'] = bike3['운동량'].astype('float64')\n",
    "bike3['탄소량'] = bike3['탄소량'].astype('float64')"
   ]
  },
  {
   "cell_type": "code",
   "execution_count": 81,
   "metadata": {},
   "outputs": [
    {
     "data": {
      "text/plain": [
       "dtype('float64')"
      ]
     },
     "execution_count": 81,
     "metadata": {},
     "output_type": "execute_result"
    }
   ],
   "source": [
    "bike3['운동량'].dtypes"
   ]
  },
  {
   "cell_type": "code",
   "execution_count": 82,
   "metadata": {},
   "outputs": [
    {
     "data": {
      "text/html": [
       "<div>\n",
       "<style scoped>\n",
       "    .dataframe tbody tr th:only-of-type {\n",
       "        vertical-align: middle;\n",
       "    }\n",
       "\n",
       "    .dataframe tbody tr th {\n",
       "        vertical-align: top;\n",
       "    }\n",
       "\n",
       "    .dataframe thead th {\n",
       "        text-align: right;\n",
       "    }\n",
       "</style>\n",
       "<table border=\"1\" class=\"dataframe\">\n",
       "  <thead>\n",
       "    <tr style=\"text-align: right;\">\n",
       "      <th></th>\n",
       "      <th>대여일자</th>\n",
       "      <th>대여시간</th>\n",
       "      <th>대여소번호</th>\n",
       "      <th>대여소명</th>\n",
       "      <th>대여구분코드</th>\n",
       "      <th>성별</th>\n",
       "      <th>연령대코드</th>\n",
       "      <th>이용건수</th>\n",
       "      <th>운동량</th>\n",
       "      <th>탄소량</th>\n",
       "      <th>이동거리(M)</th>\n",
       "      <th>이용시간(분)</th>\n",
       "      <th>대여소명_new</th>\n",
       "    </tr>\n",
       "  </thead>\n",
       "  <tbody>\n",
       "    <tr>\n",
       "      <th>0</th>\n",
       "      <td>2022-12-01</td>\n",
       "      <td>0</td>\n",
       "      <td>746</td>\n",
       "      <td>746. 목동2단지 상가</td>\n",
       "      <td>정기권</td>\n",
       "      <td>NaN</td>\n",
       "      <td>~10대</td>\n",
       "      <td>1</td>\n",
       "      <td>13.54</td>\n",
       "      <td>0.13</td>\n",
       "      <td>570.0</td>\n",
       "      <td>3</td>\n",
       "      <td>목동2단지 상가</td>\n",
       "    </tr>\n",
       "  </tbody>\n",
       "</table>\n",
       "</div>"
      ],
      "text/plain": [
       "         대여일자  대여시간  대여소번호           대여소명 대여구분코드   성별 연령대코드  이용건수    운동량  \\\n",
       "0  2022-12-01     0    746  746. 목동2단지 상가    정기권  NaN  ~10대     1  13.54   \n",
       "\n",
       "    탄소량  이동거리(M)  이용시간(분)   대여소명_new  \n",
       "0  0.13    570.0        3   목동2단지 상가  "
      ]
     },
     "execution_count": 82,
     "metadata": {},
     "output_type": "execute_result"
    }
   ],
   "source": [
    "bike3.head(1)"
   ]
  },
  {
   "cell_type": "code",
   "execution_count": 83,
   "metadata": {},
   "outputs": [],
   "source": [
    "# 대여일자 object => datetime 변경\n",
    "\n",
    "bike3['대여일자'] = pd.to_datetime(bike3['대여일자'])"
   ]
  },
  {
   "cell_type": "code",
   "execution_count": 86,
   "metadata": {},
   "outputs": [
    {
     "name": "stdout",
     "output_type": "stream",
     "text": [
      "datetime64[ns]\n"
     ]
    }
   ],
   "source": [
    "print(bike3['대여일자'].dtypes)"
   ]
  },
  {
   "cell_type": "markdown",
   "metadata": {},
   "source": [
    "#### 4. 데이터분석\n",
    "    - 이동거리/평균 사용 시간이 높은 대여소는?\n",
    "    - 운동량과 이동거리의 상관관계는?\n",
    "    - 따릉이를 가장 많이 이용하는 성별은?\n",
    "    - 서울시 구별 거치대의 개수는?\n",
    "    - 서울시 구별 거치대의 개수와 대여건수는?"
   ]
  },
  {
   "cell_type": "code",
   "execution_count": 87,
   "metadata": {},
   "outputs": [
    {
     "data": {
      "text/html": [
       "<div>\n",
       "<style scoped>\n",
       "    .dataframe tbody tr th:only-of-type {\n",
       "        vertical-align: middle;\n",
       "    }\n",
       "\n",
       "    .dataframe tbody tr th {\n",
       "        vertical-align: top;\n",
       "    }\n",
       "\n",
       "    .dataframe thead th {\n",
       "        text-align: right;\n",
       "    }\n",
       "</style>\n",
       "<table border=\"1\" class=\"dataframe\">\n",
       "  <thead>\n",
       "    <tr style=\"text-align: right;\">\n",
       "      <th></th>\n",
       "      <th>대여일자</th>\n",
       "      <th>대여시간</th>\n",
       "      <th>대여소번호</th>\n",
       "      <th>대여소명</th>\n",
       "      <th>대여구분코드</th>\n",
       "      <th>성별</th>\n",
       "      <th>연령대코드</th>\n",
       "      <th>이용건수</th>\n",
       "      <th>운동량</th>\n",
       "      <th>탄소량</th>\n",
       "      <th>이동거리(M)</th>\n",
       "      <th>이용시간(분)</th>\n",
       "      <th>대여소명_new</th>\n",
       "    </tr>\n",
       "  </thead>\n",
       "  <tbody>\n",
       "    <tr>\n",
       "      <th>0</th>\n",
       "      <td>2022-12-01</td>\n",
       "      <td>0</td>\n",
       "      <td>746</td>\n",
       "      <td>746. 목동2단지 상가</td>\n",
       "      <td>정기권</td>\n",
       "      <td>NaN</td>\n",
       "      <td>~10대</td>\n",
       "      <td>1</td>\n",
       "      <td>13.54</td>\n",
       "      <td>0.13</td>\n",
       "      <td>570.00</td>\n",
       "      <td>3</td>\n",
       "      <td>목동2단지 상가</td>\n",
       "    </tr>\n",
       "    <tr>\n",
       "      <th>1</th>\n",
       "      <td>2022-12-01</td>\n",
       "      <td>0</td>\n",
       "      <td>1653</td>\n",
       "      <td>1653. 노원역1번출구</td>\n",
       "      <td>정기권</td>\n",
       "      <td>NaN</td>\n",
       "      <td>~10대</td>\n",
       "      <td>1</td>\n",
       "      <td>32.81</td>\n",
       "      <td>0.36</td>\n",
       "      <td>1534.33</td>\n",
       "      <td>12</td>\n",
       "      <td>노원역1번출구</td>\n",
       "    </tr>\n",
       "  </tbody>\n",
       "</table>\n",
       "</div>"
      ],
      "text/plain": [
       "        대여일자  대여시간  대여소번호           대여소명 대여구분코드   성별 연령대코드  이용건수    운동량   탄소량  \\\n",
       "0 2022-12-01     0    746  746. 목동2단지 상가    정기권  NaN  ~10대     1  13.54  0.13   \n",
       "1 2022-12-01     0   1653  1653. 노원역1번출구    정기권  NaN  ~10대     1  32.81  0.36   \n",
       "\n",
       "   이동거리(M)  이용시간(분)   대여소명_new  \n",
       "0   570.00        3   목동2단지 상가  \n",
       "1  1534.33       12    노원역1번출구  "
      ]
     },
     "execution_count": 87,
     "metadata": {},
     "output_type": "execute_result"
    }
   ],
   "source": [
    "bike3.head(2)"
   ]
  },
  {
   "cell_type": "code",
   "execution_count": 89,
   "metadata": {},
   "outputs": [
    {
     "data": {
      "text/html": [
       "<div>\n",
       "<style scoped>\n",
       "    .dataframe tbody tr th:only-of-type {\n",
       "        vertical-align: middle;\n",
       "    }\n",
       "\n",
       "    .dataframe tbody tr th {\n",
       "        vertical-align: top;\n",
       "    }\n",
       "\n",
       "    .dataframe thead th {\n",
       "        text-align: right;\n",
       "    }\n",
       "</style>\n",
       "<table border=\"1\" class=\"dataframe\">\n",
       "  <thead>\n",
       "    <tr style=\"text-align: right;\">\n",
       "      <th></th>\n",
       "      <th>대여소명_new</th>\n",
       "      <th>이동거리(M)</th>\n",
       "    </tr>\n",
       "  </thead>\n",
       "  <tbody>\n",
       "    <tr>\n",
       "      <th>615</th>\n",
       "      <td>동작역 5번출구 동작주차공원</td>\n",
       "      <td>6857.403043</td>\n",
       "    </tr>\n",
       "    <tr>\n",
       "      <th>1497</th>\n",
       "      <td>여의도중학교 옆</td>\n",
       "      <td>6812.727628</td>\n",
       "    </tr>\n",
       "    <tr>\n",
       "      <th>2561</th>\n",
       "      <td>옛골 입구</td>\n",
       "      <td>6800.084000</td>\n",
       "    </tr>\n",
       "    <tr>\n",
       "      <th>1441</th>\n",
       "      <td>압구정나들목</td>\n",
       "      <td>6581.370369</td>\n",
       "    </tr>\n",
       "    <tr>\n",
       "      <th>565</th>\n",
       "      <td>독산보도육교 앞 자전거 보관소</td>\n",
       "      <td>6474.211608</td>\n",
       "    </tr>\n",
       "    <tr>\n",
       "      <th>...</th>\n",
       "      <td>...</td>\n",
       "      <td>...</td>\n",
       "    </tr>\n",
       "    <tr>\n",
       "      <th>701</th>\n",
       "      <td>마곡역 교차로(2번출구)</td>\n",
       "      <td>1010.258902</td>\n",
       "    </tr>\n",
       "    <tr>\n",
       "      <th>1906</th>\n",
       "      <td>진관동 은빛초등학교</td>\n",
       "      <td>982.127201</td>\n",
       "    </tr>\n",
       "    <tr>\n",
       "      <th>703</th>\n",
       "      <td>마곡역1번출구</td>\n",
       "      <td>981.727121</td>\n",
       "    </tr>\n",
       "    <tr>\n",
       "      <th>2625</th>\n",
       "      <td>천왕이펜하우스3단지 앞</td>\n",
       "      <td>937.106186</td>\n",
       "    </tr>\n",
       "    <tr>\n",
       "      <th>1489</th>\n",
       "      <td>에이텍</td>\n",
       "      <td>132.157143</td>\n",
       "    </tr>\n",
       "  </tbody>\n",
       "</table>\n",
       "<p>2691 rows × 2 columns</p>\n",
       "</div>"
      ],
      "text/plain": [
       "               대여소명_new      이동거리(M)\n",
       "615     동작역 5번출구 동작주차공원  6857.403043\n",
       "1497           여의도중학교 옆  6812.727628\n",
       "2561              옛골 입구  6800.084000\n",
       "1441             압구정나들목  6581.370369\n",
       "565    독산보도육교 앞 자전거 보관소  6474.211608\n",
       "...                 ...          ...\n",
       "701       마곡역 교차로(2번출구)  1010.258902\n",
       "1906         진관동 은빛초등학교   982.127201\n",
       "703             마곡역1번출구   981.727121\n",
       "2625       천왕이펜하우스3단지 앞   937.106186\n",
       "1489                에이텍   132.157143\n",
       "\n",
       "[2691 rows x 2 columns]"
      ]
     },
     "execution_count": 89,
     "metadata": {},
     "output_type": "execute_result"
    }
   ],
   "source": [
    "# 대여소명_new 를 기준으로 이동거리(평균)가 가장 큰 순서대로 대여소명 추출\n",
    "# groupby\n",
    "# 대여소명_new, 이동거리\n",
    "bike3.groupby(\"대여소명_new\")[\"이동거리(M)\"].mean().reset_index().sort_values(\"이동거리(M)\",ascending=False)"
   ]
  },
  {
   "cell_type": "code",
   "execution_count": 92,
   "metadata": {},
   "outputs": [
    {
     "data": {
      "text/html": [
       "<div>\n",
       "<style scoped>\n",
       "    .dataframe tbody tr th:only-of-type {\n",
       "        vertical-align: middle;\n",
       "    }\n",
       "\n",
       "    .dataframe tbody tr th {\n",
       "        vertical-align: top;\n",
       "    }\n",
       "\n",
       "    .dataframe thead th {\n",
       "        text-align: right;\n",
       "    }\n",
       "</style>\n",
       "<table border=\"1\" class=\"dataframe\">\n",
       "  <thead>\n",
       "    <tr style=\"text-align: right;\">\n",
       "      <th></th>\n",
       "      <th>대여소명_new</th>\n",
       "      <th>이용시간(분)</th>\n",
       "    </tr>\n",
       "  </thead>\n",
       "  <tbody>\n",
       "    <tr>\n",
       "      <th>2435</th>\n",
       "      <td>서울숲 공영주차장앞</td>\n",
       "      <td>56.938144</td>\n",
       "    </tr>\n",
       "    <tr>\n",
       "      <th>1431</th>\n",
       "      <td>안골마을입구</td>\n",
       "      <td>55.150000</td>\n",
       "    </tr>\n",
       "    <tr>\n",
       "      <th>818</th>\n",
       "      <td>문정·가락 대여소 앞</td>\n",
       "      <td>54.687500</td>\n",
       "    </tr>\n",
       "    <tr>\n",
       "      <th>1497</th>\n",
       "      <td>여의도중학교 옆</td>\n",
       "      <td>52.875000</td>\n",
       "    </tr>\n",
       "    <tr>\n",
       "      <th>1119</th>\n",
       "      <td>서울숲 관리사무소</td>\n",
       "      <td>46.863057</td>\n",
       "    </tr>\n",
       "    <tr>\n",
       "      <th>2546</th>\n",
       "      <td>여의도 순복음교회</td>\n",
       "      <td>45.854839</td>\n",
       "    </tr>\n",
       "    <tr>\n",
       "      <th>615</th>\n",
       "      <td>동작역 5번출구 동작주차공원</td>\n",
       "      <td>45.746377</td>\n",
       "    </tr>\n",
       "    <tr>\n",
       "      <th>2105</th>\n",
       "      <td>현대고등학교 건너편</td>\n",
       "      <td>43.175439</td>\n",
       "    </tr>\n",
       "    <tr>\n",
       "      <th>1939</th>\n",
       "      <td>청계3가 사거리</td>\n",
       "      <td>42.691649</td>\n",
       "    </tr>\n",
       "    <tr>\n",
       "      <th>745</th>\n",
       "      <td>망원초록길 입구</td>\n",
       "      <td>42.434426</td>\n",
       "    </tr>\n",
       "  </tbody>\n",
       "</table>\n",
       "</div>"
      ],
      "text/plain": [
       "              대여소명_new    이용시간(분)\n",
       "2435        서울숲 공영주차장앞  56.938144\n",
       "1431            안골마을입구  55.150000\n",
       "818        문정·가락 대여소 앞  54.687500\n",
       "1497          여의도중학교 옆  52.875000\n",
       "1119         서울숲 관리사무소  46.863057\n",
       "2546         여의도 순복음교회  45.854839\n",
       "615    동작역 5번출구 동작주차공원  45.746377\n",
       "2105        현대고등학교 건너편  43.175439\n",
       "1939          청계3가 사거리  42.691649\n",
       "745           망원초록길 입구  42.434426"
      ]
     },
     "execution_count": 92,
     "metadata": {},
     "output_type": "execute_result"
    }
   ],
   "source": [
    "# 대여소명_new 를 기준으로 이용시간(평균)이 가장 큰 순서대로 대여소명 추출\n",
    "bike3.groupby(\"대여소명_new\")[\"이용시간(분)\"].mean().reset_index().sort_values(\"이용시간(분)\",ascending=False).head(10)"
   ]
  },
  {
   "cell_type": "code",
   "execution_count": 94,
   "metadata": {},
   "outputs": [
    {
     "data": {
      "image/png": "[encoded data removed]",
      "text/plain": [
       "<Figure size 1800x800 with 2 Axes>"
      ]
     },
     "metadata": {},
     "output_type": "display_data"
    }
   ],
   "source": [
    "# 운동량과 이동거리의 상관관계 시각화\n",
    "\n",
    "f, ax = plt.subplots(1,2, figsize=(18,8))\n",
    "\n",
    "# 첫번째 차트\n",
    "sns.scatterplot(x=\"이동거리(M)\", y=\"운동량\",data=bike3, ax=ax[0], hue=\"성별\")\n",
    "ax[0].set_title('이동거리에 따른 운동량(성별)')\n",
    "\n",
    "# 두번째 차트\n",
    "sns.scatterplot(x=\"이동거리(M)\", y=\"운동량\",data=bike3, ax=ax[1], hue=\"연령대코드\")\n",
    "ax[1].set_title('이동거리에 따른 운동량(연령대별)')\n",
    "\n",
    "plt.show()"
   ]
  },
  {
   "cell_type": "code",
   "execution_count": 95,
   "metadata": {},
   "outputs": [],
   "source": [
    "# 대여일자 데이터를 대여년, 대여월, 대여일 나누기\n",
    "\n",
    "bike3['대여년'] = bike3['대여일자'].dt.year\n",
    "bike3['대여월'] = bike3['대여일자'].dt.month\n",
    "bike3['대여일'] = bike3['대여일자'].dt.day"
   ]
  },
  {
   "cell_type": "code",
   "execution_count": 96,
   "metadata": {},
   "outputs": [
    {
     "data": {
      "text/html": [
       "<div>\n",
       "<style scoped>\n",
       "    .dataframe tbody tr th:only-of-type {\n",
       "        vertical-align: middle;\n",
       "    }\n",
       "\n",
       "    .dataframe tbody tr th {\n",
       "        vertical-align: top;\n",
       "    }\n",
       "\n",
       "    .dataframe thead th {\n",
       "        text-align: right;\n",
       "    }\n",
       "</style>\n",
       "<table border=\"1\" class=\"dataframe\">\n",
       "  <thead>\n",
       "    <tr style=\"text-align: right;\">\n",
       "      <th></th>\n",
       "      <th>대여일자</th>\n",
       "      <th>대여시간</th>\n",
       "      <th>대여소번호</th>\n",
       "      <th>대여소명</th>\n",
       "      <th>대여구분코드</th>\n",
       "      <th>성별</th>\n",
       "      <th>연령대코드</th>\n",
       "      <th>이용건수</th>\n",
       "      <th>운동량</th>\n",
       "      <th>탄소량</th>\n",
       "      <th>이동거리(M)</th>\n",
       "      <th>이용시간(분)</th>\n",
       "      <th>대여소명_new</th>\n",
       "      <th>대여년</th>\n",
       "      <th>대여월</th>\n",
       "      <th>대여일</th>\n",
       "    </tr>\n",
       "  </thead>\n",
       "  <tbody>\n",
       "    <tr>\n",
       "      <th>0</th>\n",
       "      <td>2022-12-01</td>\n",
       "      <td>0</td>\n",
       "      <td>746</td>\n",
       "      <td>746. 목동2단지 상가</td>\n",
       "      <td>정기권</td>\n",
       "      <td>NaN</td>\n",
       "      <td>~10대</td>\n",
       "      <td>1</td>\n",
       "      <td>13.54</td>\n",
       "      <td>0.13</td>\n",
       "      <td>570.0</td>\n",
       "      <td>3</td>\n",
       "      <td>목동2단지 상가</td>\n",
       "      <td>2022</td>\n",
       "      <td>12</td>\n",
       "      <td>1</td>\n",
       "    </tr>\n",
       "  </tbody>\n",
       "</table>\n",
       "</div>"
      ],
      "text/plain": [
       "        대여일자  대여시간  대여소번호           대여소명 대여구분코드   성별 연령대코드  이용건수    운동량   탄소량  \\\n",
       "0 2022-12-01     0    746  746. 목동2단지 상가    정기권  NaN  ~10대     1  13.54  0.13   \n",
       "\n",
       "   이동거리(M)  이용시간(분)   대여소명_new   대여년  대여월  대여일  \n",
       "0    570.0        3   목동2단지 상가  2022   12    1  "
      ]
     },
     "execution_count": 96,
     "metadata": {},
     "output_type": "execute_result"
    }
   ],
   "source": [
    "bike3.head(1)"
   ]
  },
  {
   "cell_type": "code",
   "execution_count": 98,
   "metadata": {},
   "outputs": [
    {
     "data": {
      "text/html": [
       "<div>\n",
       "<style scoped>\n",
       "    .dataframe tbody tr th:only-of-type {\n",
       "        vertical-align: middle;\n",
       "    }\n",
       "\n",
       "    .dataframe tbody tr th {\n",
       "        vertical-align: top;\n",
       "    }\n",
       "\n",
       "    .dataframe thead th {\n",
       "        text-align: right;\n",
       "    }\n",
       "</style>\n",
       "<table border=\"1\" class=\"dataframe\">\n",
       "  <thead>\n",
       "    <tr style=\"text-align: right;\">\n",
       "      <th>성별</th>\n",
       "      <th>F</th>\n",
       "      <th>M</th>\n",
       "    </tr>\n",
       "    <tr>\n",
       "      <th>대여일</th>\n",
       "      <th></th>\n",
       "      <th></th>\n",
       "    </tr>\n",
       "  </thead>\n",
       "  <tbody>\n",
       "    <tr>\n",
       "      <th>1</th>\n",
       "      <td>319333</td>\n",
       "      <td>503339</td>\n",
       "    </tr>\n",
       "    <tr>\n",
       "      <th>2</th>\n",
       "      <td>375469</td>\n",
       "      <td>609480</td>\n",
       "    </tr>\n",
       "    <tr>\n",
       "      <th>3</th>\n",
       "      <td>261146</td>\n",
       "      <td>495368</td>\n",
       "    </tr>\n",
       "    <tr>\n",
       "      <th>4</th>\n",
       "      <td>189062</td>\n",
       "      <td>363039</td>\n",
       "    </tr>\n",
       "    <tr>\n",
       "      <th>5</th>\n",
       "      <td>339709</td>\n",
       "      <td>550568</td>\n",
       "    </tr>\n",
       "    <tr>\n",
       "      <th>6</th>\n",
       "      <td>363536</td>\n",
       "      <td>600414</td>\n",
       "    </tr>\n",
       "    <tr>\n",
       "      <th>7</th>\n",
       "      <td>462197</td>\n",
       "      <td>725353</td>\n",
       "    </tr>\n",
       "    <tr>\n",
       "      <th>8</th>\n",
       "      <td>471150</td>\n",
       "      <td>760041</td>\n",
       "    </tr>\n",
       "    <tr>\n",
       "      <th>9</th>\n",
       "      <td>473113</td>\n",
       "      <td>795379</td>\n",
       "    </tr>\n",
       "    <tr>\n",
       "      <th>10</th>\n",
       "      <td>356012</td>\n",
       "      <td>615593</td>\n",
       "    </tr>\n",
       "    <tr>\n",
       "      <th>11</th>\n",
       "      <td>306576</td>\n",
       "      <td>528469</td>\n",
       "    </tr>\n",
       "    <tr>\n",
       "      <th>12</th>\n",
       "      <td>260658</td>\n",
       "      <td>438843</td>\n",
       "    </tr>\n",
       "    <tr>\n",
       "      <th>13</th>\n",
       "      <td>223622</td>\n",
       "      <td>423690</td>\n",
       "    </tr>\n",
       "    <tr>\n",
       "      <th>14</th>\n",
       "      <td>213228</td>\n",
       "      <td>373791</td>\n",
       "    </tr>\n",
       "    <tr>\n",
       "      <th>15</th>\n",
       "      <td>118387</td>\n",
       "      <td>266989</td>\n",
       "    </tr>\n",
       "    <tr>\n",
       "      <th>16</th>\n",
       "      <td>155669</td>\n",
       "      <td>338077</td>\n",
       "    </tr>\n",
       "    <tr>\n",
       "      <th>17</th>\n",
       "      <td>114755</td>\n",
       "      <td>256562</td>\n",
       "    </tr>\n",
       "    <tr>\n",
       "      <th>18</th>\n",
       "      <td>87992</td>\n",
       "      <td>206100</td>\n",
       "    </tr>\n",
       "    <tr>\n",
       "      <th>19</th>\n",
       "      <td>205567</td>\n",
       "      <td>371600</td>\n",
       "    </tr>\n",
       "    <tr>\n",
       "      <th>20</th>\n",
       "      <td>269508</td>\n",
       "      <td>480866</td>\n",
       "    </tr>\n",
       "    <tr>\n",
       "      <th>21</th>\n",
       "      <td>115801</td>\n",
       "      <td>274253</td>\n",
       "    </tr>\n",
       "    <tr>\n",
       "      <th>22</th>\n",
       "      <td>135748</td>\n",
       "      <td>300817</td>\n",
       "    </tr>\n",
       "    <tr>\n",
       "      <th>23</th>\n",
       "      <td>119398</td>\n",
       "      <td>234756</td>\n",
       "    </tr>\n",
       "    <tr>\n",
       "      <th>24</th>\n",
       "      <td>110682</td>\n",
       "      <td>238767</td>\n",
       "    </tr>\n",
       "    <tr>\n",
       "      <th>25</th>\n",
       "      <td>93843</td>\n",
       "      <td>227229</td>\n",
       "    </tr>\n",
       "    <tr>\n",
       "      <th>26</th>\n",
       "      <td>216029</td>\n",
       "      <td>416113</td>\n",
       "    </tr>\n",
       "    <tr>\n",
       "      <th>27</th>\n",
       "      <td>244380</td>\n",
       "      <td>458586</td>\n",
       "    </tr>\n",
       "    <tr>\n",
       "      <th>28</th>\n",
       "      <td>216015</td>\n",
       "      <td>421187</td>\n",
       "    </tr>\n",
       "    <tr>\n",
       "      <th>29</th>\n",
       "      <td>237575</td>\n",
       "      <td>444808</td>\n",
       "    </tr>\n",
       "    <tr>\n",
       "      <th>30</th>\n",
       "      <td>240508</td>\n",
       "      <td>441283</td>\n",
       "    </tr>\n",
       "    <tr>\n",
       "      <th>31</th>\n",
       "      <td>187861</td>\n",
       "      <td>374645</td>\n",
       "    </tr>\n",
       "  </tbody>\n",
       "</table>\n",
       "</div>"
      ],
      "text/plain": [
       "성별        F       M\n",
       "대여일                \n",
       "1    319333  503339\n",
       "2    375469  609480\n",
       "3    261146  495368\n",
       "4    189062  363039\n",
       "5    339709  550568\n",
       "6    363536  600414\n",
       "7    462197  725353\n",
       "8    471150  760041\n",
       "9    473113  795379\n",
       "10   356012  615593\n",
       "11   306576  528469\n",
       "12   260658  438843\n",
       "13   223622  423690\n",
       "14   213228  373791\n",
       "15   118387  266989\n",
       "16   155669  338077\n",
       "17   114755  256562\n",
       "18    87992  206100\n",
       "19   205567  371600\n",
       "20   269508  480866\n",
       "21   115801  274253\n",
       "22   135748  300817\n",
       "23   119398  234756\n",
       "24   110682  238767\n",
       "25    93843  227229\n",
       "26   216029  416113\n",
       "27   244380  458586\n",
       "28   216015  421187\n",
       "29   237575  444808\n",
       "30   240508  441283\n",
       "31   187861  374645"
      ]
     },
     "execution_count": 98,
     "metadata": {},
     "output_type": "execute_result"
    }
   ],
   "source": [
    "# 성별에 따른 사용시간 합계를 대여일 별로 집계하기\n",
    "\n",
    "bike_fm = bike3.pivot_table(index='대여일', columns='성별', values='이용시간(분)', aggfunc=sum)   # aggfunc=sum 안주면 평균\n",
    "bike_fm"
   ]
  },
  {
   "cell_type": "code",
   "execution_count": 101,
   "metadata": {},
   "outputs": [
    {
     "data": {
      "image/png": "[encoded data removed]",
      "text/plain": [
       "<Figure size 1000x500 with 1 Axes>"
      ]
     },
     "metadata": {},
     "output_type": "display_data"
    }
   ],
   "source": [
    "bike_fm.plot(title=\"일별 자전거 사용시간 합계\");"
   ]
  },
  {
   "cell_type": "code",
   "execution_count": null,
   "metadata": {},
   "outputs": [],
   "source": []
  }
 ],
 "metadata": {
  "kernelspec": {
   "display_name": "pythonsource",
   "language": "python",
   "name": "python3"
  },
  "language_info": {
   "codemirror_mode": {
    "name": "ipython",
    "version": 3
   },
   "file_extension": ".py",
   "mimetype": "text/x-python",
   "name": "python",
   "nbconvert_exporter": "python",
   "pygments_lexer": "ipython3",
   "version": "3.11.4"
  },
  "orig_nbformat": 4
 },
 "nbformat": 4,
 "nbformat_minor": 2
}
