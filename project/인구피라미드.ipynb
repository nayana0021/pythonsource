{
 "cells": [
  {
   "cell_type": "markdown",
   "metadata": {},
   "source": [
    "#### 연령별 인구현황 데이터 셋\n",
    "- https://jumin.mois.go.kr/ageStatMonth.do\n",
    "- 남여구분, 5세단위, 100세이상"
   ]
  },
  {
   "cell_type": "code",
   "execution_count": 1,
   "metadata": {},
   "outputs": [],
   "source": [
    "import pandas as pd\n",
    "import matplotlib.pyplot as plt"
   ]
  },
  {
   "cell_type": "code",
   "execution_count": 2,
   "metadata": {},
   "outputs": [],
   "source": [
    "plt.rcParams[\"font.family\"] = \"Apple SD Gothic Neo\"\n",
    "plt.rcParams[\"axes.unicode_minus\"] = False"
   ]
  },
  {
   "cell_type": "code",
   "execution_count": 3,
   "metadata": {},
   "outputs": [],
   "source": [
    "# warnings : 함수를 현재는 지원하는 나중에 삭제 시 경고 메세지가 발생\n",
    "import warnings\n",
    "warnings.simplefilter(\"ignore\") # 무시할게"
   ]
  },
  {
   "cell_type": "markdown",
   "metadata": {},
   "source": [
    "#### 남, 여 데이터프레임 생성"
   ]
  },
  {
   "cell_type": "code",
   "execution_count": 10,
   "metadata": {},
   "outputs": [
    {
     "data": {
      "text/html": [
       "<div>\n",
       "<style scoped>\n",
       "    .dataframe tbody tr th:only-of-type {\n",
       "        vertical-align: middle;\n",
       "    }\n",
       "\n",
       "    .dataframe tbody tr th {\n",
       "        vertical-align: top;\n",
       "    }\n",
       "\n",
       "    .dataframe thead th {\n",
       "        text-align: right;\n",
       "    }\n",
       "</style>\n",
       "<table border=\"1\" class=\"dataframe\">\n",
       "  <thead>\n",
       "    <tr style=\"text-align: right;\">\n",
       "      <th></th>\n",
       "      <th>행정기관</th>\n",
       "      <th>0~4세</th>\n",
       "      <th>5~9세</th>\n",
       "      <th>10~14세</th>\n",
       "      <th>15~19세</th>\n",
       "      <th>20~24세</th>\n",
       "      <th>25~29세</th>\n",
       "      <th>30~34세</th>\n",
       "      <th>35~39세</th>\n",
       "      <th>40~44세</th>\n",
       "      <th>...</th>\n",
       "      <th>55~59세</th>\n",
       "      <th>60~64세</th>\n",
       "      <th>65~69세</th>\n",
       "      <th>70~74세</th>\n",
       "      <th>75~79세</th>\n",
       "      <th>80~84세</th>\n",
       "      <th>85~89세</th>\n",
       "      <th>90~94세</th>\n",
       "      <th>95~99세</th>\n",
       "      <th>100세 이상</th>\n",
       "    </tr>\n",
       "  </thead>\n",
       "  <tbody>\n",
       "    <tr>\n",
       "      <th>0</th>\n",
       "      <td>전국</td>\n",
       "      <td>706,625</td>\n",
       "      <td>1,052,112</td>\n",
       "      <td>1,205,210</td>\n",
       "      <td>1,202,795</td>\n",
       "      <td>1,490,016</td>\n",
       "      <td>1,805,935</td>\n",
       "      <td>1,767,267</td>\n",
       "      <td>1,654,974</td>\n",
       "      <td>2,060,002</td>\n",
       "      <td>...</td>\n",
       "      <td>2,049,129</td>\n",
       "      <td>2,122,654</td>\n",
       "      <td>1,591,968</td>\n",
       "      <td>1,051,593</td>\n",
       "      <td>730,834</td>\n",
       "      <td>517,546</td>\n",
       "      <td>220,922</td>\n",
       "      <td>56,592</td>\n",
       "      <td>9,135</td>\n",
       "      <td>1,520</td>\n",
       "    </tr>\n",
       "    <tr>\n",
       "      <th>1</th>\n",
       "      <td>서울특별시</td>\n",
       "      <td>113,314</td>\n",
       "      <td>157,840</td>\n",
       "      <td>184,094</td>\n",
       "      <td>195,604</td>\n",
       "      <td>267,118</td>\n",
       "      <td>388,073</td>\n",
       "      <td>386,717</td>\n",
       "      <td>326,992</td>\n",
       "      <td>364,597</td>\n",
       "      <td>...</td>\n",
       "      <td>336,153</td>\n",
       "      <td>344,878</td>\n",
       "      <td>275,917</td>\n",
       "      <td>189,812</td>\n",
       "      <td>139,076</td>\n",
       "      <td>96,104</td>\n",
       "      <td>38,116</td>\n",
       "      <td>9,813</td>\n",
       "      <td>1,745</td>\n",
       "      <td>330</td>\n",
       "    </tr>\n",
       "    <tr>\n",
       "      <th>2</th>\n",
       "      <td>부산광역시</td>\n",
       "      <td>39,970</td>\n",
       "      <td>62,965</td>\n",
       "      <td>68,934</td>\n",
       "      <td>66,965</td>\n",
       "      <td>91,216</td>\n",
       "      <td>107,505</td>\n",
       "      <td>105,069</td>\n",
       "      <td>97,652</td>\n",
       "      <td>127,323</td>\n",
       "      <td>...</td>\n",
       "      <td>125,435</td>\n",
       "      <td>143,107</td>\n",
       "      <td>121,110</td>\n",
       "      <td>84,688</td>\n",
       "      <td>57,025</td>\n",
       "      <td>38,158</td>\n",
       "      <td>14,067</td>\n",
       "      <td>3,206</td>\n",
       "      <td>449</td>\n",
       "      <td>77</td>\n",
       "    </tr>\n",
       "  </tbody>\n",
       "</table>\n",
       "<p>3 rows × 22 columns</p>\n",
       "</div>"
      ],
      "text/plain": [
       "      행정기관     0~4세       5~9세     10~14세     15~19세     20~24세     25~29세  \\\n",
       "0     전국    706,625  1,052,112  1,205,210  1,202,795  1,490,016  1,805,935   \n",
       "1  서울특별시    113,314    157,840    184,094    195,604    267,118    388,073   \n",
       "2  부산광역시     39,970     62,965     68,934     66,965     91,216    107,505   \n",
       "\n",
       "      30~34세     35~39세     40~44세  ...     55~59세     60~64세     65~69세  \\\n",
       "0  1,767,267  1,654,974  2,060,002  ...  2,049,129  2,122,654  1,591,968   \n",
       "1    386,717    326,992    364,597  ...    336,153    344,878    275,917   \n",
       "2    105,069     97,652    127,323  ...    125,435    143,107    121,110   \n",
       "\n",
       "      70~74세   75~79세   80~84세   85~89세  90~94세 95~99세 100세 이상  \n",
       "0  1,051,593  730,834  517,546  220,922  56,592  9,135   1,520  \n",
       "1    189,812  139,076   96,104   38,116   9,813  1,745     330  \n",
       "2     84,688   57,025   38,158   14,067   3,206    449      77  \n",
       "\n",
       "[3 rows x 22 columns]"
      ]
     },
     "execution_count": 10,
     "metadata": {},
     "output_type": "execute_result"
    }
   ],
   "source": [
    "# 원본 데이터 남자 데이터 가져오기\n",
    "\n",
    "df_man = pd.read_excel(\"./data/202306_202306_연령별인구현황_월간.xlsx\",skiprows=3,usecols=\"B,E:Y\")\n",
    "df_man.head(3)"
   ]
  },
  {
   "cell_type": "code",
   "execution_count": 11,
   "metadata": {},
   "outputs": [
    {
     "data": {
      "text/html": [
       "<div>\n",
       "<style scoped>\n",
       "    .dataframe tbody tr th:only-of-type {\n",
       "        vertical-align: middle;\n",
       "    }\n",
       "\n",
       "    .dataframe tbody tr th {\n",
       "        vertical-align: top;\n",
       "    }\n",
       "\n",
       "    .dataframe thead th {\n",
       "        text-align: right;\n",
       "    }\n",
       "</style>\n",
       "<table border=\"1\" class=\"dataframe\">\n",
       "  <thead>\n",
       "    <tr style=\"text-align: right;\">\n",
       "      <th></th>\n",
       "      <th>0~4세</th>\n",
       "      <th>5~9세</th>\n",
       "      <th>10~14세</th>\n",
       "      <th>15~19세</th>\n",
       "      <th>20~24세</th>\n",
       "      <th>25~29세</th>\n",
       "      <th>30~34세</th>\n",
       "      <th>35~39세</th>\n",
       "      <th>40~44세</th>\n",
       "      <th>45~49세</th>\n",
       "      <th>...</th>\n",
       "      <th>55~59세</th>\n",
       "      <th>60~64세</th>\n",
       "      <th>65~69세</th>\n",
       "      <th>70~74세</th>\n",
       "      <th>75~79세</th>\n",
       "      <th>80~84세</th>\n",
       "      <th>85~89세</th>\n",
       "      <th>90~94세</th>\n",
       "      <th>95~99세</th>\n",
       "      <th>100세 이상</th>\n",
       "    </tr>\n",
       "    <tr>\n",
       "      <th>행정기관</th>\n",
       "      <th></th>\n",
       "      <th></th>\n",
       "      <th></th>\n",
       "      <th></th>\n",
       "      <th></th>\n",
       "      <th></th>\n",
       "      <th></th>\n",
       "      <th></th>\n",
       "      <th></th>\n",
       "      <th></th>\n",
       "      <th></th>\n",
       "      <th></th>\n",
       "      <th></th>\n",
       "      <th></th>\n",
       "      <th></th>\n",
       "      <th></th>\n",
       "      <th></th>\n",
       "      <th></th>\n",
       "      <th></th>\n",
       "      <th></th>\n",
       "      <th></th>\n",
       "    </tr>\n",
       "  </thead>\n",
       "  <tbody>\n",
       "    <tr>\n",
       "      <th>전국</th>\n",
       "      <td>706,625</td>\n",
       "      <td>1,052,112</td>\n",
       "      <td>1,205,210</td>\n",
       "      <td>1,202,795</td>\n",
       "      <td>1,490,016</td>\n",
       "      <td>1,805,935</td>\n",
       "      <td>1,767,267</td>\n",
       "      <td>1,654,974</td>\n",
       "      <td>2,060,002</td>\n",
       "      <td>2,003,993</td>\n",
       "      <td>...</td>\n",
       "      <td>2,049,129</td>\n",
       "      <td>2,122,654</td>\n",
       "      <td>1,591,968</td>\n",
       "      <td>1,051,593</td>\n",
       "      <td>730,834</td>\n",
       "      <td>517,546</td>\n",
       "      <td>220,922</td>\n",
       "      <td>56,592</td>\n",
       "      <td>9,135</td>\n",
       "      <td>1,520</td>\n",
       "    </tr>\n",
       "    <tr>\n",
       "      <th>서울특별시</th>\n",
       "      <td>113,314</td>\n",
       "      <td>157,840</td>\n",
       "      <td>184,094</td>\n",
       "      <td>195,604</td>\n",
       "      <td>267,118</td>\n",
       "      <td>388,073</td>\n",
       "      <td>386,717</td>\n",
       "      <td>326,992</td>\n",
       "      <td>364,597</td>\n",
       "      <td>344,645</td>\n",
       "      <td>...</td>\n",
       "      <td>336,153</td>\n",
       "      <td>344,878</td>\n",
       "      <td>275,917</td>\n",
       "      <td>189,812</td>\n",
       "      <td>139,076</td>\n",
       "      <td>96,104</td>\n",
       "      <td>38,116</td>\n",
       "      <td>9,813</td>\n",
       "      <td>1,745</td>\n",
       "      <td>330</td>\n",
       "    </tr>\n",
       "    <tr>\n",
       "      <th>부산광역시</th>\n",
       "      <td>39,970</td>\n",
       "      <td>62,965</td>\n",
       "      <td>68,934</td>\n",
       "      <td>66,965</td>\n",
       "      <td>91,216</td>\n",
       "      <td>107,505</td>\n",
       "      <td>105,069</td>\n",
       "      <td>97,652</td>\n",
       "      <td>127,323</td>\n",
       "      <td>119,958</td>\n",
       "      <td>...</td>\n",
       "      <td>125,435</td>\n",
       "      <td>143,107</td>\n",
       "      <td>121,110</td>\n",
       "      <td>84,688</td>\n",
       "      <td>57,025</td>\n",
       "      <td>38,158</td>\n",
       "      <td>14,067</td>\n",
       "      <td>3,206</td>\n",
       "      <td>449</td>\n",
       "      <td>77</td>\n",
       "    </tr>\n",
       "  </tbody>\n",
       "</table>\n",
       "<p>3 rows × 21 columns</p>\n",
       "</div>"
      ],
      "text/plain": [
       "            0~4세       5~9세     10~14세     15~19세     20~24세     25~29세  \\\n",
       "행정기관                                                                      \n",
       "전국       706,625  1,052,112  1,205,210  1,202,795  1,490,016  1,805,935   \n",
       "서울특별시    113,314    157,840    184,094    195,604    267,118    388,073   \n",
       "부산광역시     39,970     62,965     68,934     66,965     91,216    107,505   \n",
       "\n",
       "            30~34세     35~39세     40~44세     45~49세  ...     55~59세  \\\n",
       "행정기관                                                 ...              \n",
       "전국       1,767,267  1,654,974  2,060,002  2,003,993  ...  2,049,129   \n",
       "서울특별시      386,717    326,992    364,597    344,645  ...    336,153   \n",
       "부산광역시      105,069     97,652    127,323    119,958  ...    125,435   \n",
       "\n",
       "            60~64세     65~69세     70~74세   75~79세   80~84세   85~89세  90~94세  \\\n",
       "행정기관                                                                          \n",
       "전국       2,122,654  1,591,968  1,051,593  730,834  517,546  220,922  56,592   \n",
       "서울특별시      344,878    275,917    189,812  139,076   96,104   38,116   9,813   \n",
       "부산광역시      143,107    121,110     84,688   57,025   38,158   14,067   3,206   \n",
       "\n",
       "        95~99세 100세 이상  \n",
       "행정기관                    \n",
       "전국       9,135   1,520  \n",
       "서울특별시    1,745     330  \n",
       "부산광역시      449      77  \n",
       "\n",
       "[3 rows x 21 columns]"
      ]
     },
     "execution_count": 11,
     "metadata": {},
     "output_type": "execute_result"
    }
   ],
   "source": [
    "df_man = pd.read_excel(\"./data/202306_202306_연령별인구현황_월간.xlsx\",skiprows=3,usecols=\"B,E:Y\",index_col=\"행정기관\")\n",
    "df_man.head(3)"
   ]
  },
  {
   "cell_type": "code",
   "execution_count": 12,
   "metadata": {},
   "outputs": [
    {
     "data": {
      "text/html": [
       "<div>\n",
       "<style scoped>\n",
       "    .dataframe tbody tr th:only-of-type {\n",
       "        vertical-align: middle;\n",
       "    }\n",
       "\n",
       "    .dataframe tbody tr th {\n",
       "        vertical-align: top;\n",
       "    }\n",
       "\n",
       "    .dataframe thead th {\n",
       "        text-align: right;\n",
       "    }\n",
       "</style>\n",
       "<table border=\"1\" class=\"dataframe\">\n",
       "  <thead>\n",
       "    <tr style=\"text-align: right;\">\n",
       "      <th></th>\n",
       "      <th>0~4세.1</th>\n",
       "      <th>5~9세.1</th>\n",
       "      <th>10~14세.1</th>\n",
       "      <th>15~19세.1</th>\n",
       "      <th>20~24세.1</th>\n",
       "      <th>25~29세.1</th>\n",
       "      <th>30~34세.1</th>\n",
       "      <th>35~39세.1</th>\n",
       "      <th>40~44세.1</th>\n",
       "      <th>45~49세.1</th>\n",
       "      <th>...</th>\n",
       "      <th>55~59세.1</th>\n",
       "      <th>60~64세.1</th>\n",
       "      <th>65~69세.1</th>\n",
       "      <th>70~74세.1</th>\n",
       "      <th>75~79세.1</th>\n",
       "      <th>80~84세.1</th>\n",
       "      <th>85~89세.1</th>\n",
       "      <th>90~94세.1</th>\n",
       "      <th>95~99세.1</th>\n",
       "      <th>100세 이상.1</th>\n",
       "    </tr>\n",
       "    <tr>\n",
       "      <th>행정기관</th>\n",
       "      <th></th>\n",
       "      <th></th>\n",
       "      <th></th>\n",
       "      <th></th>\n",
       "      <th></th>\n",
       "      <th></th>\n",
       "      <th></th>\n",
       "      <th></th>\n",
       "      <th></th>\n",
       "      <th></th>\n",
       "      <th></th>\n",
       "      <th></th>\n",
       "      <th></th>\n",
       "      <th></th>\n",
       "      <th></th>\n",
       "      <th></th>\n",
       "      <th></th>\n",
       "      <th></th>\n",
       "      <th></th>\n",
       "      <th></th>\n",
       "      <th></th>\n",
       "    </tr>\n",
       "  </thead>\n",
       "  <tbody>\n",
       "    <tr>\n",
       "      <th>전국</th>\n",
       "      <td>671,918</td>\n",
       "      <td>1,001,255</td>\n",
       "      <td>1,140,109</td>\n",
       "      <td>1,127,886</td>\n",
       "      <td>1,372,894</td>\n",
       "      <td>1,633,056</td>\n",
       "      <td>1,600,066</td>\n",
       "      <td>1,566,245</td>\n",
       "      <td>1,988,569</td>\n",
       "      <td>1,945,511</td>\n",
       "      <td>...</td>\n",
       "      <td>2,022,964</td>\n",
       "      <td>2,153,887</td>\n",
       "      <td>1,685,373</td>\n",
       "      <td>1,190,669</td>\n",
       "      <td>921,394</td>\n",
       "      <td>810,091</td>\n",
       "      <td>473,297</td>\n",
       "      <td>182,805</td>\n",
       "      <td>41,327</td>\n",
       "      <td>7,516</td>\n",
       "    </tr>\n",
       "    <tr>\n",
       "      <th>서울특별시</th>\n",
       "      <td>106,557</td>\n",
       "      <td>150,890</td>\n",
       "      <td>174,431</td>\n",
       "      <td>188,477</td>\n",
       "      <td>301,831</td>\n",
       "      <td>419,021</td>\n",
       "      <td>385,079</td>\n",
       "      <td>328,070</td>\n",
       "      <td>370,355</td>\n",
       "      <td>353,854</td>\n",
       "      <td>...</td>\n",
       "      <td>351,170</td>\n",
       "      <td>375,865</td>\n",
       "      <td>315,840</td>\n",
       "      <td>223,402</td>\n",
       "      <td>173,640</td>\n",
       "      <td>129,786</td>\n",
       "      <td>68,429</td>\n",
       "      <td>25,956</td>\n",
       "      <td>6,355</td>\n",
       "      <td>1,165</td>\n",
       "    </tr>\n",
       "    <tr>\n",
       "      <th>부산광역시</th>\n",
       "      <td>38,152</td>\n",
       "      <td>59,540</td>\n",
       "      <td>65,418</td>\n",
       "      <td>63,454</td>\n",
       "      <td>86,644</td>\n",
       "      <td>101,193</td>\n",
       "      <td>97,347</td>\n",
       "      <td>93,724</td>\n",
       "      <td>124,332</td>\n",
       "      <td>118,194</td>\n",
       "      <td>...</td>\n",
       "      <td>134,729</td>\n",
       "      <td>159,856</td>\n",
       "      <td>136,522</td>\n",
       "      <td>100,859</td>\n",
       "      <td>71,847</td>\n",
       "      <td>57,545</td>\n",
       "      <td>29,455</td>\n",
       "      <td>10,624</td>\n",
       "      <td>2,495</td>\n",
       "      <td>384</td>\n",
       "    </tr>\n",
       "  </tbody>\n",
       "</table>\n",
       "<p>3 rows × 21 columns</p>\n",
       "</div>"
      ],
      "text/plain": [
       "          0~4세.1     5~9세.1   10~14세.1   15~19세.1   20~24세.1   25~29세.1  \\\n",
       "행정기관                                                                      \n",
       "전국       671,918  1,001,255  1,140,109  1,127,886  1,372,894  1,633,056   \n",
       "서울특별시    106,557    150,890    174,431    188,477    301,831    419,021   \n",
       "부산광역시     38,152     59,540     65,418     63,454     86,644    101,193   \n",
       "\n",
       "          30~34세.1   35~39세.1   40~44세.1   45~49세.1  ...   55~59세.1  \\\n",
       "행정기관                                                 ...              \n",
       "전국       1,600,066  1,566,245  1,988,569  1,945,511  ...  2,022,964   \n",
       "서울특별시      385,079    328,070    370,355    353,854  ...    351,170   \n",
       "부산광역시       97,347     93,724    124,332    118,194  ...    134,729   \n",
       "\n",
       "          60~64세.1   65~69세.1   70~74세.1 75~79세.1 80~84세.1 85~89세.1 90~94세.1  \\\n",
       "행정기관                                                                           \n",
       "전국       2,153,887  1,685,373  1,190,669  921,394  810,091  473,297  182,805   \n",
       "서울특별시      375,865    315,840    223,402  173,640  129,786   68,429   25,956   \n",
       "부산광역시      159,856    136,522    100,859   71,847   57,545   29,455   10,624   \n",
       "\n",
       "        95~99세.1 100세 이상.1  \n",
       "행정기관                        \n",
       "전국        41,327     7,516  \n",
       "서울특별시      6,355     1,165  \n",
       "부산광역시      2,495       384  \n",
       "\n",
       "[3 rows x 21 columns]"
      ]
     },
     "execution_count": 12,
     "metadata": {},
     "output_type": "execute_result"
    }
   ],
   "source": [
    "df_woman = pd.read_excel(\"./data/202306_202306_연령별인구현황_월간.xlsx\",skiprows=3,usecols=\"B,AB:AV\",index_col=\"행정기관\")\n",
    "df_woman.head(3)"
   ]
  },
  {
   "cell_type": "markdown",
   "metadata": {},
   "source": [
    "#### 데이터 탐색"
   ]
  },
  {
   "cell_type": "code",
   "execution_count": 13,
   "metadata": {},
   "outputs": [
    {
     "name": "stdout",
     "output_type": "stream",
     "text": [
      "<class 'pandas.core.frame.DataFrame'>\n",
      "Index: 18 entries, 전국   to 제주특별자치도  \n",
      "Data columns (total 21 columns):\n",
      " #   Column   Non-Null Count  Dtype \n",
      "---  ------   --------------  ----- \n",
      " 0   0~4세     18 non-null     object\n",
      " 1   5~9세     18 non-null     object\n",
      " 2   10~14세   18 non-null     object\n",
      " 3   15~19세   18 non-null     object\n",
      " 4   20~24세   18 non-null     object\n",
      " 5   25~29세   18 non-null     object\n",
      " 6   30~34세   18 non-null     object\n",
      " 7   35~39세   18 non-null     object\n",
      " 8   40~44세   18 non-null     object\n",
      " 9   45~49세   18 non-null     object\n",
      " 10  50~54세   18 non-null     object\n",
      " 11  55~59세   18 non-null     object\n",
      " 12  60~64세   18 non-null     object\n",
      " 13  65~69세   18 non-null     object\n",
      " 14  70~74세   18 non-null     object\n",
      " 15  75~79세   18 non-null     object\n",
      " 16  80~84세   18 non-null     object\n",
      " 17  85~89세   18 non-null     object\n",
      " 18  90~94세   18 non-null     object\n",
      " 19  95~99세   18 non-null     object\n",
      " 20  100세 이상  18 non-null     object\n",
      "dtypes: object(21)\n",
      "memory usage: 3.1+ KB\n"
     ]
    }
   ],
   "source": [
    "# 전체 컬럼명, 데이터 타입 확인\n",
    "\n",
    "df_man.info()   # 엑셀 자체에서 데이터가 숫자로 보여지지만 일반데이터라서 object 타입임 -> 숫자데이터로 사용하려면 숫자 타입으로 바꿔야 함"
   ]
  },
  {
   "cell_type": "code",
   "execution_count": 14,
   "metadata": {},
   "outputs": [
    {
     "name": "stdout",
     "output_type": "stream",
     "text": [
      "<class 'pandas.core.frame.DataFrame'>\n",
      "Index: 18 entries, 전국   to 제주특별자치도  \n",
      "Data columns (total 21 columns):\n",
      " #   Column     Non-Null Count  Dtype \n",
      "---  ------     --------------  ----- \n",
      " 0   0~4세.1     18 non-null     object\n",
      " 1   5~9세.1     18 non-null     object\n",
      " 2   10~14세.1   18 non-null     object\n",
      " 3   15~19세.1   18 non-null     object\n",
      " 4   20~24세.1   18 non-null     object\n",
      " 5   25~29세.1   18 non-null     object\n",
      " 6   30~34세.1   18 non-null     object\n",
      " 7   35~39세.1   18 non-null     object\n",
      " 8   40~44세.1   18 non-null     object\n",
      " 9   45~49세.1   18 non-null     object\n",
      " 10  50~54세.1   18 non-null     object\n",
      " 11  55~59세.1   18 non-null     object\n",
      " 12  60~64세.1   18 non-null     object\n",
      " 13  65~69세.1   18 non-null     object\n",
      " 14  70~74세.1   18 non-null     object\n",
      " 15  75~79세.1   18 non-null     object\n",
      " 16  80~84세.1   18 non-null     object\n",
      " 17  85~89세.1   18 non-null     object\n",
      " 18  90~94세.1   18 non-null     object\n",
      " 19  95~99세.1   18 non-null     object\n",
      " 20  100세 이상.1  18 non-null     object\n",
      "dtypes: object(21)\n",
      "memory usage: 3.1+ KB\n"
     ]
    }
   ],
   "source": [
    "df_woman.info()"
   ]
  },
  {
   "cell_type": "markdown",
   "metadata": {},
   "source": [
    "#### 데이터 전처리\n",
    "    - 수치 데이터 object => int64 변경( df.astype(), pd.to_numeric() )"
   ]
  },
  {
   "cell_type": "code",
   "execution_count": 26,
   "metadata": {},
   "outputs": [
    {
     "data": {
      "text/html": [
       "<div>\n",
       "<style scoped>\n",
       "    .dataframe tbody tr th:only-of-type {\n",
       "        vertical-align: middle;\n",
       "    }\n",
       "\n",
       "    .dataframe tbody tr th {\n",
       "        vertical-align: top;\n",
       "    }\n",
       "\n",
       "    .dataframe thead th {\n",
       "        text-align: right;\n",
       "    }\n",
       "</style>\n",
       "<table border=\"1\" class=\"dataframe\">\n",
       "  <thead>\n",
       "    <tr style=\"text-align: right;\">\n",
       "      <th></th>\n",
       "      <th>name</th>\n",
       "      <th>age</th>\n",
       "    </tr>\n",
       "  </thead>\n",
       "  <tbody>\n",
       "    <tr>\n",
       "      <th>0</th>\n",
       "      <td>홍길동</td>\n",
       "      <td>25</td>\n",
       "    </tr>\n",
       "    <tr>\n",
       "      <th>1</th>\n",
       "      <td>김수정</td>\n",
       "      <td>NaN</td>\n",
       "    </tr>\n",
       "    <tr>\n",
       "      <th>2</th>\n",
       "      <td>이민정</td>\n",
       "      <td>45</td>\n",
       "    </tr>\n",
       "  </tbody>\n",
       "</table>\n",
       "</div>"
      ],
      "text/plain": [
       "  name  age\n",
       "0  홍길동   25\n",
       "1  김수정  NaN\n",
       "2  이민정   45"
      ]
     },
     "execution_count": 26,
     "metadata": {},
     "output_type": "execute_result"
    }
   ],
   "source": [
    "import numpy as np\n",
    "\n",
    "df = pd.DataFrame({\n",
    "    \"name\":[\"홍길동\",\"김수정\",\"이민정\"],\n",
    "    \"age\":[\"25\",np.nan,\"45\"]\n",
    "})\n",
    "df"
   ]
  },
  {
   "cell_type": "code",
   "execution_count": 27,
   "metadata": {},
   "outputs": [
    {
     "data": {
      "text/plain": [
       "name    object\n",
       "age     object\n",
       "dtype: object"
      ]
     },
     "execution_count": 27,
     "metadata": {},
     "output_type": "execute_result"
    }
   ],
   "source": [
    "df.dtypes"
   ]
  },
  {
   "cell_type": "code",
   "execution_count": null,
   "metadata": {},
   "outputs": [],
   "source": [
    "# astype() : 숫자에 ,(콤마)가 없어야 함 / NaN 없어야 함\n",
    "\n",
    "# df[\"age1\"] = df[\"age\"].astype(\"int64\")  # ValueError: cannot convert float NaN to integer : NaN이 있으면 float64임"
   ]
  },
  {
   "cell_type": "code",
   "execution_count": 30,
   "metadata": {},
   "outputs": [
    {
     "data": {
      "text/plain": [
       "행정기관\n",
       "전국           706625\n",
       "서울특별시        113314\n",
       "부산광역시         39970\n",
       "대구광역시         30306\n",
       "인천광역시         42977\n",
       "광주광역시         20688\n",
       "대전광역시         20908\n",
       "울산광역시         16069\n",
       "세종특별자치시        9210\n",
       "경기도          212321\n",
       "강원특별자치도       20262\n",
       "충청북도          22050\n",
       "충청남도          30179\n",
       "전라북도          20479\n",
       "전라남도          22871\n",
       "경상북도          32271\n",
       "경상남도          42184\n",
       "제주특별자치도       10566\n",
       "Name: 0~4세, dtype: int64"
      ]
     },
     "execution_count": 30,
     "metadata": {},
     "output_type": "execute_result"
    }
   ],
   "source": [
    "# , 제거 후 astype()\n",
    "# replace(\",\",\"\")\n",
    "\n",
    "df_man[\"0~4세\"].str.replace(\",\",\"\").astype(\"int64\")"
   ]
  },
  {
   "cell_type": "code",
   "execution_count": 31,
   "metadata": {},
   "outputs": [],
   "source": [
    "# 모든 컬럼에 , 를 제거하고 데이터 타입 변경해야 함 => 함수 작성\n",
    "\n",
    "df_man = df_man.apply(lambda x:x.str.replace(\",\",\"\").astype(\"int64\"))\n",
    "df_woman = df_woman.apply(lambda x:x.str.replace(\",\",\"\").astype(\"int64\"))"
   ]
  },
  {
   "cell_type": "code",
   "execution_count": 32,
   "metadata": {},
   "outputs": [
    {
     "data": {
      "text/plain": [
       "0~4세       int64\n",
       "5~9세       int64\n",
       "10~14세     int64\n",
       "15~19세     int64\n",
       "20~24세     int64\n",
       "25~29세     int64\n",
       "30~34세     int64\n",
       "35~39세     int64\n",
       "40~44세     int64\n",
       "45~49세     int64\n",
       "50~54세     int64\n",
       "55~59세     int64\n",
       "60~64세     int64\n",
       "65~69세     int64\n",
       "70~74세     int64\n",
       "75~79세     int64\n",
       "80~84세     int64\n",
       "85~89세     int64\n",
       "90~94세     int64\n",
       "95~99세     int64\n",
       "100세 이상    int64\n",
       "dtype: object"
      ]
     },
     "execution_count": 32,
     "metadata": {},
     "output_type": "execute_result"
    }
   ],
   "source": [
    "df_man.dtypes"
   ]
  },
  {
   "cell_type": "markdown",
   "metadata": {},
   "source": [
    "- 남자, 여자 컬럼명 통일"
   ]
  },
  {
   "cell_type": "code",
   "execution_count": 33,
   "metadata": {},
   "outputs": [
    {
     "data": {
      "text/plain": [
       "Index(['0~4세', '5~9세', '10~14세', '15~19세', '20~24세', '25~29세', '30~34세',\n",
       "       '35~39세', '40~44세', '45~49세', '50~54세', '55~59세', '60~64세', '65~69세',\n",
       "       '70~74세', '75~79세', '80~84세', '85~89세', '90~94세', '95~99세', '100세 이상'],\n",
       "      dtype='object')"
      ]
     },
     "execution_count": 33,
     "metadata": {},
     "output_type": "execute_result"
    }
   ],
   "source": [
    "df_man.columns"
   ]
  },
  {
   "cell_type": "code",
   "execution_count": 36,
   "metadata": {},
   "outputs": [
    {
     "data": {
      "text/plain": [
       "Index(['0~4세', '5~9세', '10~14세', '15~19세', '20~24세', '25~29세', '30~34세',\n",
       "       '35~39세', '40~44세', '45~49세', '50~54세', '55~59세', '60~64세', '65~69세',\n",
       "       '70~74세', '75~79세', '80~84세', '85~89세', '90~94세', '95~99세', '100세 이상'],\n",
       "      dtype='object')"
      ]
     },
     "execution_count": 36,
     "metadata": {},
     "output_type": "execute_result"
    }
   ],
   "source": [
    "df_woman.columns"
   ]
  },
  {
   "cell_type": "code",
   "execution_count": 35,
   "metadata": {},
   "outputs": [],
   "source": [
    "# df_woman.columns = ['0~4세', '5~9세', '10~14세', '15~19세', '20~24세', '25~29세', '30~34세',\n",
    "#        '35~39세', '40~44세', '45~49세', '50~54세', '55~59세', '60~64세', '65~69세',\n",
    "#        '70~74세', '75~79세', '80~84세', '85~89세', '90~94세', '95~99세', '100세 이상']\n",
    "\n",
    "df_woman.columns = df_man.columns   # 컬럼명이 일치할때 이렇게 해 볼수있음"
   ]
  },
  {
   "cell_type": "code",
   "execution_count": 38,
   "metadata": {},
   "outputs": [
    {
     "data": {
      "text/plain": [
       "0~4세        706625\n",
       "5~9세       1052112\n",
       "10~14세     1205210\n",
       "15~19세     1202795\n",
       "20~24세     1490016\n",
       "25~29세     1805935\n",
       "30~34세     1767267\n",
       "35~39세     1654974\n",
       "40~44세     2060002\n",
       "45~49세     2003993\n",
       "50~54세     2306422\n",
       "55~59세     2049129\n",
       "60~64세     2122654\n",
       "65~69세     1591968\n",
       "70~74세     1051593\n",
       "75~79세      730834\n",
       "80~84세      517546\n",
       "85~89세      220922\n",
       "90~94세       56592\n",
       "95~99세        9135\n",
       "100세 이상       1520\n",
       "Name: 전국  , dtype: int64"
      ]
     },
     "execution_count": 38,
     "metadata": {},
     "output_type": "execute_result"
    }
   ],
   "source": [
    "df_man.iloc[0]"
   ]
  },
  {
   "cell_type": "code",
   "execution_count": 40,
   "metadata": {},
   "outputs": [
    {
     "data": {
      "image/png": "[encoded data removed]",
      "text/plain": [
       "<Figure size 1000x700 with 1 Axes>"
      ]
     },
     "metadata": {},
     "output_type": "display_data"
    }
   ],
   "source": [
    "plt.figure(figsize=(10,7))\n",
    "plt.barh(y=df_man.columns,width=-df_man.iloc[0] // 10000)\n",
    "plt.barh(y=df_woman.columns,width=df_woman.iloc[0] // 10000)\n",
    "plt.title(\"2023 6월 기준 대한민국 인구 피라미드\")\n",
    "plt.savefig(\"202306_인구피라미드.png\")\n",
    "plt.show()"
   ]
  },
  {
   "cell_type": "code",
   "execution_count": null,
   "metadata": {},
   "outputs": [],
   "source": []
  }
 ],
 "metadata": {
  "kernelspec": {
   "display_name": "pythonsource",
   "language": "python",
   "name": "python3"
  },
  "language_info": {
   "codemirror_mode": {
    "name": "ipython",
    "version": 3
   },
   "file_extension": ".py",
   "mimetype": "text/x-python",
   "name": "python",
   "nbconvert_exporter": "python",
   "pygments_lexer": "ipython3",
   "version": "3.11.4"
  },
  "orig_nbformat": 4
 },
 "nbformat": 4,
 "nbformat_minor": 2
}
