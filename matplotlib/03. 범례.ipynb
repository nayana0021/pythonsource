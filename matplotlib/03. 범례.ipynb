{
 "cells": [
  {
   "cell_type": "markdown",
   "id": "85144bf0",
   "metadata": {},
   "source": [
    "## matplotlib (https://matplotlib.org/stable/index)\n",
    "\n",
    "- 다양한 형태의 그래프를 통해서 데이터 시각화를 할 수 있는 라이브러리"
   ]
  },
  {
   "cell_type": "markdown",
   "id": "3ca6b646",
   "metadata": {},
   "source": [
    "### 범례 설정\n",
    "- https://matplotlib.org/stable/api/legend_api.html"
   ]
  },
  {
   "cell_type": "code",
   "execution_count": null,
   "id": "c64790b7",
   "metadata": {},
   "outputs": [],
   "source": []
  },
  {
   "cell_type": "code",
   "execution_count": null,
   "id": "5d708721",
   "metadata": {},
   "outputs": [],
   "source": []
  },
  {
   "cell_type": "code",
   "execution_count": null,
   "id": "00aec80f",
   "metadata": {},
   "outputs": [],
   "source": []
  },
  {
   "cell_type": "code",
   "execution_count": null,
   "id": "8da926b4",
   "metadata": {},
   "outputs": [],
   "source": []
  },
  {
   "cell_type": "markdown",
   "id": "acdfa1c5",
   "metadata": {},
   "source": [
    "- 두 개의 선을 하나의 차트에 그릴 때"
   ]
  },
  {
   "cell_type": "code",
   "execution_count": null,
   "id": "f676ba39",
   "metadata": {},
   "outputs": [],
   "source": []
  },
  {
   "cell_type": "code",
   "execution_count": null,
   "id": "fed2d515",
   "metadata": {},
   "outputs": [],
   "source": []
  },
  {
   "cell_type": "code",
   "execution_count": null,
   "id": "ff28988d",
   "metadata": {},
   "outputs": [],
   "source": []
  },
  {
   "cell_type": "markdown",
   "id": "bdf17b9e",
   "metadata": {},
   "source": [
    "><b>1) 범례 위치 설정</b>"
   ]
  },
  {
   "cell_type": "markdown",
   "id": "89c7395c",
   "metadata": {},
   "source": [
    "- 범례 위치 지정하기 - 기본은 5 \n",
    "- 0 or 아무값도 안 주면 그래프에 따라 자동으로 위치 지정\n",
    "\n",
    "<table border=\"1\" align=\"left\">\n",
    "    <tr>\n",
    "        <td>2(upper left)</td>\n",
    "        <td>9(upper center)</td>\n",
    "        <td>1(upper right)</td>\n",
    "    </tr>\n",
    "    <tr>\n",
    "        <td>6(center left)</td>\n",
    "        <td>10(center)</td>\n",
    "        <td>5(right),7(center right)</td>\n",
    "    </tr>\n",
    "    <tr>\n",
    "        <td>3(lower left)</td>\n",
    "        <td>8(lower center)</td>\n",
    "        <td>4(lower right)</td>\n",
    "    </tr>\n",
    "</table>   \n",
    "\n",
    "<br><br>\n"
   ]
  },
  {
   "cell_type": "code",
   "execution_count": null,
   "id": "b0340f51",
   "metadata": {
    "scrolled": true
   },
   "outputs": [],
   "source": []
  },
  {
   "cell_type": "code",
   "execution_count": null,
   "id": "2706c1f9",
   "metadata": {},
   "outputs": [],
   "source": []
  },
  {
   "cell_type": "code",
   "execution_count": null,
   "id": "5cca7371",
   "metadata": {},
   "outputs": [],
   "source": []
  },
  {
   "cell_type": "code",
   "execution_count": null,
   "id": "fa18ea17",
   "metadata": {},
   "outputs": [],
   "source": []
  },
  {
   "cell_type": "code",
   "execution_count": null,
   "id": "c9a1f702",
   "metadata": {},
   "outputs": [],
   "source": []
  },
  {
   "cell_type": "code",
   "execution_count": null,
   "id": "cbf30e43",
   "metadata": {},
   "outputs": [],
   "source": []
  },
  {
   "cell_type": "markdown",
   "id": "f3bb2a03",
   "metadata": {},
   "source": [
    "><b>2) 범례 폰트 사이즈 지정</b>"
   ]
  },
  {
   "cell_type": "code",
   "execution_count": null,
   "id": "8604e26a",
   "metadata": {},
   "outputs": [],
   "source": []
  },
  {
   "cell_type": "markdown",
   "id": "69ac8750",
   "metadata": {},
   "source": [
    "><b>3) 범례 행 수 지정</b>"
   ]
  },
  {
   "cell_type": "code",
   "execution_count": null,
   "id": "ae6226ef",
   "metadata": {},
   "outputs": [],
   "source": []
  },
  {
   "cell_type": "code",
   "execution_count": null,
   "id": "91337ac6",
   "metadata": {},
   "outputs": [],
   "source": []
  },
  {
   "cell_type": "markdown",
   "id": "6ed04943",
   "metadata": {},
   "source": [
    "- [문제] : data1(x : 1, 2, 3; y : 1, 2, 3) 과 data2(x : 1, 2, 3; y : 1, 100, 200) 을 그래프로 출력하시오."
   ]
  },
  {
   "cell_type": "code",
   "execution_count": null,
   "id": "b440e56e",
   "metadata": {},
   "outputs": [],
   "source": []
  },
  {
   "cell_type": "code",
   "execution_count": null,
   "id": "7d19abfc",
   "metadata": {},
   "outputs": [],
   "source": []
  },
  {
   "cell_type": "code",
   "execution_count": null,
   "id": "12641359",
   "metadata": {},
   "outputs": [],
   "source": []
  }
 ],
 "metadata": {
  "kernelspec": {
   "display_name": "Python 3 (ipykernel)",
   "language": "python",
   "name": "python3"
  },
  "language_info": {
   "codemirror_mode": {
    "name": "ipython",
    "version": 3
   },
   "file_extension": ".py",
   "mimetype": "text/x-python",
   "name": "python",
   "nbconvert_exporter": "python",
   "pygments_lexer": "ipython3",
   "version": "3.9.12"
  }
 },
 "nbformat": 4,
 "nbformat_minor": 5
}
