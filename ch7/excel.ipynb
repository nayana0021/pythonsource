{
 "cells": [
  {
   "cell_type": "code",
   "execution_count": 4,
   "metadata": {},
   "outputs": [],
   "source": [
    "# 라이브러리 로드\n",
    "from openpyxl import Workbook\n"
   ]
  },
  {
   "cell_type": "code",
   "execution_count": 2,
   "metadata": {},
   "outputs": [],
   "source": [
    "wb = Workbook() # 워크북 객체 생성 - 문서 하나 만든 셈\n",
    "\n",
    "ws = wb.active  # 활성화된 워크 시트 가져오기\n",
    "ws.title = \"test\"   # 시트의 이름 바꾸기\n",
    "\n",
    "wb.save(\"sample1.xlsx\")\n",
    "wb.close()"
   ]
  },
  {
   "cell_type": "code",
   "execution_count": 6,
   "metadata": {},
   "outputs": [
    {
     "name": "stdout",
     "output_type": "stream",
     "text": [
      "['Sheet', 'MySheet', '급여명세']\n"
     ]
    }
   ],
   "source": [
    "wb = Workbook() # 기본 시트 하나는 생성이 된다\n",
    "\n",
    "#새로운 시트 하나 생성\n",
    "ws = wb.create_sheet()  \n",
    "ws.title = \"MySheet\"\n",
    "ws.sheet_properties.tabColor = \"ff66ff\"\n",
    "\n",
    "ws2 = wb.create_sheet(\"급여명세\",2) # 이름, 인덱스 줌\n",
    "\n",
    "# 특정 시트에 접근\n",
    "sheet1 = wb[\"MySheet\"]\n",
    "sheet1[\"A1\"] = \"Test\"\n",
    "\n",
    "# 생성된 모든 시트의 이름 출력\n",
    "print(wb.sheetnames)\n",
    "\n",
    "# sheet 복사\n",
    "target = wb.copy_worksheet(sheet1)\n",
    "target.title = \"Copied Sheet\"\n",
    "\n",
    "wb.save(\"sample2.xlsx\")\n",
    "wb.close()"
   ]
  },
  {
   "cell_type": "code",
   "execution_count": 8,
   "metadata": {},
   "outputs": [
    {
     "name": "stdout",
     "output_type": "stream",
     "text": [
      "<Cell 'Test'.A2>\n",
      "2\n",
      "1\n"
     ]
    }
   ],
   "source": [
    "from random import *\n",
    "\n",
    "wb = Workbook()\n",
    "ws = wb.active\n",
    "ws.title = \"Test\"\n",
    "\n",
    "# A1 셀에 1 이라는 값 입력\n",
    "ws[\"A1\"] = 1\n",
    "ws[\"A2\"] = 2\n",
    "ws[\"A3\"] = 3\n",
    "\n",
    "# B1 ~ B3 숫자 입력\n",
    "ws[\"B1\"] = 4\n",
    "ws[\"B2\"] = 5\n",
    "ws[\"B3\"] = 6\n",
    "\n",
    "# 특정 셀 정보 출력\n",
    "print(ws[\"A2\"])\n",
    "print(ws[\"A2\"].value)\n",
    "\n",
    "# 셀에 접근하는 두번째 방법\n",
    "# row = 1,2,3,...\n",
    "# coloumn = A(1),B(2),...\n",
    "\n",
    "print(ws.cell(row=1, column=1).value) # ws[\"A1\"]\n",
    "\n",
    "# 반복문을 사용해서 랜덤 숫자 채우기\n",
    "for x in range(1,11):\n",
    "    for y in range(1,11):\n",
    "        ws.cell(row=x, column=y, value=randint(0,100))\n",
    "\n",
    "\n",
    "wb.save(\"sample1.xlsx\")\n",
    "wb.close()\n"
   ]
  },
  {
   "cell_type": "code",
   "execution_count": 10,
   "metadata": {},
   "outputs": [
    {
     "name": "stdout",
     "output_type": "stream",
     "text": [
      "8 1 73 65 81 62 34 48 47 100 \n",
      "38 50 65 49 24 24 31 30 41 60 \n",
      "5 44 24 63 99 20 47 100 0 53 \n",
      "88 21 23 69 83 4 54 81 4 0 \n",
      "49 81 40 22 74 11 32 66 84 54 \n",
      "18 60 83 0 56 11 0 53 0 42 \n",
      "73 29 27 49 78 48 1 93 89 89 \n",
      "52 37 85 93 46 1 37 74 47 34 \n",
      "17 38 60 50 12 67 61 48 70 100 \n",
      "55 41 21 5 10 7 88 57 24 100 \n"
     ]
    }
   ],
   "source": [
    "# 엑셀 파일 불러오기\n",
    "\n",
    "from openpyxl import load_workbook\n",
    "\n",
    "wb = load_workbook(\"sample1.xlsx\")\n",
    "ws = wb.active  # 첫번째 시트임 (원래 엑셀 열면 생기는 것 개념)\n",
    "\n",
    "# 시트 안에 들어있는 데이터의 갯수를 정확하게 알고 있을 때\n",
    "# for x in range(1,11):\n",
    "#     for y in range(1,11):\n",
    "#         print(ws.cell(row=x, column=y).value, end=\" \")\n",
    "#     print()\n",
    "\n",
    "# max_row / max_column - 데이터의 갯수를 모를때\n",
    "\n",
    "for x in range(1,ws.max_row+1):\n",
    "    for y in range(1,ws.max_column+1):\n",
    "        print(ws.cell(row=x, column=y).value, end=\" \")\n",
    "    print()\n",
    "\n",
    "wb.close()"
   ]
  },
  {
   "cell_type": "code",
   "execution_count": 15,
   "metadata": {},
   "outputs": [
    {
     "name": "stdout",
     "output_type": "stream",
     "text": [
      "(<Cell 'Sheet'.B1>, <Cell 'Sheet'.B2>, <Cell 'Sheet'.B3>, <Cell 'Sheet'.B4>, <Cell 'Sheet'.B5>, <Cell 'Sheet'.B6>, <Cell 'Sheet'.B7>, <Cell 'Sheet'.B8>, <Cell 'Sheet'.B9>, <Cell 'Sheet'.B10>, <Cell 'Sheet'.B11>)\n",
      "영어\n",
      "85\n",
      "36\n",
      "95\n",
      "66\n",
      "84\n",
      "2\n",
      "8\n",
      "27\n",
      "94\n",
      "3\n",
      "영어 85 36 95 66 84 2 8 27 94 3 \n",
      "수학 5 21 21 61 2 9 25 77 27 66 \n",
      "1 85 5 \n",
      "2 36 21 \n",
      "3 95 21 \n",
      "4 66 61 \n",
      "5 84 2 \n",
      "6 2 9 \n"
     ]
    }
   ],
   "source": [
    "from openpyxl import Workbook, load_workbook    # 생성할때,읽어올때 임포트\n",
    "\n",
    "wb = Workbook()\n",
    "ws = wb.active\n",
    "\n",
    "# 리스트 형태로 데이터 삽입\n",
    "# 리스트 [] : 아무거나 담을 수 있음\n",
    "\n",
    "ws.append([\"번호\",\"영어\",\"수학\"])\n",
    "for i in range(1,11):\n",
    "    ws.append([i,randint(0,100), randint(0,100)])\n",
    "\n",
    "# 특정 과목 - 영어 컬럼의 점수 출력\n",
    "print(ws['B'])\n",
    "\n",
    "for cell in ws['B']:\n",
    "    print(cell.value)\n",
    "\n",
    "for cols in ws['B:C']:\n",
    "    for cell in cols:\n",
    "        print(cell.value, end=\" \")  # 컬럼 단위로 출력\n",
    "    print()\n",
    "\n",
    "for rows in ws['2:7']:  # 범위 지정 가능\n",
    "    for cell in rows:\n",
    "        print(cell.value, end=\" \")  \n",
    "    print()\n",
    "\n",
    "# iter_rows() : 전체 rows 를 가져오는 함수, iter_cols() : 전체 cols 가져오는 함수\n",
    "\n",
    "\n",
    "wb.save(\"range.xlsx\")\n",
    "wb.close()"
   ]
  },
  {
   "cell_type": "code",
   "execution_count": 8,
   "metadata": {},
   "outputs": [
    {
     "name": "stdout",
     "output_type": "stream",
     "text": [
      "1 번 학생의 영어 점수는  85 입니다\n",
      "3 번 학생의 영어 점수는  95 입니다\n",
      "5 번 학생의 영어 점수는  84 입니다\n",
      "9 번 학생의 영어 점수는  94 입니다\n"
     ]
    }
   ],
   "source": [
    "# range.xlsx 읽기\n",
    "from openpyxl import load_workbook\n",
    "\n",
    "wb = load_workbook(\"range.xlsx\")\n",
    "ws = wb.active\n",
    "\n",
    "for row in ws.iter_rows(min_row=2): # min_row 를 지정해줌으로 제목행 제외하고 가져온다\n",
    "    if int(row[1].value) > 80:\n",
    "        print(row[0].value, \"번 학생의 영어 점수는 \", row[1].value, \"입니다\")\n",
    "\n",
    "# 영어 과목명을 컴퓨터로 변경 후 새로운 엑셀 파일로 저장\n",
    "for row in ws.iter_rows(max_row=1):\n",
    "    for cell in row:\n",
    "        if cell.value == \"영어\":\n",
    "            cell.value = \"컴퓨터\"\n",
    "\n",
    "wb.save(\"range_modified.xlsx\")\n",
    "wb.close()\n"
   ]
  },
  {
   "cell_type": "code",
   "execution_count": 21,
   "metadata": {},
   "outputs": [],
   "source": [
    "# 행, 열 삽입\n",
    "wb = load_workbook(\"range.xlsx\")\n",
    "ws = wb.active\n",
    "\n",
    "# ws.insert_rows(8)\n",
    "\n",
    "ws.insert_rows(8,5)\n",
    "\n",
    "ws.insert_cols(2,3)\n",
    "\n",
    "wb.save(\"range_insert.xlsx\")\n",
    "wb.close()"
   ]
  },
  {
   "cell_type": "code",
   "execution_count": 23,
   "metadata": {},
   "outputs": [],
   "source": [
    "# 행, 열 삽입\n",
    "wb = load_workbook(\"range.xlsx\")\n",
    "ws = wb.active\n",
    "\n",
    "# ws.delete_rows(8)\n",
    "ws.delete_cols(1,2)\n",
    "\n",
    "wb.save(\"range_insert.xlsx\")\n",
    "wb.close()"
   ]
  },
  {
   "cell_type": "code",
   "execution_count": 26,
   "metadata": {},
   "outputs": [],
   "source": [
    "# 차트 작성 - 바 차트\n",
    "from openpyxl.chart import BarChart,Reference\n",
    "\n",
    "wb = load_workbook(\"range.xlsx\")\n",
    "ws = wb.active\n",
    "\n",
    "# 범위 지정\n",
    "bar_value = Reference(ws, min_row=1, max_row=11, min_col=2, max_col=3)  # min_row=1 제목 행이 들어가게 됨\n",
    "# 차트 종류 지정\n",
    "bar_chart = BarChart()\n",
    "# 차트 데이터 추가( titles_from_data=True : 범위에 제목 행 들어가 있는 경우)\n",
    "bar_chart.add_data(bar_value,titles_from_data=True) # 범례를 주는 것임 (min_row=1 제목 행)\n",
    "\n",
    "ws.add_chart(bar_chart, \"E1\")\n",
    "\n",
    "wb.save(\"range_chart.xlsx\")\n",
    "wb.close()"
   ]
  },
  {
   "cell_type": "code",
   "execution_count": 27,
   "metadata": {},
   "outputs": [],
   "source": [
    "# 차트 작성 - 라인\n",
    "from openpyxl.chart import LineChart,Reference\n",
    "\n",
    "wb = load_workbook(\"range.xlsx\")\n",
    "ws = wb.active\n",
    "\n",
    "# 범위 지정\n",
    "line_value = Reference(ws, min_row=1, max_row=11, min_col=2, max_col=3)  # min_row=1 제목 행이 들어가게 됨\n",
    "# 차트 종류 지정\n",
    "line_chart = LineChart()\n",
    "# 차트 데이터 추가( titles_from_data=True : 범위에 제목 행 들어가 있는 경우)\n",
    "line_chart.add_data(line_value,titles_from_data=True) # 범례를 주는 것임 (min_row=1 제목 행)\n",
    "\n",
    "line_chart.title =\"성적표\"\n",
    "line_chart.style =20\n",
    "line_chart.y_axis.title =\"점수\"\n",
    "line_chart.x_axis.title =\"번호\"\n",
    "\n",
    "\n",
    "ws.add_chart(line_chart, \"E1\")\n",
    "\n",
    "wb.save(\"range_chart.xlsx\")\n",
    "wb.close()"
   ]
  },
  {
   "cell_type": "code",
   "execution_count": 7,
   "metadata": {},
   "outputs": [],
   "source": [
    "# 셀서식(너비, 높이, 폰트, 테두리...)\n",
    "from openpyxl import load_workbook\n",
    "from openpyxl.styles import Font, Border, Alignment, PatternFill\n",
    "from openpyxl.styles.borders import Side\n",
    "\n",
    "wb = load_workbook(\"range.xlsx\")\n",
    "ws = wb.active\n",
    "\n",
    "# 셀 너비 조절\n",
    "ws.column_dimensions[\"A\"].width = 5\n",
    "\n",
    "# 행 높이 조절\n",
    "ws.row_dimensions[1].height = 50\n",
    "\n",
    "# 특정 셀에 서로 다른 폰트 스타일 적용\n",
    "a1 = ws[\"A1\"]\n",
    "b1 = ws[\"B1\"]\n",
    "c1 = ws[\"C1\"]\n",
    "\n",
    "a1.font = Font(color=\"ff0000\", italic=True, bold=True)\n",
    "b1.font = Font(color=\"cc33ff\", name=\"Arial\", strike=True)\n",
    "c1.font = Font(color=\"0000ff\", size=20, underline=\"single\")\n",
    "\n",
    "# 테두리\n",
    "thin_border = Border(left=Side(style=\"thin\"), right=Side(style=\"dashed\"),\n",
    "                    top=Side(style=\"dotted\"), bottom=Side(style=\"double\"))\n",
    "\n",
    "a1.border = thin_border\n",
    "c1.border = thin_border\n",
    "\n",
    "# 셀 정렬 및 배경색\n",
    "for row in ws.rows:\n",
    "    for cell in row:\n",
    "\n",
    "        cell.alignment = Alignment(horizontal=\"center\", vertical=\"center\")\n",
    "\n",
    "        if cell.column == 1:\n",
    "            continue\n",
    "\n",
    "        if isinstance(cell.value, int) and cell.value > 80:\n",
    "            cell.fill = PatternFill(fgColor=\"00ff00\", fill_type=\"solid\")\n",
    "            cell.font = Font(color=\"ff0000\")\n",
    "\n",
    "wb.save(\"range_style.xlsx\")\n",
    "wb.close()"
   ]
  },
  {
   "cell_type": "code",
   "execution_count": 10,
   "metadata": {},
   "outputs": [],
   "source": [
    "# 함수 삽입\n",
    "\n",
    "from datetime import datetime\n",
    "from openpyxl import Workbook\n",
    "\n",
    "wb = Workbook()\n",
    "ws = wb.active\n",
    "\n",
    "# 날짜 넣기\n",
    "ws[\"A1\"] = datetime.today()\n",
    "\n",
    "# 합계 구하기\n",
    "ws[\"A2\"] = \"=sum(1,2,3)\"\n",
    "\n",
    "# 평균 구하기\n",
    "ws[\"A3\"] = \"=average(1,2,3)\"\n",
    "\n",
    "# 데이터 삽입 후 엑셀 함수 적용\n",
    "ws[\"A4\"] = 10\n",
    "ws[\"A5\"] = 30\n",
    "ws[\"A6\"] = \"=sum(A4:A5)\"\n",
    "\n",
    "\n",
    "wb.save(\"sample_formula.xlsx\")\n",
    "wb.close()\n"
   ]
  },
  {
   "cell_type": "code",
   "execution_count": null,
   "metadata": {},
   "outputs": [],
   "source": []
  }
 ],
 "metadata": {
  "kernelspec": {
   "display_name": "pythonsource",
   "language": "python",
   "name": "python3"
  },
  "language_info": {
   "codemirror_mode": {
    "name": "ipython",
    "version": 3
   },
   "file_extension": ".py",
   "mimetype": "text/x-python",
   "name": "python",
   "nbconvert_exporter": "python",
   "pygments_lexer": "ipython3",
   "version": "3.11.4"
  },
  "orig_nbformat": 4
 },
 "nbformat": 4,
 "nbformat_minor": 2
}
