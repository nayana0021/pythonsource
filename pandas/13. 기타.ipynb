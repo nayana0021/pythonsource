{
 "cells": [
  {
   "cell_type": "markdown",
   "id": "ecab4e48",
   "metadata": {},
   "source": [
    "### 데이터 프레임 다른 포맷 형식으로 저장"
   ]
  },
  {
   "cell_type": "markdown",
   "id": "d06f2e0c",
   "metadata": {},
   "source": [
    "<img src=\"https://pandas.pydata.org/docs/_images/02_io_readwrite.svg\">"
   ]
  },
  {
   "cell_type": "code",
   "execution_count": 1,
   "id": "5fdb1316",
   "metadata": {},
   "outputs": [],
   "source": [
    "import pandas as pd"
   ]
  },
  {
   "cell_type": "code",
   "execution_count": 2,
   "id": "cd0756df",
   "metadata": {},
   "outputs": [
    {
     "data": {
      "text/html": [
       "<div>\n",
       "<style scoped>\n",
       "    .dataframe tbody tr th:only-of-type {\n",
       "        vertical-align: middle;\n",
       "    }\n",
       "\n",
       "    .dataframe tbody tr th {\n",
       "        vertical-align: top;\n",
       "    }\n",
       "\n",
       "    .dataframe thead th {\n",
       "        text-align: right;\n",
       "    }\n",
       "</style>\n",
       "<table border=\"1\" class=\"dataframe\">\n",
       "  <thead>\n",
       "    <tr style=\"text-align: right;\">\n",
       "      <th></th>\n",
       "      <th>c0</th>\n",
       "      <th>c1</th>\n",
       "    </tr>\n",
       "  </thead>\n",
       "  <tbody>\n",
       "    <tr>\n",
       "      <th>0</th>\n",
       "      <td>1</td>\n",
       "      <td>4</td>\n",
       "    </tr>\n",
       "    <tr>\n",
       "      <th>1</th>\n",
       "      <td>2</td>\n",
       "      <td>5</td>\n",
       "    </tr>\n",
       "    <tr>\n",
       "      <th>2</th>\n",
       "      <td>3</td>\n",
       "      <td>6</td>\n",
       "    </tr>\n",
       "  </tbody>\n",
       "</table>\n",
       "</div>"
      ],
      "text/plain": [
       "   c0  c1\n",
       "0   1   4\n",
       "1   2   5\n",
       "2   3   6"
      ]
     },
     "execution_count": 2,
     "metadata": {},
     "output_type": "execute_result"
    }
   ],
   "source": [
    "dict_data = {\n",
    "    \"c0\":[1,2,3],\n",
    "    \"c1\":[4,5,6]\n",
    "}\n",
    "df = pd.DataFrame(dict_data)\n",
    "df"
   ]
  },
  {
   "cell_type": "code",
   "execution_count": 3,
   "id": "6683ce3f",
   "metadata": {},
   "outputs": [],
   "source": [
    "df.to_csv(\"./df1.csv\",index=False)  # 인덱스를 저장 안하고 데이터만 저장"
   ]
  },
  {
   "cell_type": "code",
   "execution_count": 23,
   "id": "fc61e9ab",
   "metadata": {},
   "outputs": [],
   "source": [
    "from selenium import webdriver\n",
    "from selenium.webdriver.chrome.service import Service\n",
    "from webdriver_manager.chrome import ChromeDriverManager\n",
    "\n",
    "def set_chrome_driver():\n",
    "    chrome_options = webdriver.ChromeOptions()\n",
    "    chrome_options.add_argument(\"--start-maximized\")\n",
    "    # chrome_options.add_argument(\"--headless\")\n",
    "    driver = webdriver.Chrome(\n",
    "        service=Service(ChromeDriverManager().install()),options=chrome_options\n",
    "    )\n",
    "    return driver   # 드라이버 가지고 오는 함수 실행"
   ]
  },
  {
   "cell_type": "markdown",
   "id": "2130694f",
   "metadata": {},
   "source": [
    "### Youtube 댓글 크롤링 후 데이터 프레임 생성"
   ]
  },
  {
   "cell_type": "code",
   "execution_count": 24,
   "id": "72f244ac",
   "metadata": {},
   "outputs": [],
   "source": [
    "from bs4 import BeautifulSoup"
   ]
  },
  {
   "cell_type": "code",
   "execution_count": 33,
   "id": "b3a449a9",
   "metadata": {},
   "outputs": [
    {
     "ename": "NoSuchElementException",
     "evalue": "Message: no such element: Unable to locate element: {\"method\":\"xpath\",\"selector\":\"//*[@id=\"dismiss-button\"]/yt-button-shape/button/yt-touch-feedback-shape/div/div[2]\"}\n  (Session info: chrome=114.0.5735.198); For documentation on this error, please visit: https://www.selenium.dev/documentation/webdriver/troubleshooting/errors#no-such-element-exception\nStacktrace:\n0   chromedriver                        0x0000000102963f48 chromedriver + 4226888\n1   chromedriver                        0x000000010295c4f4 chromedriver + 4195572\n2   chromedriver                        0x00000001025a0d68 chromedriver + 281960\n3   chromedriver                        0x00000001025dbfc8 chromedriver + 524232\n4   chromedriver                        0x0000000102612c58 chromedriver + 748632\n5   chromedriver                        0x00000001025cff1c chromedriver + 474908\n6   chromedriver                        0x00000001025d0ef4 chromedriver + 478964\n7   chromedriver                        0x000000010292559c chromedriver + 3970460\n8   chromedriver                        0x00000001029296f0 chromedriver + 3987184\n9   chromedriver                        0x000000010292f5b4 chromedriver + 4011444\n10  chromedriver                        0x000000010292a2fc chromedriver + 3990268\n11  chromedriver                        0x00000001029021c0 chromedriver + 3826112\n12  chromedriver                        0x0000000102946088 chromedriver + 4104328\n13  chromedriver                        0x00000001029461e0 chromedriver + 4104672\n14  chromedriver                        0x0000000102955f28 chromedriver + 4169512\n15  libsystem_pthread.dylib             0x00000001a770ffa8 _pthread_start + 148\n16  libsystem_pthread.dylib             0x00000001a770ada0 thread_start + 8\n",
     "output_type": "error",
     "traceback": [
      "\u001b[0;31m---------------------------------------------------------------------------\u001b[0m",
      "\u001b[0;31mNoSuchElementException\u001b[0m                    Traceback (most recent call last)",
      "Cell \u001b[0;32mIn[33], line 18\u001b[0m\n\u001b[1;32m     14\u001b[0m interval \u001b[39m=\u001b[39m \u001b[39m5\u001b[39m\n\u001b[1;32m     16\u001b[0m \u001b[39m# 닫기버튼..\u001b[39;00m\n\u001b[1;32m     17\u001b[0m \u001b[39m# //*[@id=\"dismiss-button\"]/yt-button-shape/button/yt-touch-feedback-shape/div/div[2]\u001b[39;00m\n\u001b[0;32m---> 18\u001b[0m driver\u001b[39m.\u001b[39;49mfind_element(By\u001b[39m.\u001b[39;49mXPATH, \u001b[39m'\u001b[39;49m\u001b[39m//*[@id=\u001b[39;49m\u001b[39m\"\u001b[39;49m\u001b[39mdismiss-button\u001b[39;49m\u001b[39m\"\u001b[39;49m\u001b[39m]/yt-button-shape/button/yt-touch-feedback-shape/div/div[2]\u001b[39;49m\u001b[39m'\u001b[39;49m)\u001b[39m.\u001b[39mclick()\n\u001b[1;32m     20\u001b[0m \u001b[39mwhile\u001b[39;00m \u001b[39mTrue\u001b[39;00m:\n\u001b[1;32m     21\u001b[0m \n\u001b[1;32m     22\u001b[0m     \u001b[39m# 스크롤 이동\u001b[39;00m\n\u001b[1;32m     23\u001b[0m     driver\u001b[39m.\u001b[39mexecute_script(\u001b[39m\"\u001b[39m\u001b[39mwindow.scrollTo(0,document.body.scrollHeight)\u001b[39m\u001b[39m\"\u001b[39m)\n",
      "File \u001b[0;32m~/pythonsource/lib/python3.11/site-packages/selenium/webdriver/remote/webdriver.py:740\u001b[0m, in \u001b[0;36mWebDriver.find_element\u001b[0;34m(self, by, value)\u001b[0m\n\u001b[1;32m    737\u001b[0m     by \u001b[39m=\u001b[39m By\u001b[39m.\u001b[39mCSS_SELECTOR\n\u001b[1;32m    738\u001b[0m     value \u001b[39m=\u001b[39m \u001b[39mf\u001b[39m\u001b[39m'\u001b[39m\u001b[39m[name=\u001b[39m\u001b[39m\"\u001b[39m\u001b[39m{\u001b[39;00mvalue\u001b[39m}\u001b[39;00m\u001b[39m\"\u001b[39m\u001b[39m]\u001b[39m\u001b[39m'\u001b[39m\n\u001b[0;32m--> 740\u001b[0m \u001b[39mreturn\u001b[39;00m \u001b[39mself\u001b[39;49m\u001b[39m.\u001b[39;49mexecute(Command\u001b[39m.\u001b[39;49mFIND_ELEMENT, {\u001b[39m\"\u001b[39;49m\u001b[39musing\u001b[39;49m\u001b[39m\"\u001b[39;49m: by, \u001b[39m\"\u001b[39;49m\u001b[39mvalue\u001b[39;49m\u001b[39m\"\u001b[39;49m: value})[\u001b[39m\"\u001b[39m\u001b[39mvalue\u001b[39m\u001b[39m\"\u001b[39m]\n",
      "File \u001b[0;32m~/pythonsource/lib/python3.11/site-packages/selenium/webdriver/remote/webdriver.py:346\u001b[0m, in \u001b[0;36mWebDriver.execute\u001b[0;34m(self, driver_command, params)\u001b[0m\n\u001b[1;32m    344\u001b[0m response \u001b[39m=\u001b[39m \u001b[39mself\u001b[39m\u001b[39m.\u001b[39mcommand_executor\u001b[39m.\u001b[39mexecute(driver_command, params)\n\u001b[1;32m    345\u001b[0m \u001b[39mif\u001b[39;00m response:\n\u001b[0;32m--> 346\u001b[0m     \u001b[39mself\u001b[39;49m\u001b[39m.\u001b[39;49merror_handler\u001b[39m.\u001b[39;49mcheck_response(response)\n\u001b[1;32m    347\u001b[0m     response[\u001b[39m\"\u001b[39m\u001b[39mvalue\u001b[39m\u001b[39m\"\u001b[39m] \u001b[39m=\u001b[39m \u001b[39mself\u001b[39m\u001b[39m.\u001b[39m_unwrap_value(response\u001b[39m.\u001b[39mget(\u001b[39m\"\u001b[39m\u001b[39mvalue\u001b[39m\u001b[39m\"\u001b[39m, \u001b[39mNone\u001b[39;00m))\n\u001b[1;32m    348\u001b[0m     \u001b[39mreturn\u001b[39;00m response\n",
      "File \u001b[0;32m~/pythonsource/lib/python3.11/site-packages/selenium/webdriver/remote/errorhandler.py:245\u001b[0m, in \u001b[0;36mErrorHandler.check_response\u001b[0;34m(self, response)\u001b[0m\n\u001b[1;32m    243\u001b[0m         alert_text \u001b[39m=\u001b[39m value[\u001b[39m\"\u001b[39m\u001b[39malert\u001b[39m\u001b[39m\"\u001b[39m]\u001b[39m.\u001b[39mget(\u001b[39m\"\u001b[39m\u001b[39mtext\u001b[39m\u001b[39m\"\u001b[39m)\n\u001b[1;32m    244\u001b[0m     \u001b[39mraise\u001b[39;00m exception_class(message, screen, stacktrace, alert_text)  \u001b[39m# type: ignore[call-arg]  # mypy is not smart enough here\u001b[39;00m\n\u001b[0;32m--> 245\u001b[0m \u001b[39mraise\u001b[39;00m exception_class(message, screen, stacktrace)\n",
      "\u001b[0;31mNoSuchElementException\u001b[0m: Message: no such element: Unable to locate element: {\"method\":\"xpath\",\"selector\":\"//*[@id=\"dismiss-button\"]/yt-button-shape/button/yt-touch-feedback-shape/div/div[2]\"}\n  (Session info: chrome=114.0.5735.198); For documentation on this error, please visit: https://www.selenium.dev/documentation/webdriver/troubleshooting/errors#no-such-element-exception\nStacktrace:\n0   chromedriver                        0x0000000102963f48 chromedriver + 4226888\n1   chromedriver                        0x000000010295c4f4 chromedriver + 4195572\n2   chromedriver                        0x00000001025a0d68 chromedriver + 281960\n3   chromedriver                        0x00000001025dbfc8 chromedriver + 524232\n4   chromedriver                        0x0000000102612c58 chromedriver + 748632\n5   chromedriver                        0x00000001025cff1c chromedriver + 474908\n6   chromedriver                        0x00000001025d0ef4 chromedriver + 478964\n7   chromedriver                        0x000000010292559c chromedriver + 3970460\n8   chromedriver                        0x00000001029296f0 chromedriver + 3987184\n9   chromedriver                        0x000000010292f5b4 chromedriver + 4011444\n10  chromedriver                        0x000000010292a2fc chromedriver + 3990268\n11  chromedriver                        0x00000001029021c0 chromedriver + 3826112\n12  chromedriver                        0x0000000102946088 chromedriver + 4104328\n13  chromedriver                        0x00000001029461e0 chromedriver + 4104672\n14  chromedriver                        0x0000000102955f28 chromedriver + 4169512\n15  libsystem_pthread.dylib             0x00000001a770ffa8 _pthread_start + 148\n16  libsystem_pthread.dylib             0x00000001a770ada0 thread_start + 8\n"
     ]
    }
   ],
   "source": [
    "import time\n",
    "from selenium.webdriver.common.by import By\n",
    "\n",
    "driver = set_chrome_driver()\n",
    "driver.get(\"https://www.youtube.com/watch?v=HosW0gulISQ\")\n",
    "\n",
    "time.sleep(3)\n",
    "\n",
    "# # 닫기버튼..\n",
    "# # //*[@id=\"dismiss-button\"]/yt-button-shape/button/yt-touch-feedback-shape/div/div[2]\n",
    "# driver.find_element(By.XPATH, '//*[@id=\"dismiss-button\"]/yt-button-shape/button/yt-touch-feedback-shape/div/div[2]').click()\n",
    "\n",
    "# 현재 문서 높이\n",
    "prev_height = driver.execute_script(\"return document.documentElement.scrollHeight\")\n",
    "\n",
    "# 스크롤 이동 시간 간격\n",
    "interval = 5\n",
    "\n",
    "while True:\n",
    "\n",
    "    # 스크롤 이동\n",
    "    driver.execute_script(\"window.scrollTo(0,document.body.scrollHeight)\")\n",
    "\n",
    "    # 페이지 로딩 대기\n",
    "    time.sleep(interval)\n",
    "\n",
    "    # 스크롤이 진행된 후 현재 문서 높이\n",
    "    curr_height = driver.execute_script(\"return document.documentElement.scrollHeight\")\n",
    "\n",
    "    if curr_height == prev_height:\n",
    "            break\n",
    "\n",
    "    prev_height = curr_height\n",
    "\n",
    "\n",
    "time.sleep(2)\n",
    "\n",
    "soup = BeautifulSoup(driver.page_source,\"lxml\")\n"
   ]
  },
  {
   "cell_type": "code",
   "execution_count": null,
   "id": "b170eacd",
   "metadata": {},
   "outputs": [],
   "source": [
    "# 파싱 - id, 내용\n"
   ]
  },
  {
   "cell_type": "markdown",
   "id": "6a35348d",
   "metadata": {},
   "source": [
    "#### [참고] 전체 스크롤의 크기 확인하기"
   ]
  },
  {
   "cell_type": "code",
   "execution_count": null,
   "id": "54de3efa",
   "metadata": {},
   "outputs": [],
   "source": [
    "# body 태그\n",
    "height = driver.execute_script(\"return document.body.scrollHeight\")\n",
    "print(\"body_scrollHeight\", height)\n",
    "\n",
    "# html 태그\n",
    "doc_height = driver.execute_script(\"return document.documentElement.scrollHeight\")\n",
    "print(\"documentElement_scrollHeight\", doc_height)"
   ]
  },
  {
   "cell_type": "code",
   "execution_count": null,
   "id": "2524f7cc",
   "metadata": {},
   "outputs": [],
   "source": []
  },
  {
   "cell_type": "code",
   "execution_count": null,
   "id": "501cbf8c",
   "metadata": {},
   "outputs": [],
   "source": []
  },
  {
   "cell_type": "code",
   "execution_count": null,
   "id": "e8e185f8",
   "metadata": {},
   "outputs": [],
   "source": []
  },
  {
   "cell_type": "code",
   "execution_count": null,
   "id": "31631591",
   "metadata": {},
   "outputs": [],
   "source": []
  },
  {
   "cell_type": "code",
   "execution_count": null,
   "id": "225690a1",
   "metadata": {},
   "outputs": [],
   "source": []
  },
  {
   "cell_type": "code",
   "execution_count": null,
   "id": "ee050309",
   "metadata": {},
   "outputs": [],
   "source": []
  },
  {
   "cell_type": "code",
   "execution_count": null,
   "id": "e6ea32ef",
   "metadata": {},
   "outputs": [],
   "source": []
  },
  {
   "cell_type": "code",
   "execution_count": null,
   "id": "0852d4bb",
   "metadata": {},
   "outputs": [],
   "source": []
  }
 ],
 "metadata": {
  "kernelspec": {
   "display_name": "Python 3 (ipykernel)",
   "language": "python",
   "name": "python3"
  },
  "language_info": {
   "codemirror_mode": {
    "name": "ipython",
    "version": 3
   },
   "file_extension": ".py",
   "mimetype": "text/x-python",
   "name": "python",
   "nbconvert_exporter": "python",
   "pygments_lexer": "ipython3",
   "version": "3.11.4"
  }
 },
 "nbformat": 4,
 "nbformat_minor": 5
}
