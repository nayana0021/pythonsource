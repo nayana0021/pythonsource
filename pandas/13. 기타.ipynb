{
 "cells": [
  {
   "cell_type": "markdown",
   "id": "ecab4e48",
   "metadata": {},
   "source": [
    "### 데이터 프레임 다른 포맷 형식으로 저장"
   ]
  },
  {
   "cell_type": "markdown",
   "id": "d06f2e0c",
   "metadata": {},
   "source": [
    "<img src=\"https://pandas.pydata.org/docs/_images/02_io_readwrite.svg\">"
   ]
  },
  {
   "cell_type": "code",
   "execution_count": 1,
   "id": "5fdb1316",
   "metadata": {},
   "outputs": [],
   "source": [
    "import pandas as pd"
   ]
  },
  {
   "cell_type": "code",
   "execution_count": 2,
   "id": "cd0756df",
   "metadata": {},
   "outputs": [
    {
     "data": {
      "text/html": [
       "<div>\n",
       "<style scoped>\n",
       "    .dataframe tbody tr th:only-of-type {\n",
       "        vertical-align: middle;\n",
       "    }\n",
       "\n",
       "    .dataframe tbody tr th {\n",
       "        vertical-align: top;\n",
       "    }\n",
       "\n",
       "    .dataframe thead th {\n",
       "        text-align: right;\n",
       "    }\n",
       "</style>\n",
       "<table border=\"1\" class=\"dataframe\">\n",
       "  <thead>\n",
       "    <tr style=\"text-align: right;\">\n",
       "      <th></th>\n",
       "      <th>c0</th>\n",
       "      <th>c1</th>\n",
       "    </tr>\n",
       "  </thead>\n",
       "  <tbody>\n",
       "    <tr>\n",
       "      <th>0</th>\n",
       "      <td>1</td>\n",
       "      <td>4</td>\n",
       "    </tr>\n",
       "    <tr>\n",
       "      <th>1</th>\n",
       "      <td>2</td>\n",
       "      <td>5</td>\n",
       "    </tr>\n",
       "    <tr>\n",
       "      <th>2</th>\n",
       "      <td>3</td>\n",
       "      <td>6</td>\n",
       "    </tr>\n",
       "  </tbody>\n",
       "</table>\n",
       "</div>"
      ],
      "text/plain": [
       "   c0  c1\n",
       "0   1   4\n",
       "1   2   5\n",
       "2   3   6"
      ]
     },
     "execution_count": 2,
     "metadata": {},
     "output_type": "execute_result"
    }
   ],
   "source": [
    "dict_data = {\n",
    "    \"c0\":[1,2,3],\n",
    "    \"c1\":[4,5,6]\n",
    "}\n",
    "df = pd.DataFrame(dict_data)\n",
    "df"
   ]
  },
  {
   "cell_type": "code",
   "execution_count": 3,
   "id": "6683ce3f",
   "metadata": {},
   "outputs": [],
   "source": [
    "df.to_csv(\"./df1.csv\",index=False)  # 인덱스를 저장 안하고 데이터만 저장"
   ]
  },
  {
   "cell_type": "code",
   "execution_count": 35,
   "id": "fc61e9ab",
   "metadata": {},
   "outputs": [],
   "source": [
    "from selenium import webdriver\n",
    "from selenium.webdriver.chrome.service import Service\n",
    "from webdriver_manager.chrome import ChromeDriverManager\n",
    "\n",
    "def set_chrome_driver():\n",
    "    chrome_options = webdriver.ChromeOptions()\n",
    "    # chrome_options.add_argument(\"--start-maximized\")\n",
    "    # chrome_options.add_argument(\"--headless\")\n",
    "    driver = webdriver.Chrome(\n",
    "        service=Service(ChromeDriverManager().install()),options=chrome_options\n",
    "    )\n",
    "    return driver   # 드라이버 가지고 오는 함수 실행"
   ]
  },
  {
   "cell_type": "markdown",
   "id": "2130694f",
   "metadata": {},
   "source": [
    "### Youtube 댓글 크롤링 후 데이터 프레임 생성"
   ]
  },
  {
   "cell_type": "code",
   "execution_count": 24,
   "id": "72f244ac",
   "metadata": {},
   "outputs": [],
   "source": [
    "from bs4 import BeautifulSoup"
   ]
  },
  {
   "cell_type": "code",
   "execution_count": 57,
   "id": "b3a449a9",
   "metadata": {},
   "outputs": [],
   "source": [
    "import time\n",
    "from selenium.webdriver.common.by import By   \n",
    "from selenium.webdriver.common.keys import Keys\n",
    "from selenium.webdriver.support.ui import WebDriverWait\n",
    "from selenium.webdriver.support import expected_conditions as EC\n",
    "from selenium.common.exceptions import TimeoutException\n",
    "\n",
    "driver = set_chrome_driver()\n",
    "driver.get(\"https://www.youtube.com/watch?v=HosW0gulISQ\")\n",
    "\n",
    "time.sleep(5)\n",
    "\n",
    "# 닫기 버튼\n",
    "WebDriverWait(driver,10).until(EC.presence_of_element_located((By.XPATH,'//*[@id=\"dismiss-button\"]/yt-button-shape/button/yt-touch-feedback-shape/div/div[2]'))).click()\n",
    "\n",
    "\n",
    "# 현재 문서 높이\n",
    "prev_height = driver.execute_script(\"return document.documentElement.scrollHeight\")\n",
    "\n",
    "# 스크롤 이동 시간 간격\n",
    "interval = 5\n",
    "\n",
    "while True:\n",
    "\n",
    "    # 스크롤 이동\n",
    "    driver.execute_script(\"window.scrollTo(0,document.documentElement.scrollHeight)\")\n",
    "\n",
    "    # 페이지 로딩 대기\n",
    "    time.sleep(interval)\n",
    "\n",
    "    # 스크롤이 진행된 후 현재 문서 높이\n",
    "    curr_height = driver.execute_script(\"return document.documentElement.scrollHeight\")\n",
    "\n",
    "    if curr_height == prev_height:\n",
    "        break\n",
    "\n",
    "    prev_height = curr_height\n",
    "\n",
    "\n",
    "time.sleep(2)\n",
    "\n",
    "soup = BeautifulSoup(driver.page_source,\"lxml\")\n"
   ]
  },
  {
   "cell_type": "code",
   "execution_count": 58,
   "id": "b170eacd",
   "metadata": {},
   "outputs": [
    {
     "name": "stdout",
     "output_type": "stream",
     "text": [
      "1265 1265\n"
     ]
    }
   ],
   "source": [
    "# 파싱 - id, 내용\n",
    "\n",
    "# 작성자 : #author-text > span\n",
    "# 내용 : #content-text\n",
    "\n",
    "author_list = soup.select(\"#author-text > span\")\n",
    "contents = soup.select(\"#content-text\")\n",
    "\n",
    "print(len(author_list),len(contents))"
   ]
  },
  {
   "cell_type": "code",
   "execution_count": 59,
   "id": "a593c395",
   "metadata": {},
   "outputs": [],
   "source": [
    "# 태그 제거\n",
    "\n",
    "author_new = []\n",
    "contents_new = []\n",
    "\n",
    "for i in range(len(author_list)):\n",
    "    # 작성자 가져오기\n",
    "    author = author_list[i].text\n",
    "    author = author.replace(\"\\n\",\"\")\n",
    "    author = author.replace(\"\\t\",\"\")\n",
    "    author = author.replace(\"    \",\" \")\n",
    "    author_new.append(author)\n",
    "\n",
    "    # 내용 가져오기\n",
    "    content = contents[i].text\n",
    "    content = content.replace(\"\\n\",\"\")\n",
    "    content = content.replace(\"\\t\",\"\")\n",
    "    content = content.replace(\"    \",\" \")\n",
    "    contents_new.append(content)"
   ]
  },
  {
   "cell_type": "code",
   "execution_count": 60,
   "id": "a9fbe4f7",
   "metadata": {},
   "outputs": [
    {
     "data": {
      "text/html": [
       "<div>\n",
       "<style scoped>\n",
       "    .dataframe tbody tr th:only-of-type {\n",
       "        vertical-align: middle;\n",
       "    }\n",
       "\n",
       "    .dataframe tbody tr th {\n",
       "        vertical-align: top;\n",
       "    }\n",
       "\n",
       "    .dataframe thead th {\n",
       "        text-align: right;\n",
       "    }\n",
       "</style>\n",
       "<table border=\"1\" class=\"dataframe\">\n",
       "  <thead>\n",
       "    <tr style=\"text-align: right;\">\n",
       "      <th></th>\n",
       "      <th>author</th>\n",
       "      <th>comment</th>\n",
       "    </tr>\n",
       "  </thead>\n",
       "  <tbody>\n",
       "    <tr>\n",
       "      <th>0</th>\n",
       "      <td>[\\n              @user-vj4lt5vu2r\\n            ]</td>\n",
       "      <td>[[\"성공한 사람에게는 추억을\"], [\\n], [\"성공할려는 자에게는 용기를\"]]</td>\n",
       "    </tr>\n",
       "    <tr>\n",
       "      <th>1</th>\n",
       "      <td>[\\n              @Jerjeon\\n            ]</td>\n",
       "      <td>[와 진짜 영화 한장면 넣어놓은거 같음..전율이 미쳤음...와...소름돋는다]</td>\n",
       "    </tr>\n",
       "    <tr>\n",
       "      <th>2</th>\n",
       "      <td>[\\n              @user-yz5ti1wp3u\\n            ]</td>\n",
       "      <td>[[데뷔할 때만 해도 20대였던 크리스와 멤버들..], [\\n], [어느덧 벌써 4...</td>\n",
       "    </tr>\n",
       "    <tr>\n",
       "      <th>3</th>\n",
       "      <td>[\\n              @user-hd8vz7ww7w\\n            ]</td>\n",
       "      <td>[진짜 들을 때마다 매순간 빠짐없이 벅차오르는 개미친 노래 .., ㄹㅇ 죽기 전에는...</td>\n",
       "    </tr>\n",
       "    <tr>\n",
       "      <th>4</th>\n",
       "      <td>[\\n              @qjsdurwhk\\n            ]</td>\n",
       "      <td>[10년 넘게 들어도 질리지 않는 명곡...]</td>\n",
       "    </tr>\n",
       "  </tbody>\n",
       "</table>\n",
       "</div>"
      ],
      "text/plain": [
       "                                             author  \\\n",
       "0  [\\n              @user-vj4lt5vu2r\\n            ]   \n",
       "1          [\\n              @Jerjeon\\n            ]   \n",
       "2  [\\n              @user-yz5ti1wp3u\\n            ]   \n",
       "3  [\\n              @user-hd8vz7ww7w\\n            ]   \n",
       "4        [\\n              @qjsdurwhk\\n            ]   \n",
       "\n",
       "                                             comment  \n",
       "0      [[\"성공한 사람에게는 추억을\"], [\\n], [\"성공할려는 자에게는 용기를\"]]  \n",
       "1        [와 진짜 영화 한장면 넣어놓은거 같음..전율이 미쳤음...와...소름돋는다]  \n",
       "2  [[데뷔할 때만 해도 20대였던 크리스와 멤버들..], [\\n], [어느덧 벌써 4...  \n",
       "3  [진짜 들을 때마다 매순간 빠짐없이 벅차오르는 개미친 노래 .., ㄹㅇ 죽기 전에는...  \n",
       "4                          [10년 넘게 들어도 질리지 않는 명곡...]  "
      ]
     },
     "execution_count": 60,
     "metadata": {},
     "output_type": "execute_result"
    }
   ],
   "source": [
    "df = pd.DataFrame({\"author\":author_list, \"comment\":contents})\n",
    "df.head()"
   ]
  },
  {
   "cell_type": "code",
   "execution_count": 61,
   "id": "b792f61f",
   "metadata": {},
   "outputs": [],
   "source": [
    "df.to_csv(\"./youtube.csv\", index=False)"
   ]
  },
  {
   "cell_type": "markdown",
   "id": "6a35348d",
   "metadata": {},
   "source": [
    "#### [참고] 전체 스크롤의 크기 확인하기"
   ]
  },
  {
   "cell_type": "code",
   "execution_count": null,
   "id": "54de3efa",
   "metadata": {},
   "outputs": [],
   "source": [
    "# body 태그\n",
    "height = driver.execute_script(\"return document.body.scrollHeight\")\n",
    "print(\"body_scrollHeight\", height)\n",
    "\n",
    "# html 태그\n",
    "doc_height = driver.execute_script(\"return document.documentElement.scrollHeight\")\n",
    "print(\"documentElement_scrollHeight\", doc_height)"
   ]
  },
  {
   "cell_type": "code",
   "execution_count": null,
   "id": "2524f7cc",
   "metadata": {},
   "outputs": [],
   "source": []
  },
  {
   "cell_type": "code",
   "execution_count": null,
   "id": "501cbf8c",
   "metadata": {},
   "outputs": [],
   "source": []
  },
  {
   "cell_type": "code",
   "execution_count": null,
   "id": "e8e185f8",
   "metadata": {},
   "outputs": [],
   "source": []
  },
  {
   "cell_type": "code",
   "execution_count": null,
   "id": "31631591",
   "metadata": {},
   "outputs": [],
   "source": []
  },
  {
   "cell_type": "code",
   "execution_count": null,
   "id": "225690a1",
   "metadata": {},
   "outputs": [],
   "source": []
  },
  {
   "cell_type": "code",
   "execution_count": null,
   "id": "ee050309",
   "metadata": {},
   "outputs": [],
   "source": []
  },
  {
   "cell_type": "code",
   "execution_count": null,
   "id": "e6ea32ef",
   "metadata": {},
   "outputs": [],
   "source": []
  },
  {
   "cell_type": "code",
   "execution_count": null,
   "id": "0852d4bb",
   "metadata": {},
   "outputs": [],
   "source": []
  }
 ],
 "metadata": {
  "kernelspec": {
   "display_name": "Python 3 (ipykernel)",
   "language": "python",
   "name": "python3"
  },
  "language_info": {
   "codemirror_mode": {
    "name": "ipython",
    "version": 3
   },
   "file_extension": ".py",
   "mimetype": "text/x-python",
   "name": "python",
   "nbconvert_exporter": "python",
   "pygments_lexer": "ipython3",
   "version": "3.11.4"
  }
 },
 "nbformat": 4,
 "nbformat_minor": 5
}
