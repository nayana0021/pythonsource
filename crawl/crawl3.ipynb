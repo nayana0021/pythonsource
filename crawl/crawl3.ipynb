{
 "cells": [
  {
   "cell_type": "code",
   "execution_count": null,
   "metadata": {},
   "outputs": [],
   "source": [
    "# 요청(requests) ==> 결과가 html 로 넘어오는 경우\n",
    "# html 에서 원하는 정보 찾기 => 파싱\n",
    "\n",
    "# BeautifulSoup 라이브러리 사용\n",
    "# pip install beautifulsoup4\n",
    "# parser 지정하게 되어있음\n",
    "# 기본 파서 html.parset 설치 필요 없음\n",
    "#         lxml 파서 설치 필요   pip install lxml"
   ]
  },
  {
   "cell_type": "code",
   "execution_count": 26,
   "metadata": {},
   "outputs": [
    {
     "name": "stdout",
     "output_type": "stream",
     "text": [
      "<h3 class=\"tit_view\" data-translation=\"true\">'43번째' 극장판 도라에몽...만약 음악이 사라진다면?</h3>\n",
      "'43번째' 극장판 도라에몽...만약 음악이 사라진다면?\n",
      "'43번째' 극장판 도라에몽...만약 음악이 사라진다면?\n",
      "{'class': ['tit_view'], 'data-translation': 'true'}\n"
     ]
    }
   ],
   "source": [
    "import requests # 파싱을 하는데 json 으로 넘어오지 않는 경우 쓰는 라이브러리\n",
    "from bs4 import BeautifulSoup   # 파서\n",
    "\n",
    "r = requests.get(\"https://v.daum.net/v/20230706172030723\")\n",
    "# 두번재 인자로 파서 지정\n",
    "# html.parser, lxml, lxml-xml, html5lib\n",
    "soup = BeautifulSoup(r.text, \"lxml\")    #r.text 를 하면 텍스트로 넘오어는데 파서 지정옵션을 줘서 밑 내용과 같이 태그에 접근할수있도록 함\n",
    "\n",
    "# print(soup)\n",
    "# print(soup.head)\n",
    "# print(soup.title)\n",
    "# print(soup.body)\n",
    "print(soup.h3)  # 처음 만나는 h3 태그 가져오기\n",
    "print(soup.h3.string)   # string 을 쓰거나\n",
    "print(soup.h3.get_text())   # get_text() 를 쓰니 h3 태그 안의 내용을 가져옴 / 두개로 출력해본 이유는 내용이 좀 다를수있음\n",
    "print(soup.h3.attrs)    # h3 태그의 속성 가져오기\n"
   ]
  },
  {
   "cell_type": "code",
   "execution_count": 27,
   "metadata": {},
   "outputs": [
    {
     "name": "stdout",
     "output_type": "stream",
     "text": [
      "<html>\n",
      " <head>\n",
      "  <title>\n",
      "   The Dormouse's story\n",
      "  </title>\n",
      " </head>\n",
      " <body>\n",
      "  <h1>\n",
      "   H1 Area\n",
      "  </h1>\n",
      "  <p class=\"title\">\n",
      "   <b>\n",
      "    The Dormouse's story\n",
      "   </b>\n",
      "  </p>\n",
      "  <p class=\"story\">\n",
      "   Once upon a time there were three little sisters; and their names were\n",
      "   <a class=\"sister\" href=\"http://example.com/elsie\" id=\"link1\">\n",
      "    Elsie\n",
      "   </a>\n",
      "   ,\n",
      "   <a class=\"sister\" href=\"http://example.com/lacie\" id=\"link2\">\n",
      "    Lacie\n",
      "   </a>\n",
      "   and\n",
      "   <a class=\"sister\" href=\"http://example.com/tillie\" id=\"link2\">\n",
      "    Tillie\n",
      "   </a>\n",
      "   ; and they lived at the bottom of a well.\n",
      "  </p>\n",
      "  <p class=\"story\">\n",
      "   ...\n",
      "  </p>\n",
      " </body>\n",
      "</html>\n",
      "\n"
     ]
    }
   ],
   "source": [
    "# story.html\n",
    "\n",
    "with open(\"./story.html\",\"r\") as f:\n",
    "    html = f.read()\n",
    "\n",
    "soup = BeautifulSoup(html,\"html.parser\")\n",
    "print(soup.prettify())"
   ]
  },
  {
   "cell_type": "code",
   "execution_count": 28,
   "metadata": {},
   "outputs": [
    {
     "name": "stdout",
     "output_type": "stream",
     "text": [
      "<title>The Dormouse's story</title>\n",
      "The Dormouse's story\n",
      "<head>\n",
      "<title>The Dormouse's story</title>\n",
      "</head>\n"
     ]
    }
   ],
   "source": [
    "# 태그를 이용한 정보 찾기\n",
    "\n",
    "# title 태그 찾기\n",
    "print(soup.title)\n",
    "# title 태그가 가지고 있는 내용 찾기\n",
    "print(soup.title.string)\n",
    "# title 태그의 부모 찾기\n",
    "print(soup.title.parent)"
   ]
  },
  {
   "cell_type": "code",
   "execution_count": 29,
   "metadata": {},
   "outputs": [
    {
     "name": "stdout",
     "output_type": "stream",
     "text": [
      "<h1>H1 Area</h1>\n",
      "H1 Area\n"
     ]
    }
   ],
   "source": [
    "# h1 태그 찾기\n",
    "print(soup.h1)\n",
    "print(soup.h1.string)"
   ]
  },
  {
   "cell_type": "code",
   "execution_count": 31,
   "metadata": {},
   "outputs": [
    {
     "name": "stdout",
     "output_type": "stream",
     "text": [
      "<p class=\"title\">\n",
      "<b> The Dormouse's story </b>\n",
      "</p>\n",
      "None\n",
      "The Dormouse's story\n",
      "['title']\n"
     ]
    }
   ],
   "source": [
    "# p 태그 찾기 - 가장 처음 만나는 p 태그 찾기\n",
    "print(soup.p)\n",
    "print(soup.string)\n",
    "print(soup.p.get_text().strip())    # 공백제거\n",
    "print(soup.p[\"class\"])  # 속성 찾기(class 속성 찾기) 결과가 리스트로 돌아옴(하나만 있어도 리스트)"
   ]
  },
  {
   "cell_type": "code",
   "execution_count": 33,
   "metadata": {},
   "outputs": [
    {
     "name": "stdout",
     "output_type": "stream",
     "text": [
      "<b> The Dormouse's story </b>\n",
      " The Dormouse's story \n"
     ]
    }
   ],
   "source": [
    "# b 태그 찾기\n",
    "print(soup.b)\n",
    "print(soup.b.string)"
   ]
  },
  {
   "cell_type": "code",
   "execution_count": 35,
   "metadata": {},
   "outputs": [
    {
     "name": "stdout",
     "output_type": "stream",
     "text": [
      "<h1>H1 Area</h1>\n",
      "H1 Area\n"
     ]
    }
   ],
   "source": [
    "\n",
    "# find() : 가장 처음 만나는 태그\n",
    "# find_all() : 모든 태그\n",
    "\n",
    "print(soup.find(\"h1\"))\n",
    "print(soup.find(\"h1\").string)"
   ]
  },
  {
   "cell_type": "code",
   "execution_count": 37,
   "metadata": {},
   "outputs": [
    {
     "name": "stdout",
     "output_type": "stream",
     "text": [
      "<p class=\"title\">\n",
      "<b> The Dormouse's story </b>\n",
      "</p>\n",
      "<p class=\"story\">\n",
      "      Once upon a time there were three little sisters; and their names were\n",
      "      <a class=\"sister\" href=\"http://example.com/elsie\" id=\"link1\"> Elsie </a>\n",
      "      ,\n",
      "      <a class=\"sister\" href=\"http://example.com/lacie\" id=\"link2\"> Lacie </a>\n",
      "      and\n",
      "      <a class=\"sister\" href=\"http://example.com/tillie\" id=\"link2\"> Tillie </a>\n",
      "      ; and they lived at the bottom of a well.\n",
      "    </p>\n",
      "<p class=\"story\">...</p>\n"
     ]
    }
   ],
   "source": [
    "# 찾은 태그가 하나여도 결과는 무조건 리스트임\n",
    "# print(soup.find_all(\"p\"))\n",
    "for tag in soup.find_all(\"p\"):  # 리스트로 들어올거니까 for 문을 돌려도되지않냐\n",
    "    print(tag)"
   ]
  },
  {
   "cell_type": "code",
   "execution_count": 38,
   "metadata": {},
   "outputs": [
    {
     "name": "stdout",
     "output_type": "stream",
     "text": [
      "[<p class=\"story\">\n",
      "      Once upon a time there were three little sisters; and their names were\n",
      "      <a class=\"sister\" href=\"http://example.com/elsie\" id=\"link1\"> Elsie </a>\n",
      "      ,\n",
      "      <a class=\"sister\" href=\"http://example.com/lacie\" id=\"link2\"> Lacie </a>\n",
      "      and\n",
      "      <a class=\"sister\" href=\"http://example.com/tillie\" id=\"link2\"> Tillie </a>\n",
      "      ; and they lived at the bottom of a well.\n",
      "    </p>, <p class=\"story\">...</p>]\n"
     ]
    }
   ],
   "source": [
    "print(soup.find_all(\"p\",class_=\"story\"))    # p 를 찾는데 클래스명이 story 인 태그를 찾아로도록 조건을 줄 수 있음"
   ]
  },
  {
   "cell_type": "code",
   "execution_count": 44,
   "metadata": {},
   "outputs": [
    {
     "name": "stdout",
     "output_type": "stream",
     "text": [
      "[<a class=\"sister\" href=\"http://example.com/elsie\" id=\"link1\"> Elsie </a>, <a class=\"sister\" href=\"http://example.com/lacie\" id=\"link2\"> Lacie </a>, <a class=\"sister\" href=\"http://example.com/tillie\" id=\"link2\"> Tillie </a>]\n",
      "[<a class=\"sister\" href=\"http://example.com/elsie\" id=\"link1\"> Elsie </a>, <a class=\"sister\" href=\"http://example.com/lacie\" id=\"link2\"> Lacie </a>, <a class=\"sister\" href=\"http://example.com/tillie\" id=\"link2\"> Tillie </a>]\n",
      "http://example.com/elsie\n",
      "http://example.com/lacie\n",
      "http://example.com/tillie\n",
      "[<a class=\"sister\" href=\"http://example.com/elsie\" id=\"link1\"> Elsie </a>, <a class=\"sister\" href=\"http://example.com/lacie\" id=\"link2\"> Lacie </a>]\n",
      "[]\n"
     ]
    }
   ],
   "source": [
    "print(soup.find_all(\"a\"))   # 리스트 구조\n",
    "print(soup.find_all(\"a\", class_=\"sister\"))\n",
    "\n",
    "for link in soup.find_all(\"a\"):\n",
    "    # print(link[\"href\"])\n",
    "    print(link.get(\"href\")) # href 를 안 가지고 있을 경우 에러나는 것을 막기위해 get을 사용해도 됨\n",
    "\n",
    "\n",
    "print(soup.find_all(\"a\",limit=2))   # limit 옵션을 줘서 2개만 가져오라고 할 수 있음\n",
    "print(soup.find_all(\"a\",string=[\"Elsie\"]))  # 못 찾아옴 - 앞 뒤 공백있음\n",
    "\n",
    "soup.find"
   ]
  },
  {
   "cell_type": "code",
   "execution_count": null,
   "metadata": {},
   "outputs": [],
   "source": []
  }
 ],
 "metadata": {
  "kernelspec": {
   "display_name": "pythonsource",
   "language": "python",
   "name": "python3"
  },
  "language_info": {
   "codemirror_mode": {
    "name": "ipython",
    "version": 3
   },
   "file_extension": ".py",
   "mimetype": "text/x-python",
   "name": "python",
   "nbconvert_exporter": "python",
   "pygments_lexer": "ipython3",
   "version": "3.11.4"
  },
  "orig_nbformat": 4
 },
 "nbformat": 4,
 "nbformat_minor": 2
}
