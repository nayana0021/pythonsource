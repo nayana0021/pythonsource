{
 "cells": [
  {
   "attachments": {},
   "cell_type": "markdown",
   "metadata": {},
   "source": [
    "### SQLite\n",
    "    - RDBMS(관계형 데이터 베이스)\n",
    "    - 서버가 아니라 응용 프로그램에 넣고 사용하는 가벼운 데이터베이스\n",
    "    - python, 핸드폰, 스프링 부트 "
   ]
  },
  {
   "cell_type": "code",
   "execution_count": 1,
   "metadata": {},
   "outputs": [
    {
     "name": "stdout",
     "output_type": "stream",
     "text": [
      "sqlite3 version 2.6.0\n",
      "sqlite3 version 3.42.0\n",
      "date 2023-06-23 10:41:50\n"
     ]
    }
   ],
   "source": [
    "import sqlite3\n",
    "import datetime\n",
    "\n",
    "print(\"sqlite3 version\", sqlite3.version)\n",
    "print(\"sqlite3 version\", sqlite3.sqlite_version)\n",
    "\n",
    "now = datetime.datetime.now()   # 모듈명.클래스명.메소드명\n",
    "nowDateTime = now.strftime(\"%Y-%m-%d %H:%M:%S\")\n",
    "print(\"date\", nowDateTime)"
   ]
  },
  {
   "cell_type": "code",
   "execution_count": 2,
   "metadata": {},
   "outputs": [
    {
     "name": "stdout",
     "output_type": "stream",
     "text": [
      "2023-06-23 10:46:35.998946\n"
     ]
    }
   ],
   "source": [
    "from datetime import datetime\n",
    "print(datetime.now())   # 초는 밀리세컨드 단위까지 나옴"
   ]
  },
  {
   "attachments": {},
   "cell_type": "markdown",
   "metadata": {},
   "source": [
    "### 데이터베이스 생성\n",
    "- 커넥션 받아서 DB 생성\n",
    "- 커넥션을 통해서 커서를 얻어옴\n",
    "- 커서를 통해서 sql 구문을 실행한다"
   ]
  },
  {
   "cell_type": "code",
   "execution_count": 3,
   "metadata": {},
   "outputs": [],
   "source": [
    "conn = sqlite3.connect(\"/Users/youngkyung/pythonsource/resource/test.db\",isolation_level=None)"
   ]
  },
  {
   "cell_type": "code",
   "execution_count": 4,
   "metadata": {},
   "outputs": [],
   "source": [
    "cursor = conn.cursor()  # 커서를 생성해서 작업해야한다"
   ]
  },
  {
   "cell_type": "code",
   "execution_count": 5,
   "metadata": {},
   "outputs": [
    {
     "data": {
      "text/plain": [
       "<sqlite3.Cursor at 0x1114123c0>"
      ]
     },
     "execution_count": 5,
     "metadata": {},
     "output_type": "execute_result"
    }
   ],
   "source": [
    "cursor.execute(\"create table if not exists users(id integer primary key, username test, email text,\"\n",
    "               \" phone text, website test, regdate text)\")"
   ]
  },
  {
   "cell_type": "code",
   "execution_count": 14,
   "metadata": {},
   "outputs": [
    {
     "data": {
      "text/plain": [
       "<sqlite3.Cursor at 0x1114123c0>"
      ]
     },
     "execution_count": 14,
     "metadata": {},
     "output_type": "execute_result"
    }
   ],
   "source": [
    "cursor.execute(\"insert into users(id,username,email,phone,website,regdate) \"\n",
    "               \"values(1,'Kim', 'kim@naver.com', '010-1234-1234', 'kim.com',?)\",(nowDateTime,)) # 물음표 처리 nowDateTime 튜플임 - 튜플 하나일 때 ,(콤마)넣어줘야 함"
   ]
  },
  {
   "cell_type": "code",
   "execution_count": 15,
   "metadata": {},
   "outputs": [
    {
     "data": {
      "text/plain": [
       "<sqlite3.Cursor at 0x1114123c0>"
      ]
     },
     "execution_count": 15,
     "metadata": {},
     "output_type": "execute_result"
    }
   ],
   "source": [
    "cursor.execute(\"insert into users(id,username,email,phone,website,regdate) \"    # 데이터를 넣을 때 튜플 구조로 넣을 수 있음\n",
    "               \"values(?,?,?,?,?,?)\",(2, 'Park', 'Park@naver.com', '010-4567-4567', 'Park.com',nowDateTime))"
   ]
  },
  {
   "cell_type": "code",
   "execution_count": 16,
   "metadata": {},
   "outputs": [
    {
     "data": {
      "text/plain": [
       "<sqlite3.Cursor at 0x1114123c0>"
      ]
     },
     "execution_count": 16,
     "metadata": {},
     "output_type": "execute_result"
    }
   ],
   "source": [
    "userList = ((3, 'Hong', 'Hong@naver.com', '010-3421-4321', 'Hong.com',nowDateTime),\n",
    "            (4, 'Cho', 'Cho@naver.com', '010-2233-3344', 'Cho.com',nowDateTime),\n",
    "            (5, 'Yoo', 'Yoo@naver.com', '010-5566-7788', 'Yoo.com',nowDateTime))\n",
    "\n",
    "cursor.executemany(\"insert into users(id,username,email,phone,website,regdate) \"  \n",
    "               \"values(?,?,?,?,?,?)\", userList)"
   ]
  },
  {
   "cell_type": "code",
   "execution_count": 9,
   "metadata": {},
   "outputs": [
    {
     "data": {
      "text/plain": [
       "<sqlite3.Cursor at 0x1114123c0>"
      ]
     },
     "execution_count": 9,
     "metadata": {},
     "output_type": "execute_result"
    }
   ],
   "source": [
    "cursor.execute(\"delete from users\") # auto commit 으로 바로 실행됨"
   ]
  },
  {
   "cell_type": "code",
   "execution_count": 13,
   "metadata": {},
   "outputs": [
    {
     "data": {
      "text/plain": [
       "5"
      ]
     },
     "execution_count": 13,
     "metadata": {},
     "output_type": "execute_result"
    }
   ],
   "source": [
    "# rowcount : 삭제된 행 개수\n",
    "\n",
    "cursor.execute(\"delete from users\").rowcount"
   ]
  },
  {
   "attachments": {},
   "cell_type": "markdown",
   "metadata": {},
   "source": [
    "##### 데이터 조회 - fetchone(), fetchmany(), fetchall()"
   ]
  },
  {
   "cell_type": "code",
   "execution_count": 32,
   "metadata": {},
   "outputs": [
    {
     "data": {
      "text/plain": [
       "<sqlite3.Cursor at 0x1114123c0>"
      ]
     },
     "execution_count": 32,
     "metadata": {},
     "output_type": "execute_result"
    }
   ],
   "source": [
    "cursor.execute(\"select * from users\")"
   ]
  },
  {
   "cell_type": "code",
   "execution_count": 28,
   "metadata": {},
   "outputs": [
    {
     "data": {
      "text/plain": [
       "(1, 'Kim', 'kim@naver.com', '010-1234-1234', 'kim.com', '2023-06-23 10:41:50')"
      ]
     },
     "execution_count": 28,
     "metadata": {},
     "output_type": "execute_result"
    }
   ],
   "source": [
    "cursor.fetchone()   # 하나 가져옴"
   ]
  },
  {
   "cell_type": "code",
   "execution_count": 29,
   "metadata": {},
   "outputs": [
    {
     "data": {
      "text/plain": [
       "[(2,\n",
       "  'Park',\n",
       "  'Park@naver.com',\n",
       "  '010-4567-4567',\n",
       "  'Park.com',\n",
       "  '2023-06-23 10:41:50'),\n",
       " (3,\n",
       "  'Hong',\n",
       "  'Hong@naver.com',\n",
       "  '010-3421-4321',\n",
       "  'Hong.com',\n",
       "  '2023-06-23 10:41:50')]"
      ]
     },
     "execution_count": 29,
     "metadata": {},
     "output_type": "execute_result"
    }
   ],
   "source": [
    "cursor.fetchmany(size=2)"
   ]
  },
  {
   "cell_type": "code",
   "execution_count": 30,
   "metadata": {},
   "outputs": [
    {
     "data": {
      "text/plain": [
       "[(4,\n",
       "  'Cho',\n",
       "  'Cho@naver.com',\n",
       "  '010-2233-3344',\n",
       "  'Cho.com',\n",
       "  '2023-06-23 10:41:50'),\n",
       " (5,\n",
       "  'Yoo',\n",
       "  'Yoo@naver.com',\n",
       "  '010-5566-7788',\n",
       "  'Yoo.com',\n",
       "  '2023-06-23 10:41:50')]"
      ]
     },
     "execution_count": 30,
     "metadata": {},
     "output_type": "execute_result"
    }
   ],
   "source": [
    "cursor.fetchall()"
   ]
  },
  {
   "cell_type": "code",
   "execution_count": 33,
   "metadata": {},
   "outputs": [
    {
     "name": "stdout",
     "output_type": "stream",
     "text": [
      "(1, 'Kim', 'kim@naver.com', '010-1234-1234', 'kim.com', '2023-06-23 10:41:50')\n",
      "(2, 'Park', 'Park@naver.com', '010-4567-4567', 'Park.com', '2023-06-23 10:41:50')\n",
      "(3, 'Hong', 'Hong@naver.com', '010-3421-4321', 'Hong.com', '2023-06-23 10:41:50')\n",
      "(4, 'Cho', 'Cho@naver.com', '010-2233-3344', 'Cho.com', '2023-06-23 10:41:50')\n",
      "(5, 'Yoo', 'Yoo@naver.com', '010-5566-7788', 'Yoo.com', '2023-06-23 10:41:50')\n"
     ]
    }
   ],
   "source": [
    "for c in cursor.fetchall():\n",
    "    print(c)"
   ]
  },
  {
   "cell_type": "code",
   "execution_count": 34,
   "metadata": {},
   "outputs": [
    {
     "name": "stdout",
     "output_type": "stream",
     "text": [
      "(5, 'Yoo', 'Yoo@naver.com', '010-5566-7788', 'Yoo.com', '2023-06-23 10:41:50')\n",
      "(4, 'Cho', 'Cho@naver.com', '010-2233-3344', 'Cho.com', '2023-06-23 10:41:50')\n",
      "(3, 'Hong', 'Hong@naver.com', '010-3421-4321', 'Hong.com', '2023-06-23 10:41:50')\n",
      "(2, 'Park', 'Park@naver.com', '010-4567-4567', 'Park.com', '2023-06-23 10:41:50')\n",
      "(1, 'Kim', 'kim@naver.com', '010-1234-1234', 'kim.com', '2023-06-23 10:41:50')\n"
     ]
    }
   ],
   "source": [
    "for c in cursor.execute(\"select * from users order by id desc\"):\n",
    "    print(c)\n"
   ]
  },
  {
   "cell_type": "code",
   "execution_count": 35,
   "metadata": {},
   "outputs": [
    {
     "ename": "ProgrammingError",
     "evalue": "parameters are of unsupported type",
     "output_type": "error",
     "traceback": [
      "\u001b[0;31m---------------------------------------------------------------------------\u001b[0m",
      "\u001b[0;31mProgrammingError\u001b[0m                          Traceback (most recent call last)",
      "Cell \u001b[0;32mIn[35], line 1\u001b[0m\n\u001b[0;32m----> 1\u001b[0m cursor\u001b[39m.\u001b[39;49mexecute(\u001b[39m\"\u001b[39;49m\u001b[39mselect * from users where id=?\u001b[39;49m\u001b[39m\"\u001b[39;49m, \u001b[39m3\u001b[39;49m)\n\u001b[1;32m      2\u001b[0m cursor\u001b[39m.\u001b[39mfetchall()\n",
      "\u001b[0;31mProgrammingError\u001b[0m: parameters are of unsupported type"
     ]
    }
   ],
   "source": [
    "cursor.execute(\"select * from users where id=?\", 3) \n",
    "cursor.fetchall()"
   ]
  },
  {
   "cell_type": "code",
   "execution_count": 36,
   "metadata": {},
   "outputs": [
    {
     "data": {
      "text/plain": [
       "[(3,\n",
       "  'Hong',\n",
       "  'Hong@naver.com',\n",
       "  '010-3421-4321',\n",
       "  'Hong.com',\n",
       "  '2023-06-23 10:41:50')]"
      ]
     },
     "execution_count": 36,
     "metadata": {},
     "output_type": "execute_result"
    }
   ],
   "source": [
    "cursor.execute(\"select * from users where id=?\", (3,)) # 물음표 처리 할때 하나 넣고싶다면 튜플의 형태로 넣는다 안그러면 에러\n",
    "cursor.fetchall()"
   ]
  },
  {
   "cell_type": "code",
   "execution_count": 37,
   "metadata": {},
   "outputs": [
    {
     "data": {
      "text/plain": [
       "[(4,\n",
       "  'Cho',\n",
       "  'Cho@naver.com',\n",
       "  '010-2233-3344',\n",
       "  'Cho.com',\n",
       "  '2023-06-23 10:41:50')]"
      ]
     },
     "execution_count": 37,
     "metadata": {},
     "output_type": "execute_result"
    }
   ],
   "source": [
    "cursor.execute(\"select * from users where id=%d\" % 4) # %가 들어오는 형태라면(자리잡는 개념) 이런식으로\n",
    "cursor.fetchall()"
   ]
  },
  {
   "cell_type": "code",
   "execution_count": 38,
   "metadata": {},
   "outputs": [
    {
     "data": {
      "text/plain": [
       "[(3,\n",
       "  'Hong',\n",
       "  'Hong@naver.com',\n",
       "  '010-3421-4321',\n",
       "  'Hong.com',\n",
       "  '2023-06-23 10:41:50'),\n",
       " (5,\n",
       "  'Yoo',\n",
       "  'Yoo@naver.com',\n",
       "  '010-5566-7788',\n",
       "  'Yoo.com',\n",
       "  '2023-06-23 10:41:50')]"
      ]
     },
     "execution_count": 38,
     "metadata": {},
     "output_type": "execute_result"
    }
   ],
   "source": [
    "cursor.execute(\"select * from users where id in (?,?)\" , (3,5)) \n",
    "cursor.fetchall()"
   ]
  },
  {
   "cell_type": "code",
   "execution_count": 39,
   "metadata": {},
   "outputs": [
    {
     "data": {
      "text/plain": [
       "[(3,\n",
       "  'Hong',\n",
       "  'Hong@naver.com',\n",
       "  '010-3421-4321',\n",
       "  'Hong.com',\n",
       "  '2023-06-23 10:41:50'),\n",
       " (5,\n",
       "  'Yoo',\n",
       "  'Yoo@naver.com',\n",
       "  '010-5566-7788',\n",
       "  'Yoo.com',\n",
       "  '2023-06-23 10:41:50')]"
      ]
     },
     "execution_count": 39,
     "metadata": {},
     "output_type": "execute_result"
    }
   ],
   "source": [
    "cursor.execute(\"select * from users where id in (%d,%d)\" % (3,5)) \n",
    "cursor.fetchall()"
   ]
  },
  {
   "cell_type": "code",
   "execution_count": 40,
   "metadata": {},
   "outputs": [
    {
     "data": {
      "text/plain": [
       "<sqlite3.Cursor at 0x1114123c0>"
      ]
     },
     "execution_count": 40,
     "metadata": {},
     "output_type": "execute_result"
    }
   ],
   "source": [
    "cursor.execute(\"update users set username = ? where id = ?\", ('Young',2))"
   ]
  },
  {
   "cell_type": "code",
   "execution_count": 42,
   "metadata": {},
   "outputs": [
    {
     "data": {
      "text/plain": [
       "<sqlite3.Cursor at 0x1114123c0>"
      ]
     },
     "execution_count": 42,
     "metadata": {},
     "output_type": "execute_result"
    }
   ],
   "source": [
    "cursor.execute(\"update users set username = '%s' where id = '%d'\" % ('Park',2))"
   ]
  },
  {
   "cell_type": "code",
   "execution_count": 44,
   "metadata": {},
   "outputs": [
    {
     "data": {
      "text/plain": [
       "<sqlite3.Cursor at 0x1114123c0>"
      ]
     },
     "execution_count": 44,
     "metadata": {},
     "output_type": "execute_result"
    }
   ],
   "source": [
    "cursor.execute(\"delete from users where id=?\", (5,))"
   ]
  },
  {
   "cell_type": "code",
   "execution_count": 45,
   "metadata": {},
   "outputs": [
    {
     "data": {
      "text/plain": [
       "<sqlite3.Cursor at 0x1114123c0>"
      ]
     },
     "execution_count": 45,
     "metadata": {},
     "output_type": "execute_result"
    }
   ],
   "source": [
    "cursor.execute(\"delete from users where id=%d\" % 4)"
   ]
  },
  {
   "cell_type": "code",
   "execution_count": null,
   "metadata": {},
   "outputs": [],
   "source": []
  }
 ],
 "metadata": {
  "kernelspec": {
   "display_name": "pythonsource",
   "language": "python",
   "name": "python3"
  },
  "language_info": {
   "codemirror_mode": {
    "name": "ipython",
    "version": 3
   },
   "file_extension": ".py",
   "mimetype": "text/x-python",
   "name": "python",
   "nbconvert_exporter": "python",
   "pygments_lexer": "ipython3",
   "version": "3.11.4"
  },
  "orig_nbformat": 4
 },
 "nbformat": 4,
 "nbformat_minor": 2
}
